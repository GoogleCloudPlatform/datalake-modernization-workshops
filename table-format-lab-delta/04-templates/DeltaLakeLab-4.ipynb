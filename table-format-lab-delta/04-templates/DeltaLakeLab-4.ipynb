{
 "cells": [
  {
   "cell_type": "markdown",
   "id": "4529a790-8425-4600-841a-4b094b82eaa8",
   "metadata": {},
   "source": [
    "# Delta Lake Lab \n",
    "## Unit 4: CRUD Support\n",
    "\n",
    "This lab is powered by Dataproc Serverless Spark.\n",
    "\n",
    "In the previous unit, we -\n",
    "1. Create an unpartitioned delta table\n",
    "2. Created a partitioned delta table called loan_db.loans_by_state_delta\n",
    "3. Studied the files created & layout in the datalake\n",
    "4. Learned how to look at delta table details\n",
    "5. Looked at history (there was not any)\n",
    "6. Created a manifest file\n",
    "7. Reviewed entries in the Hive metastore\n",
    "\n",
    "In this unit, we will learn how to -\n",
    "1. Delete a record and study the delta log\n",
    "2. Insert a record and study the delta log\n",
    "3. Update a record and study the delta log\n",
    "4. Upsert and study the delta log"
   ]
  },
  {
   "cell_type": "markdown",
   "id": "1a31c4fd-d465-4f52-8e56-3775bf499abc",
   "metadata": {},
   "source": [
    "### 1. Imports"
   ]
  },
  {
   "cell_type": "code",
   "execution_count": null,
   "id": "1321bce9-178c-4065-8187-0a5728c1a370",
   "metadata": {},
   "outputs": [],
   "source": [
    "import pandas as pd\n",
    "\n",
    "from pyspark.sql.functions import month, date_format\n",
    "from pyspark.sql.types import IntegerType\n",
    "from pyspark.sql import SparkSession\n",
    "\n",
    "from delta.tables import *\n",
    "\n",
    "import warnings\n",
    "warnings.filterwarnings('ignore')"
   ]
  },
  {
   "cell_type": "markdown",
   "id": "ed295a74-ed1d-4b5d-831a-1b5dcf73c36f",
   "metadata": {},
   "source": [
    "### 2. Create a Spark session powered by Cloud Dataproc "
   ]
  },
  {
   "cell_type": "code",
   "execution_count": null,
   "id": "b383d5ab-a0b9-45ab-a232-34d88f2a0065",
   "metadata": {},
   "outputs": [],
   "source": [
    "spark = SparkSession.builder.appName('Loan Analysis').getOrCreate()\n",
    "spark"
   ]
  },
  {
   "cell_type": "markdown",
   "id": "63cd13e6-f3f5-4f2c-b4fc-d7e2660c6206",
   "metadata": {},
   "source": [
    "### 3. Declare variables"
   ]
  },
  {
   "cell_type": "code",
   "execution_count": null,
   "id": "5596e31b-749a-4702-8879-6f05f9ff0c2d",
   "metadata": {},
   "outputs": [],
   "source": [
    "project_id_output = !gcloud config list --format \"value(core.project)\" 2>/dev/null\n",
    "PROJECT_ID = project_id_output[0]\n",
    "print(\"PROJECT_ID: \", PROJECT_ID)"
   ]
  },
  {
   "cell_type": "code",
   "execution_count": null,
   "id": "471c6743-a058-462b-851a-f34323f36243",
   "metadata": {},
   "outputs": [],
   "source": [
    "project_name_output = !gcloud projects describe $PROJECT_ID | grep name | cut -d':' -f2 | xargs\n",
    "PROJECT_NAME = project_name_output[0]\n",
    "print(\"PROJECT_NAME: \", PROJECT_NAME)"
   ]
  },
  {
   "cell_type": "code",
   "execution_count": null,
   "id": "61929dc6-a083-433c-8a13-3d39d9c4a4a1",
   "metadata": {},
   "outputs": [],
   "source": [
    "project_number_output = !gcloud projects describe $PROJECT_ID | grep projectNumber | cut -d':' -f2 | xargs\n",
    "PROJECT_NUMBER = project_number_output[0]\n",
    "print(\"PROJECT_NUMBER: \", PROJECT_NUMBER)"
   ]
  },
  {
   "cell_type": "code",
   "execution_count": null,
   "id": "a5e9f96f",
   "metadata": {},
   "outputs": [],
   "source": [
    "ACCOUNT_NAME = \"YOUR_ACCOUNT_NAME\""
   ]
  },
  {
   "cell_type": "code",
   "execution_count": null,
   "id": "f8b79fd2-5243-41a4-ae87-e7f9dd87cf20",
   "metadata": {},
   "outputs": [],
   "source": [
    "DATA_LAKE_ROOT_PATH= f\"gs://dll-data-bucket-{PROJECT_NUMBER}-{ACCOUNT_NAME}\"\n",
    "DELTA_LAKE_DIR_ROOT = f\"{DATA_LAKE_ROOT_PATH}/delta-consumable\""
   ]
  },
  {
   "cell_type": "code",
   "execution_count": null,
   "id": "97b70135-a0e3-4f5b-a917-086775bc2d49",
   "metadata": {},
   "outputs": [],
   "source": [
    "!gsutil ls -r $DELTA_LAKE_DIR_ROOT"
   ]
  },
  {
   "cell_type": "markdown",
   "id": "ed74d358-e90b-46d0-b81c-1e29c25ccac5",
   "metadata": {},
   "source": [
    "### 4. Delete support"
   ]
  },
  {
   "cell_type": "code",
   "execution_count": null,
   "id": "9589abdd-d31b-44c0-a10c-49a436d65909",
   "metadata": {},
   "outputs": [],
   "source": [
    "# Get the file count\n",
    "!gsutil ls -r $DELTA_LAKE_DIR_ROOT/delta_consumable/part* | wc -l "
   ]
  },
  {
   "cell_type": "code",
   "execution_count": null,
   "id": "0bcc3cf8-6ecf-4efe-855d-b564401317bc",
   "metadata": {},
   "outputs": [],
   "source": [
    "spark.sql(\"SELECT * FROM \"+ ACCOUNT_NAME +\"_loan_db.loans_by_state_delta WHERE addr_state='IA'\").show(truncate=False)"
   ]
  },
  {
   "cell_type": "code",
   "execution_count": null,
   "id": "1f7f5fb8-70cc-4a36-be78-9158c74ff165",
   "metadata": {},
   "outputs": [],
   "source": [
    "spark.sql(\"DELETE FROM \"+ ACCOUNT_NAME +\"_loan_db.loans_by_state_delta WHERE addr_state='IA'\").show(truncate=False)"
   ]
  },
  {
   "cell_type": "code",
   "execution_count": null,
   "id": "98f13764-d150-46fe-ad8d-beb3f7267029",
   "metadata": {},
   "outputs": [],
   "source": [
    "# Get the file count\n",
    "!gsutil ls -r $DELTA_LAKE_DIR_ROOT/delta_consumable/part* | wc -l "
   ]
  },
  {
   "cell_type": "code",
   "execution_count": null,
   "id": "fe5fe9c6-bcb7-4b28-b989-cd8dac4df38d",
   "metadata": {},
   "outputs": [],
   "source": [
    "spark.sql(\"SELECT * FROM \"+ ACCOUNT_NAME +\"_loan_db.loans_by_state_delta WHERE addr_state='IA'\").show(truncate=False)"
   ]
  },
  {
   "cell_type": "markdown",
   "id": "cf842fbf-a46f-45ad-9c38-5688c4433c90",
   "metadata": {},
   "source": [
    "Lets look at the data lake:"
   ]
  },
  {
   "cell_type": "code",
   "execution_count": null,
   "id": "4acb8cb3-3843-46f5-89d7-986eb1f465a9",
   "metadata": {},
   "outputs": [],
   "source": [
    "# Note how the deleted created a json in the delta log directory\n",
    "!gsutil ls -r $DELTA_LAKE_DIR_ROOT/_delta_log/* "
   ]
  },
  {
   "cell_type": "markdown",
   "id": "ee8dcb5b-dd48-48c8-b074-198f2ed364e1",
   "metadata": {},
   "source": [
    "Lets look at the delta log:"
   ]
  },
  {
   "cell_type": "code",
   "execution_count": null,
   "id": "c5a5ab84-29d6-4ffb-a59d-dd5d0b1a82f2",
   "metadata": {},
   "outputs": [],
   "source": [
    "# This is the original log\n",
    "!gsutil cat $DELTA_LAKE_DIR_ROOT/_delta_log/00000000000000000000.json "
   ]
  },
  {
   "cell_type": "code",
   "execution_count": null,
   "id": "b20033b1-3de0-4ebc-abf2-80f60445db0d",
   "metadata": {},
   "outputs": [],
   "source": [
    "# Note the delete in this log\n",
    "!gsutil cat $DELTA_LAKE_DIR_ROOT/_delta_log/00000000000000000001.json "
   ]
  },
  {
   "cell_type": "markdown",
   "id": "17581b81-035f-43b6-a4fa-48b55ce28c8c",
   "metadata": {},
   "source": [
    "### 5. Create (Insert) support"
   ]
  },
  {
   "cell_type": "code",
   "execution_count": null,
   "id": "b35234d8-a09b-4b81-8af4-89a6406dc659",
   "metadata": {},
   "outputs": [],
   "source": [
    "# Get the file count\n",
    "!gsutil ls -r $DELTA_LAKE_DIR_ROOT/delta_consumable/part* | wc -l "
   ]
  },
  {
   "cell_type": "code",
   "execution_count": null,
   "id": "da4f7939-4668-4015-83eb-90209251ea03",
   "metadata": {},
   "outputs": [],
   "source": [
    "spark.sql(\"INSERT INTO \"+ ACCOUNT_NAME +\"_loan_db.loans_by_state_delta VALUES ('IA',222222)\")"
   ]
  },
  {
   "cell_type": "code",
   "execution_count": null,
   "id": "e98a313e-98cf-43a6-b000-626c5f3672e1",
   "metadata": {},
   "outputs": [],
   "source": [
    "spark.sql(\"SELECT * FROM \"+ ACCOUNT_NAME +\"_loan_db.loans_by_state_delta WHERE addr_state='IA'\").show(truncate=False)"
   ]
  },
  {
   "cell_type": "code",
   "execution_count": null,
   "id": "dec7d79a-db52-422d-9d1b-6bebb5eb4fb3",
   "metadata": {},
   "outputs": [],
   "source": [
    "# Get the file count\n",
    "!gsutil ls -r $DELTA_LAKE_DIR_ROOT/delta_consumable/part* | wc -l "
   ]
  },
  {
   "cell_type": "code",
   "execution_count": null,
   "id": "90acbd73-975a-4911-8afc-50dec3e0d58a",
   "metadata": {},
   "outputs": [],
   "source": [
    "# Note how the insert created a new parquet file and in the delta log, yet another json\n",
    "!gsutil ls -r $DELTA_LAKE_DIR_ROOT "
   ]
  },
  {
   "cell_type": "code",
   "execution_count": null,
   "id": "c97ea3e1-7178-48bc-bb2a-fa4e15cf21e5",
   "metadata": {},
   "outputs": [],
   "source": [
    "# Get the file count\n",
    "!gsutil ls -r $DELTA_LAKE_DIR_ROOT/delta_consumable/part* | wc -l "
   ]
  },
  {
   "cell_type": "code",
   "execution_count": null,
   "id": "61df7321-31bc-4705-a688-f0890908215c",
   "metadata": {},
   "outputs": [],
   "source": [
    "# Lets check for the insert\n",
    "!gsutil cat $DELTA_LAKE_DIR_ROOT/_delta_log/00000000000000000002.json "
   ]
  },
  {
   "cell_type": "markdown",
   "id": "4b6cc873-426e-43e6-be17-545e667f2e87",
   "metadata": {},
   "source": [
    "### 6. Update support\n",
    "\n",
    "Lets update a record & see the changes in the delta log directory"
   ]
  },
  {
   "cell_type": "code",
   "execution_count": null,
   "id": "7f386109-5142-4b18-be0d-836f45c4c745",
   "metadata": {},
   "outputs": [],
   "source": [
    "# Get the file count\n",
    "!gsutil ls -r $DELTA_LAKE_DIR_ROOT/delta_consumable/part* | wc -l "
   ]
  },
  {
   "cell_type": "code",
   "execution_count": null,
   "id": "16dcf766-cf76-4210-aa26-519fd91b9207",
   "metadata": {},
   "outputs": [],
   "source": [
    "spark.sql(\"UPDATE \"+ ACCOUNT_NAME +\"_loan_db.loans_by_state_delta SET count = 11111 WHERE addr_state='IA'\").show(truncate=False)"
   ]
  },
  {
   "cell_type": "code",
   "execution_count": null,
   "id": "9a56affe-a463-4835-a45a-51cbdeda8f20",
   "metadata": {},
   "outputs": [],
   "source": [
    "spark.sql(\"SELECT * FROM \"+ ACCOUNT_NAME +\"_loan_db.loans_by_state_delta WHERE addr_state='IA'\").show(truncate=False)"
   ]
  },
  {
   "cell_type": "code",
   "execution_count": null,
   "id": "40e4e0d8-1321-457b-90e5-7a57144e66c5",
   "metadata": {},
   "outputs": [],
   "source": [
    "# Get the file count\n",
    "!gsutil ls -r $DELTA_LAKE_DIR_ROOT/delta_consumable/part* | wc -l "
   ]
  },
  {
   "cell_type": "code",
   "execution_count": null,
   "id": "7c7a62c6-afdd-48ea-b99c-870098058395",
   "metadata": {},
   "outputs": [],
   "source": [
    "# Note how the update created a new parquet file and in the delta log, yet another json\n",
    "!gsutil ls -r $DELTA_LAKE_DIR_ROOT "
   ]
  },
  {
   "cell_type": "code",
   "execution_count": null,
   "id": "cb1066c2-e86f-4279-bf9a-84559140cda1",
   "metadata": {},
   "outputs": [],
   "source": [
    "# Lets check for the update\n",
    "!gsutil cat $DELTA_LAKE_DIR_ROOT/_delta_log/00000000000000000003.json "
   ]
  },
  {
   "cell_type": "markdown",
   "id": "b9631ffd-dc27-45ba-b629-cd91abd9fc24",
   "metadata": {},
   "source": [
    "### 7. Upsert support"
   ]
  },
  {
   "cell_type": "code",
   "execution_count": null,
   "id": "3b37f749-51b6-4b0e-b1d9-37407383590f",
   "metadata": {},
   "outputs": [],
   "source": [
    "toBeMergedRows = [('IA', 555), ('CA', 12345), ('IN', 6666)]\n",
    "toBeMergedColumns = ['addr_state', 'count']\n",
    "toBeMergedDF = spark.createDataFrame(toBeMergedRows, toBeMergedColumns)\n",
    "toBeMergedDF.createOrReplaceTempView(\"to_be_merged_table\")\n",
    "toBeMergedDF.orderBy(\"addr_state\").show(3)"
   ]
  },
  {
   "cell_type": "code",
   "execution_count": null,
   "id": "8e5e3ab0-b6da-437f-8661-9d81dc76184e",
   "metadata": {},
   "outputs": [],
   "source": [
    "# Get the file count\n",
    "!gsutil ls -r $DELTA_LAKE_DIR_ROOT/delta_consumable/part* | wc -l "
   ]
  },
  {
   "cell_type": "code",
   "execution_count": null,
   "id": "2180365c-c172-489e-8cef-d04a9707e06e",
   "metadata": {},
   "outputs": [],
   "source": [
    "spark.sql(\"DELETE FROM \"+ ACCOUNT_NAME +\"_loan_db.loans_by_state_delta WHERE addr_state='IA'\").show(truncate=False)"
   ]
  },
  {
   "cell_type": "code",
   "execution_count": null,
   "id": "c8262dc4-cfe5-478e-af6a-b62cd6cd273a",
   "metadata": {},
   "outputs": [],
   "source": [
    "spark.sql(\"SELECT addr_state,count FROM \"+ ACCOUNT_NAME +\"_loan_db.loans_by_state_delta WHERE addr_state in ('IA','CA','IN') ORDER BY addr_state\").show(truncate=False)"
   ]
  },
  {
   "cell_type": "code",
   "execution_count": null,
   "id": "c845dc15-f7dd-4c47-924f-cea130ba7c1d",
   "metadata": {},
   "outputs": [],
   "source": [
    "mergeSQLStatement = \"MERGE INTO \"+ ACCOUNT_NAME +\"_loan_db.loans_by_state_delta as d USING to_be_merged_table as m ON (d.addr_state = m.addr_state) WHEN MATCHED THEN UPDATE SET * WHEN NOT MATCHED THEN INSERT * \"\n",
    "\n",
    "print(mergeSQLStatement)\n"
   ]
  },
  {
   "cell_type": "code",
   "execution_count": null,
   "id": "23f73ea1-f822-49e7-97b1-9cfdfea0e878",
   "metadata": {},
   "outputs": [],
   "source": [
    "spark.sql(mergeSQLStatement).show(truncate=False)"
   ]
  },
  {
   "cell_type": "code",
   "execution_count": null,
   "id": "76acae37-2f19-4fbe-a17f-fd2ad8bbeed1",
   "metadata": {},
   "outputs": [],
   "source": [
    "spark.sql(\"SELECT addr_state,count FROM \"+ ACCOUNT_NAME +\"_loan_db.loans_by_state_delta WHERE addr_state in ('IA','CA','IN') ORDER BY addr_state\").show(truncate=False)"
   ]
  },
  {
   "cell_type": "code",
   "execution_count": null,
   "id": "22825289-7af6-4cf5-9345-d45aad8a3596",
   "metadata": {},
   "outputs": [],
   "source": [
    "# Get the file count\n",
    "!gsutil ls -r $DELTA_LAKE_DIR_ROOT/part* | wc -l"
   ]
  },
  {
   "cell_type": "code",
   "execution_count": null,
   "id": "aca0b5ad-b029-46da-82a6-bfce0d9d538e",
   "metadata": {},
   "outputs": [],
   "source": [
    "# Note how the update created a new parquet file and in the delta log, yet another json\n",
    "!gsutil ls -r $DELTA_LAKE_DIR_ROOT "
   ]
  },
  {
   "cell_type": "code",
   "execution_count": null,
   "id": "90a4c8f2-9521-464e-90d2-fa58b04be098",
   "metadata": {},
   "outputs": [],
   "source": [
    "# Lets check for the upsert\n",
    "!gsutil cat $DELTA_LAKE_DIR_ROOT/_delta_log/00000000000000000004.json "
   ]
  },
  {
   "cell_type": "markdown",
   "id": "038d5201-b299-4ba7-b8e2-eb3dea090421",
   "metadata": {},
   "source": [
    "### THIS CONCLUDES THIS UNIT. PROCEED TO THE NEXT NOTEBOOK"
   ]
  }
 ],
 "metadata": {
  "kernelspec": {
   "display_name": "",
   "name": ""
  },
  "language_info": {
   "codemirror_mode": {
    "name": "ipython",
    "version": 3
   },
   "file_extension": ".py",
   "mimetype": "text/x-python",
   "name": "python",
   "nbconvert_exporter": "python",
   "pygments_lexer": "ipython3",
   "version": "3.10.6"
  },
  "serverless_spark": "{\"name\":\"projects/delta-lake-lab/locations/us-central1/sessions/delta-lake-lab-13803\",\"uuid\":\"f2655fc3-8238-494e-b100-47a785085db6\",\"createTime\":\"2022-11-01T20:33:39.245614Z\",\"jupyterSession\":{},\"spark\":{},\"runtimeInfo\":{\"endpoints\":{\"Spark History Server\":\"https://smmei2wdurb7nptroshcbbgeda-dot-us-central1.dataproc.googleusercontent.com/sparkhistory/?eventLogDirFilter=f2655fc3-8238-494e-b100-47a785085db6\"}},\"state\":\"ACTIVE\",\"stateTime\":\"2022-11-01T20:35:05.784678Z\",\"creator\":\"admin@akhanolkar.altostrat.com\",\"runtimeConfig\":{\"version\":\"2.0\",\"properties\":{\"spark:spark.jars.packages\":\"io.delta:delta-core_2.13:2.1.0\",\"spark:spark.sql.catalog.spark_catalog\":\"org.apache.spark.sql.delta.catalog.DeltaCatalog\",\"spark:spark.sql.extensions\":\"io.delta.sql.DeltaSparkSessionExtension\",\"spark:spark.executor.instances\":\"2\",\"spark:spark.driver.cores\":\"4\",\"spark:spark.executor.cores\":\"4\",\"spark:spark.dynamicAllocation.executorAllocationRatio\":\"0.3\",\"spark:spark.eventLog.dir\":\"gs://dll-sphs-bucket-885979867746/f2655fc3-8238-494e-b100-47a785085db6/spark-job-history\"}},\"environmentConfig\":{\"executionConfig\":{\"serviceAccount\":\"dll-lab-sa@delta-lake-lab.iam.gserviceaccount.com\",\"subnetworkUri\":\"spark-snet\",\"idleTtl\":\"14400s\"},\"peripheralsConfig\":{\"metastoreService\":\"projects/delta-lake-lab/locations/us-central1/services/dll-hms-885979867746\",\"sparkHistoryServerConfig\":{\"dataprocCluster\":\"projects/delta-lake-lab/regions/us-central1/clusters/dll-sphs-885979867746\"}}},\"stateHistory\":[{\"state\":\"CREATING\",\"stateStartTime\":\"2022-11-01T20:33:39.245614Z\"}]}",
  "serverless_spark_kernel_name": "remote-4a2e3012d18a64755cb71093-pyspark",
  "vscode": {
   "interpreter": {
    "hash": "aee8b7b246df8f9039afb4144a1f6fd8d2ca17a180786b69acc140d282b71a49"
   }
  }
 },
 "nbformat": 4,
 "nbformat_minor": 5
}
