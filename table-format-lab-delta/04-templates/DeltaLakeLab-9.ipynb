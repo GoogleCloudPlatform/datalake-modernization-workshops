{
 "cells": [
  {
   "cell_type": "markdown",
   "id": "4529a790-8425-4600-841a-4b094b82eaa8",
   "metadata": {},
   "source": [
    "# Delta Lake Lab \n",
    "## Unit 9: Table Restore + Storage optimization with OPTIMIZE and VACUUM\n",
    "\n",
    "In the previous unit we-\n",
    "1. Learned about table clones\n",
    "\n",
    "In this unit, we will learn about-\n",
    "1. Table storage optimization with the OPTIMIZE command\n",
    "2. Restoring a table to a prior version\n",
    "2. Table storage optimization with the VACUUM command\n"
   ]
  },
  {
   "cell_type": "markdown",
   "id": "1a31c4fd-d465-4f52-8e56-3775bf499abc",
   "metadata": {},
   "source": [
    "### 1. Imports"
   ]
  },
  {
   "cell_type": "code",
   "execution_count": null,
   "id": "1321bce9-178c-4065-8187-0a5728c1a370",
   "metadata": {},
   "outputs": [],
   "source": [
    "import pandas as pd\n",
    "\n",
    "from pyspark.sql.functions import month, date_format\n",
    "from pyspark.sql.types import IntegerType\n",
    "from pyspark.sql import SparkSession\n",
    "\n",
    "from delta.tables import *\n",
    "\n",
    "import warnings\n",
    "warnings.filterwarnings('ignore')"
   ]
  },
  {
   "cell_type": "markdown",
   "id": "ed295a74-ed1d-4b5d-831a-1b5dcf73c36f",
   "metadata": {},
   "source": [
    "### 2. Create a Spark session powered by Cloud Dataproc "
   ]
  },
  {
   "cell_type": "code",
   "execution_count": null,
   "id": "b383d5ab-a0b9-45ab-a232-34d88f2a0065",
   "metadata": {},
   "outputs": [],
   "source": [
    "spark = SparkSession.builder.appName('Loan Analysis').getOrCreate()\n",
    "spark"
   ]
  },
  {
   "cell_type": "markdown",
   "id": "63cd13e6-f3f5-4f2c-b4fc-d7e2660c6206",
   "metadata": {},
   "source": [
    "### 3. Declare variables"
   ]
  },
  {
   "cell_type": "code",
   "execution_count": null,
   "id": "5596e31b-749a-4702-8879-6f05f9ff0c2d",
   "metadata": {},
   "outputs": [],
   "source": [
    "project_id_output = !gcloud config list --format \"value(core.project)\" 2>/dev/null\n",
    "PROJECT_ID = project_id_output[0]\n",
    "print(\"PROJECT_ID: \", PROJECT_ID)"
   ]
  },
  {
   "cell_type": "code",
   "execution_count": null,
   "id": "471c6743-a058-462b-851a-f34323f36243",
   "metadata": {},
   "outputs": [],
   "source": [
    "project_name_output = !gcloud projects describe $PROJECT_ID | grep name | cut -d':' -f2 | xargs\n",
    "PROJECT_NAME = project_name_output[0]\n",
    "print(\"PROJECT_NAME: \", PROJECT_NAME)"
   ]
  },
  {
   "cell_type": "code",
   "execution_count": null,
   "id": "61929dc6-a083-433c-8a13-3d39d9c4a4a1",
   "metadata": {},
   "outputs": [],
   "source": [
    "project_number_output = !gcloud projects describe $PROJECT_ID | grep projectNumber | cut -d':' -f2 | xargs\n",
    "PROJECT_NUMBER = project_number_output[0]\n",
    "print(\"PROJECT_NUMBER: \", PROJECT_NUMBER)"
   ]
  },
  {
   "cell_type": "code",
   "execution_count": null,
   "id": "9ac66e5f",
   "metadata": {},
   "outputs": [],
   "source": [
    "ACCOUNT_NAME = \"YOUR_ACCOUNT_NAME\""
   ]
  },
  {
   "cell_type": "code",
   "execution_count": null,
   "id": "f8b79fd2-5243-41a4-ae87-e7f9dd87cf20",
   "metadata": {},
   "outputs": [],
   "source": [
    "DATA_LAKE_ROOT_PATH= f\"gs://dll-data-bucket-{PROJECT_NUMBER}-{ACCOUNT_NAME}\"\n",
    "DELTA_LAKE_DIR_ROOT = f\"{DATA_LAKE_ROOT_PATH}/delta-consumable\"\n",
    "print(DELTA_LAKE_DIR_ROOT)"
   ]
  },
  {
   "cell_type": "markdown",
   "id": "ed74d358-e90b-46d0-b81c-1e29c25ccac5",
   "metadata": {},
   "source": [
    "### 4. File listing"
   ]
  },
  {
   "cell_type": "code",
   "execution_count": null,
   "id": "97b70135-a0e3-4f5b-a917-086775bc2d49",
   "metadata": {},
   "outputs": [],
   "source": [
    "!gsutil ls -r $DELTA_LAKE_DIR_ROOT"
   ]
  },
  {
   "cell_type": "code",
   "execution_count": null,
   "id": "d7858e9b-92e3-4aa9-98b0-b36d579d7074",
   "metadata": {},
   "outputs": [],
   "source": [
    "!gsutil ls -r $DELTA_LAKE_DIR_ROOT/part* | wc -l"
   ]
  },
  {
   "cell_type": "markdown",
   "id": "17581b81-035f-43b6-a4fa-48b55ce28c8c",
   "metadata": {},
   "source": [
    "### 5. Optimize \n",
    "Delta Lake can improve the speed of read queries from a table by coalescing small files into larger ones through the \"OPTIMIZE TABLE\" command.\n",
    "It is important to schedule periodic runs of this command for performance in a busy environment with too many small files.\n",
    "\n",
    "Note: Optimize does not remove the small files, they still need to be deleted. It merely creates larger files that are indexed.\n",
    "\n",
    "- Bin-packing optimization is idempotent, meaning that if it is run twice on the same dataset, the second run has no effect.\n",
    "\n",
    "- Bin-packing aims to produce evenly-balanced data files with respect to their size on disk, but not necessarily number of tuples per file. However, the two measures are most often correlated.\n",
    "\n",
    "- Python and Scala APIs for executing OPTIMIZE operation are available from Delta Lake 2.0 and above.\n",
    "\n",
    "- Set Spark session configuration spark.databricks.delta.optimize.repartition.enabled=true to use repartition(1) instead of coalesce(1) for better performance when compacting many small files."
   ]
  },
  {
   "cell_type": "code",
   "execution_count": null,
   "id": "da4f7939-4668-4015-83eb-90209251ea03",
   "metadata": {},
   "outputs": [],
   "source": [
    "spark.sql(\"OPTIMIZE \"+ ACCOUNT_NAME +\"_loan_db.loans_by_state_delta\").show(truncate=False)"
   ]
  },
  {
   "cell_type": "code",
   "execution_count": null,
   "id": "e98a313e-98cf-43a6-b000-626c5f3672e1",
   "metadata": {},
   "outputs": [],
   "source": [
    "!gsutil ls -r $DELTA_LAKE_DIR_ROOT"
   ]
  },
  {
   "cell_type": "code",
   "execution_count": null,
   "id": "5f0cf5a2-790b-4c9c-b2f1-73f0e7354a0f",
   "metadata": {},
   "outputs": [],
   "source": [
    "!gsutil ls -r $DELTA_LAKE_DIR_ROOT/part* | wc -l"
   ]
  },
  {
   "cell_type": "markdown",
   "id": "d5dba325-609c-4be0-96b3-a28033b71bc2",
   "metadata": {},
   "source": [
    "Note that the parquet file count has not reduced. "
   ]
  },
  {
   "cell_type": "markdown",
   "id": "4c674db6-7b19-4901-8aff-3f7fa52580fb",
   "metadata": {},
   "source": [
    "### 6. Restore to a prior version of the table"
   ]
  },
  {
   "cell_type": "code",
   "execution_count": null,
   "id": "007bedf4-c50e-4c9d-869a-8936ac3a1bdc",
   "metadata": {},
   "outputs": [],
   "source": [
    "spark.sql(\"RESTORE TABLE \"+ ACCOUNT_NAME +\"_loan_db.loans_by_state_delta TO VERSION AS OF 5\").show(truncate=False)"
   ]
  },
  {
   "cell_type": "code",
   "execution_count": null,
   "id": "8b380c82-1f1c-4d60-981b-dd0ee4385f8a",
   "metadata": {},
   "outputs": [],
   "source": [
    "!gsutil ls -r $DELTA_LAKE_DIR_ROOT/part* | wc -l"
   ]
  },
  {
   "cell_type": "code",
   "execution_count": null,
   "id": "aa4947cc-73b9-4843-b4b8-a26bfed2f16f",
   "metadata": {},
   "outputs": [],
   "source": [
    "!gsutil ls -r $DELTA_LAKE_DIR_ROOT/part* "
   ]
  },
  {
   "cell_type": "markdown",
   "id": "62ca0564-1495-449f-a1ae-154ba68fd804",
   "metadata": {},
   "source": [
    "### 7. Vacuum - for deleting small files\n",
    "Vacuum purges the small files that are not indexed."
   ]
  },
  {
   "cell_type": "code",
   "execution_count": null,
   "id": "2feaff28-fa55-4577-b9e8-f91b1d34be0d",
   "metadata": {},
   "outputs": [],
   "source": [
    "spark.sql(\"VACUUM \"+ ACCOUNT_NAME +\"_loan_db.loans_by_state_delta\").show(truncate=False)"
   ]
  },
  {
   "cell_type": "code",
   "execution_count": null,
   "id": "fae2a9c5-e894-47d6-8115-1899100e6c43",
   "metadata": {},
   "outputs": [],
   "source": [
    "!gsutil ls -r $DELTA_LAKE_DIR_ROOT/part* | wc -l"
   ]
  },
  {
   "cell_type": "code",
   "execution_count": null,
   "id": "61fd9221-8f35-45d9-bf49-21d3ac55f0d2",
   "metadata": {},
   "outputs": [],
   "source": [
    "spark.sql(\"VACUUM \"+ ACCOUNT_NAME +\"_loan_db.loans_by_state_delta RETAIN 0 HOURS\")"
   ]
  },
  {
   "cell_type": "markdown",
   "id": "e02be4a7-0268-41ed-8b10-04d5301bebab",
   "metadata": {},
   "source": [
    "Delta does not allow you to VACUUM with 0 retention unless you have the below property set-"
   ]
  },
  {
   "cell_type": "code",
   "execution_count": null,
   "id": "3154b4ef-5b31-4955-9932-aab48ca6ee19",
   "metadata": {},
   "outputs": [],
   "source": [
    "spark.conf.set(\"spark.databricks.delta.retentionDurationCheck.enabled\" , False)"
   ]
  },
  {
   "cell_type": "markdown",
   "id": "a4abf87c-c566-4a64-9419-094e6736a9de",
   "metadata": {},
   "source": [
    "Now VACUUM should work.."
   ]
  },
  {
   "cell_type": "code",
   "execution_count": null,
   "id": "f0699a9f-faff-4669-95fd-2b91ee10227c",
   "metadata": {},
   "outputs": [],
   "source": [
    "spark.sql(\"VACUUM \"+ ACCOUNT_NAME +\"_loan_db.loans_by_state_delta RETAIN 0 HOURS\")"
   ]
  },
  {
   "cell_type": "code",
   "execution_count": null,
   "id": "050adc5d-48fe-464b-952c-6e456db047bb",
   "metadata": {},
   "outputs": [],
   "source": [
    "!gsutil ls -r $DELTA_LAKE_DIR_ROOT/part* | wc -l"
   ]
  },
  {
   "cell_type": "code",
   "execution_count": null,
   "id": "323e7552-45bf-40ea-900f-758d707ba7bc",
   "metadata": {},
   "outputs": [],
   "source": [
    "!gsutil ls -r $DELTA_LAKE_DIR_ROOT"
   ]
  },
  {
   "cell_type": "markdown",
   "id": "b86593ab-c082-4067-8f45-4d7f1836fef4",
   "metadata": {},
   "source": [
    "### THIS CONCLUDES THIS LAB. DONT FORGET TO SHUT DOWN THE LAB RESOURCES."
   ]
  }
 ],
 "metadata": {
  "kernelspec": {
   "display_name": "",
   "name": ""
  },
  "language_info": {
   "codemirror_mode": {
    "name": "ipython",
    "version": 3
   },
   "file_extension": ".py",
   "mimetype": "text/x-python",
   "name": "python",
   "nbconvert_exporter": "python",
   "pygments_lexer": "ipython3",
   "version": "3.10.6"
  },
  "serverless_spark": "{\"name\":\"projects/delta-lake-lab/locations/us-central1/sessions/delta-lake-lab-13803\",\"uuid\":\"f2655fc3-8238-494e-b100-47a785085db6\",\"createTime\":\"2022-11-01T20:33:39.245614Z\",\"jupyterSession\":{},\"spark\":{},\"runtimeInfo\":{\"endpoints\":{\"Spark History Server\":\"https://smmei2wdurb7nptroshcbbgeda-dot-us-central1.dataproc.googleusercontent.com/sparkhistory/?eventLogDirFilter=f2655fc3-8238-494e-b100-47a785085db6\"}},\"state\":\"ACTIVE\",\"stateTime\":\"2022-11-01T20:35:05.784678Z\",\"creator\":\"admin@akhanolkar.altostrat.com\",\"runtimeConfig\":{\"version\":\"2.0\",\"properties\":{\"spark:spark.jars.packages\":\"io.delta:delta-core_2.13:2.1.0\",\"spark:spark.sql.catalog.spark_catalog\":\"org.apache.spark.sql.delta.catalog.DeltaCatalog\",\"spark:spark.sql.extensions\":\"io.delta.sql.DeltaSparkSessionExtension\",\"spark:spark.executor.instances\":\"2\",\"spark:spark.driver.cores\":\"4\",\"spark:spark.executor.cores\":\"4\",\"spark:spark.dynamicAllocation.executorAllocationRatio\":\"0.3\",\"spark:spark.eventLog.dir\":\"gs://dll-sphs-bucket-885979867746/f2655fc3-8238-494e-b100-47a785085db6/spark-job-history\"}},\"environmentConfig\":{\"executionConfig\":{\"serviceAccount\":\"dll-lab-sa@delta-lake-lab.iam.gserviceaccount.com\",\"subnetworkUri\":\"spark-snet\",\"idleTtl\":\"14400s\"},\"peripheralsConfig\":{\"metastoreService\":\"projects/delta-lake-lab/locations/us-central1/services/dll-hms-885979867746\",\"sparkHistoryServerConfig\":{\"dataprocCluster\":\"projects/delta-lake-lab/regions/us-central1/clusters/dll-sphs-885979867746\"}}},\"stateHistory\":[{\"state\":\"CREATING\",\"stateStartTime\":\"2022-11-01T20:33:39.245614Z\"}]}",
  "serverless_spark_kernel_name": "remote-4a2e3012d18a64755cb71093-pyspark",
  "vscode": {
   "interpreter": {
    "hash": "aee8b7b246df8f9039afb4144a1f6fd8d2ca17a180786b69acc140d282b71a49"
   }
  }
 },
 "nbformat": 4,
 "nbformat_minor": 5
}
