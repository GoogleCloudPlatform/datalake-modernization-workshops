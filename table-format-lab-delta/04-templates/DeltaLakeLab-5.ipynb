{
 "cells": [
  {
   "cell_type": "markdown",
   "id": "4529a790-8425-4600-841a-4b094b82eaa8",
   "metadata": {},
   "source": [
    "# Delta Lake Lab \n",
    "## Unit 5: Schema Enforcement & Evolution\n",
    "\n",
    "In the previous unit, we -\n",
    "1. Did a delete operation on the base delta table and learned what happens to the underlying parquet and reviewed the transaction log\n",
    "2. Did an insert operation on the base delta table and learned what happens to the underlying parquet and reviewed the transaction log\n",
    "3. Did an update operation on the base delta table and learned what happens to the underlying parquet and reviewed the transaction log\n",
    "4. Did a merge (upsert) operation on the base delta table and learned what happens to the underlying parquet and reviewed the transaction log\n",
    "\n",
    "In this unit, we will -\n",
    "1. Study schema enforcement\n",
    "2. And schema evolution possible with delta lake\n"
   ]
  },
  {
   "cell_type": "markdown",
   "id": "1a31c4fd-d465-4f52-8e56-3775bf499abc",
   "metadata": {},
   "source": [
    "### 1. Imports"
   ]
  },
  {
   "cell_type": "code",
   "execution_count": null,
   "id": "1321bce9-178c-4065-8187-0a5728c1a370",
   "metadata": {},
   "outputs": [],
   "source": [
    "import pandas as pd\n",
    "\n",
    "from pyspark.sql.functions import month, date_format\n",
    "from pyspark.sql.types import IntegerType\n",
    "from pyspark.sql import SparkSession\n",
    "\n",
    "from delta.tables import *\n",
    "\n",
    "import warnings\n",
    "warnings.filterwarnings('ignore')"
   ]
  },
  {
   "cell_type": "markdown",
   "id": "ed295a74-ed1d-4b5d-831a-1b5dcf73c36f",
   "metadata": {},
   "source": [
    "### 2. Create a Spark session powered by Cloud Dataproc "
   ]
  },
  {
   "cell_type": "code",
   "execution_count": null,
   "id": "b383d5ab-a0b9-45ab-a232-34d88f2a0065",
   "metadata": {},
   "outputs": [],
   "source": [
    "spark = SparkSession.builder.appName('Loan Analysis').getOrCreate()\n",
    "spark"
   ]
  },
  {
   "cell_type": "markdown",
   "id": "63cd13e6-f3f5-4f2c-b4fc-d7e2660c6206",
   "metadata": {},
   "source": [
    "### 3. Declare variables"
   ]
  },
  {
   "cell_type": "code",
   "execution_count": null,
   "id": "5596e31b-749a-4702-8879-6f05f9ff0c2d",
   "metadata": {},
   "outputs": [],
   "source": [
    "project_id_output = !gcloud config list --format \"value(core.project)\" 2>/dev/null\n",
    "PROJECT_ID = project_id_output[0]\n",
    "print(\"PROJECT_ID: \", PROJECT_ID)"
   ]
  },
  {
   "cell_type": "code",
   "execution_count": null,
   "id": "471c6743-a058-462b-851a-f34323f36243",
   "metadata": {},
   "outputs": [],
   "source": [
    "project_name_output = !gcloud projects describe $PROJECT_ID | grep name | cut -d':' -f2 | xargs\n",
    "PROJECT_NAME = project_name_output[0]\n",
    "print(\"PROJECT_NAME: \", PROJECT_NAME)"
   ]
  },
  {
   "cell_type": "code",
   "execution_count": null,
   "id": "61929dc6-a083-433c-8a13-3d39d9c4a4a1",
   "metadata": {},
   "outputs": [],
   "source": [
    "project_number_output = !gcloud projects describe $PROJECT_ID | grep projectNumber | cut -d':' -f2 | xargs\n",
    "PROJECT_NUMBER = project_number_output[0]\n",
    "print(\"PROJECT_NUMBER: \", PROJECT_NUMBER)"
   ]
  },
  {
   "cell_type": "code",
   "execution_count": null,
   "id": "ed388aac",
   "metadata": {},
   "outputs": [],
   "source": [
    "ACCOUNT_NAME = \"YOUR_ACCOUNT_NAME\""
   ]
  },
  {
   "cell_type": "code",
   "execution_count": null,
   "id": "f8b79fd2-5243-41a4-ae87-e7f9dd87cf20",
   "metadata": {},
   "outputs": [],
   "source": [
    "DATA_LAKE_ROOT_PATH= f\"gs://dll-data-bucket-{PROJECT_NUMBER}-{ACCOUNT_NAME}\"\n",
    "DELTA_LAKE_DIR_ROOT = f\"{DATA_LAKE_ROOT_PATH}/delta-consumable\""
   ]
  },
  {
   "cell_type": "code",
   "execution_count": null,
   "id": "97b70135-a0e3-4f5b-a917-086775bc2d49",
   "metadata": {},
   "outputs": [],
   "source": [
    "!gsutil ls -r $DELTA_LAKE_DIR_ROOT"
   ]
  },
  {
   "cell_type": "code",
   "execution_count": null,
   "id": "12a27c3e-a834-4d65-9b0e-ad0ab37ef49c",
   "metadata": {},
   "outputs": [],
   "source": [
    "!gsutil ls -r $DELTA_LAKE_DIR_ROOT/part* | wc -l"
   ]
  },
  {
   "cell_type": "code",
   "execution_count": null,
   "id": "45aea5bf-543e-47ce-95e9-5d79d769e743",
   "metadata": {},
   "outputs": [],
   "source": [
    "!gsutil ls -r $DELTA_LAKE_DIR_ROOT/_delta_log/*.json | wc -l"
   ]
  },
  {
   "cell_type": "markdown",
   "id": "ed74d358-e90b-46d0-b81c-1e29c25ccac5",
   "metadata": {},
   "source": [
    "### 4. Existing schema"
   ]
  },
  {
   "cell_type": "code",
   "execution_count": null,
   "id": "0bcc3cf8-6ecf-4efe-855d-b564401317bc",
   "metadata": {},
   "outputs": [],
   "source": [
    "spark.sql(\"DESCRIBE FORMATTED \"+ ACCOUNT_NAME +\"_loan_db.loans_by_state_delta\").show(truncate=False)"
   ]
  },
  {
   "cell_type": "markdown",
   "id": "17581b81-035f-43b6-a4fa-48b55ce28c8c",
   "metadata": {},
   "source": [
    "### 5. Attempt to modify the schema"
   ]
  },
  {
   "cell_type": "code",
   "execution_count": null,
   "id": "da4f7939-4668-4015-83eb-90209251ea03",
   "metadata": {},
   "outputs": [],
   "source": [
    "# Add a column called collateral_value\n",
    "schemaEvolvedDF = sql(\"select addr_state, cast(rand(10)*count as bigint) as count, cast(rand(10) * 10000 * count as double) as collateral_value from \"+ ACCOUNT_NAME +\"_loan_db.loans_by_state_delta\")\n",
    "schemaEvolvedDF.show(3)"
   ]
  },
  {
   "cell_type": "code",
   "execution_count": null,
   "id": "e98a313e-98cf-43a6-b000-626c5f3672e1",
   "metadata": {},
   "outputs": [],
   "source": [
    "# Attempt to append to the table\n",
    "schemaEvolvedDF.write.format(\"delta\").mode(\"append\").save(DELTA_LAKE_DIR_ROOT)"
   ]
  },
  {
   "cell_type": "markdown",
   "id": "4b6cc873-426e-43e6-be17-545e667f2e87",
   "metadata": {},
   "source": [
    "### 6. Supply \"mergeSchema\" option"
   ]
  },
  {
   "cell_type": "code",
   "execution_count": null,
   "id": "c7be418e-1d41-431f-8a82-b6943f764e8d",
   "metadata": {},
   "outputs": [],
   "source": [
    "# Data file count\n",
    "!gsutil ls -r $DELTA_LAKE_DIR_ROOT/part* | wc -l"
   ]
  },
  {
   "cell_type": "code",
   "execution_count": null,
   "id": "b97d025e-6744-450f-bb6a-f37ecc7a724c",
   "metadata": {},
   "outputs": [],
   "source": [
    "# Delta log count\n",
    "!gsutil ls -r $DELTA_LAKE_DIR_ROOT/_delta_log/*.json | wc -l"
   ]
  },
  {
   "cell_type": "code",
   "execution_count": null,
   "id": "16dcf766-cf76-4210-aa26-519fd91b9207",
   "metadata": {},
   "outputs": [],
   "source": [
    "schemaEvolvedDF.write.option(\"mergeSchema\",True).format(\"delta\").mode(\"append\").save(DELTA_LAKE_DIR_ROOT)"
   ]
  },
  {
   "cell_type": "code",
   "execution_count": null,
   "id": "9a56affe-a463-4835-a45a-51cbdeda8f20",
   "metadata": {},
   "outputs": [],
   "source": [
    "spark.sql(\"SELECT * FROM \"+ ACCOUNT_NAME +\"_loan_db.loans_by_state_delta\").show(truncate=False)"
   ]
  },
  {
   "cell_type": "code",
   "execution_count": null,
   "id": "381c44d3-968a-400b-afe4-25495171c1ff",
   "metadata": {},
   "outputs": [],
   "source": [
    "# Data file count\n",
    "!gsutil ls -r $DELTA_LAKE_DIR_ROOT/part* | wc -l"
   ]
  },
  {
   "cell_type": "code",
   "execution_count": null,
   "id": "e42908fb-4352-4ffd-9f4c-2b3470d10460",
   "metadata": {},
   "outputs": [],
   "source": [
    "# Delta log count\n",
    "!gsutil ls -r $DELTA_LAKE_DIR_ROOT/_delta_log/*.json | wc -l"
   ]
  },
  {
   "cell_type": "code",
   "execution_count": null,
   "id": "e62673bc-a1d8-41ff-840a-5e608a96f95f",
   "metadata": {},
   "outputs": [],
   "source": [
    "# Lets look at our datalake and changes from the above execution\n",
    "!gsutil ls -r $DELTA_LAKE_DIR_ROOT"
   ]
  },
  {
   "cell_type": "markdown",
   "id": "3a70e7ef-f6e2-4eac-8347-2663afe8dc39",
   "metadata": {},
   "source": [
    "There is one extra parquet, containing the data with the new column, and one new transaction log\n"
   ]
  },
  {
   "cell_type": "markdown",
   "id": "b0a1c1b4-63ac-42fa-a983-b100c3b4f707",
   "metadata": {},
   "source": [
    "Lets look at the log-"
   ]
  },
  {
   "cell_type": "code",
   "execution_count": null,
   "id": "5baabb14-1f11-42f8-ae2c-11793f4800bd",
   "metadata": {},
   "outputs": [],
   "source": [
    "!gsutil cat {DATA_LAKE_ROOT_PATH}/delta-consumable/_delta_log/00000000000000000006.json"
   ]
  },
  {
   "cell_type": "code",
   "execution_count": null,
   "id": "6561e8e8-d991-4cbe-a13a-8b546a821a2c",
   "metadata": {},
   "outputs": [],
   "source": [
    "# Lets add data again till we hit the 10th version of the table\n",
    "schemaEvolvedDF = sql(\"select addr_state, cast(rand(10)*count as bigint) as count, cast(rand(10) * 10000 * count as double) as collateral_value from \"+ ACCOUNT_NAME +\"_loan_db.loans_by_state_delta\")\n",
    "schemaEvolvedDF.write.format(\"delta\").mode(\"append\").save(DELTA_LAKE_DIR_ROOT)\n",
    "!gsutil ls -r $DELTA_LAKE_DIR_ROOT/_delta_log\n"
   ]
  },
  {
   "cell_type": "code",
   "execution_count": null,
   "id": "fe89f98b-39c5-479d-b663-b8d0eb9548ee",
   "metadata": {},
   "outputs": [],
   "source": [
    "# Data file count\n",
    "!gsutil ls -r $DELTA_LAKE_DIR_ROOT/part* | wc -l"
   ]
  },
  {
   "cell_type": "code",
   "execution_count": null,
   "id": "ddd1494b-18ff-4798-875e-9a3a32f2708c",
   "metadata": {},
   "outputs": [],
   "source": [
    "# Delta log count\n",
    "!gsutil ls -r $DELTA_LAKE_DIR_ROOT/_delta_log/*.json | wc -l"
   ]
  },
  {
   "cell_type": "code",
   "execution_count": null,
   "id": "2e07a082-186f-4185-85fb-84bd30ca8c6d",
   "metadata": {},
   "outputs": [],
   "source": [
    "# Lets add data again till we hit the 10th version of the table\n",
    "schemaEvolvedDF = sql(\"select addr_state, cast(rand(10)*count as bigint) as count, cast(rand(10) * 10000 * count as double) as collateral_value from \"+ ACCOUNT_NAME +\"_loan_db.loans_by_state_delta\")\n",
    "schemaEvolvedDF.write.format(\"delta\").mode(\"append\").save(DELTA_LAKE_DIR_ROOT)\n"
   ]
  },
  {
   "cell_type": "code",
   "execution_count": null,
   "id": "1d0c6248-d2a1-4827-9583-adbe5d9feaf3",
   "metadata": {},
   "outputs": [],
   "source": [
    "!gsutil ls -r $DELTA_LAKE_DIR_ROOT/_delta_log"
   ]
  },
  {
   "cell_type": "code",
   "execution_count": null,
   "id": "4ccc7143-b6ff-4dda-8a70-8e5d8bb98b2b",
   "metadata": {},
   "outputs": [],
   "source": [
    "!gsutil ls -r $DELTA_LAKE_DIR_ROOT/part*"
   ]
  },
  {
   "cell_type": "code",
   "execution_count": null,
   "id": "d3aff630-2c3b-449a-97e0-915639cbe9aa",
   "metadata": {},
   "outputs": [],
   "source": [
    "# Data file count\n",
    "!gsutil ls -r $DELTA_LAKE_DIR_ROOT/part* | wc -l"
   ]
  },
  {
   "cell_type": "code",
   "execution_count": null,
   "id": "bbf65a74-02d2-4695-b5f3-25eb8d53d1c5",
   "metadata": {},
   "outputs": [],
   "source": [
    "# Delta log count\n",
    "!gsutil ls -r $DELTA_LAKE_DIR_ROOT/_delta_log/*.json | wc -l"
   ]
  },
  {
   "cell_type": "code",
   "execution_count": null,
   "id": "ce35fc2d-f72d-4bf6-abe0-c0f902b7378b",
   "metadata": {},
   "outputs": [],
   "source": [
    "# Lets add data again till we hit the 10th version of the table\n",
    "schemaEvolvedDF = sql(\"select addr_state, cast(rand(10)*count as bigint) as count, cast(rand(10) * 10000 * count as double) as collateral_value from \"+ ACCOUNT_NAME +\"_loan_db.loans_by_state_delta\")\n",
    "schemaEvolvedDF.write.format(\"delta\").mode(\"append\").save(DELTA_LAKE_DIR_ROOT)\n",
    "!gsutil ls -r $DELTA_LAKE_DIR_ROOT/_delta_log"
   ]
  },
  {
   "cell_type": "code",
   "execution_count": null,
   "id": "69e094d5-ef67-42a8-892d-65d789755c78",
   "metadata": {},
   "outputs": [],
   "source": [
    "# Data file count\n",
    "!gsutil ls -r $DELTA_LAKE_DIR_ROOT/part* | wc -l"
   ]
  },
  {
   "cell_type": "code",
   "execution_count": null,
   "id": "977a4f16-d580-422b-875d-6479f0851b10",
   "metadata": {},
   "outputs": [],
   "source": [
    "# Delta log count\n",
    "!gsutil ls -r $DELTA_LAKE_DIR_ROOT/_delta_log/*.json | wc -l"
   ]
  },
  {
   "cell_type": "code",
   "execution_count": null,
   "id": "444a5169-b3bf-4555-be6f-1cb177e73b6b",
   "metadata": {},
   "outputs": [],
   "source": [
    "# Lets add data again till we hit the 10th version of the table\n",
    "schemaEvolvedDF = sql(\"select addr_state, cast(rand(10)*count as bigint) as count, cast(rand(10) * 10000 * count as double) as collateral_value from \"+ ACCOUNT_NAME +\"_loan_db.loans_by_state_delta\")\n",
    "schemaEvolvedDF.write.format(\"delta\").mode(\"append\").save(DELTA_LAKE_DIR_ROOT)\n",
    "!gsutil ls -r $DELTA_LAKE_DIR_ROOT/_delta_log"
   ]
  },
  {
   "cell_type": "code",
   "execution_count": null,
   "id": "7ac2f36e-6553-476b-b208-879e3ffbc5bf",
   "metadata": {},
   "outputs": [],
   "source": [
    "# Data file count\n",
    "!gsutil ls -r $DELTA_LAKE_DIR_ROOT/part* | wc -l"
   ]
  },
  {
   "cell_type": "code",
   "execution_count": null,
   "id": "3bedf0a3-35d1-4adc-8d5e-177478517bab",
   "metadata": {},
   "outputs": [],
   "source": [
    "# Delta log count\n",
    "!gsutil ls -r $DELTA_LAKE_DIR_ROOT/_delta_log/*.json | wc -l"
   ]
  },
  {
   "cell_type": "code",
   "execution_count": null,
   "id": "0bf33ccf-29f6-4f28-8c96-1e339387c7a1",
   "metadata": {},
   "outputs": [],
   "source": [
    "# Lets add data again till we hit the 10th version of the table\n",
    "schemaEvolvedDF = sql(\"select addr_state, cast(rand(10)*count as bigint) as count, cast(rand(10) * 10000 * count as double) as collateral_value from \"+ ACCOUNT_NAME +\"_loan_db.loans_by_state_delta\")\n",
    "schemaEvolvedDF.write.format(\"delta\").mode(\"append\").save(DELTA_LAKE_DIR_ROOT)\n",
    "!gsutil ls -r $DELTA_LAKE_DIR_ROOT/_delta_log"
   ]
  },
  {
   "cell_type": "code",
   "execution_count": null,
   "id": "14357866-ad2d-4a70-a931-40b8fa94d53f",
   "metadata": {},
   "outputs": [],
   "source": [
    "# Data file count\n",
    "!gsutil ls -r $DELTA_LAKE_DIR_ROOT/part* | wc -l"
   ]
  },
  {
   "cell_type": "code",
   "execution_count": null,
   "id": "44ec1536-cb6e-46fb-9b6a-1d942785ad23",
   "metadata": {},
   "outputs": [],
   "source": [
    "# Delta log count\n",
    "!gsutil ls -r $DELTA_LAKE_DIR_ROOT/_delta_log/*.json | wc -l"
   ]
  },
  {
   "cell_type": "markdown",
   "id": "824ff198-61b3-469a-997b-d16f1f40a3de",
   "metadata": {},
   "source": [
    "Note how there is a parquet file created - this is a compacted version of table changes 0-9\n",
    "Delta will load this parquet into memory, to avoid having to read too many small files\n",
    "At any given point of time, delta will not read more than 10 json transaction logs, but will read all the parquet transaction logs."
   ]
  },
  {
   "cell_type": "markdown",
   "id": "676817ca-622f-4d0d-b09b-45e6dae5f2e6",
   "metadata": {},
   "source": [
    "### THIS CONCLUDES THIS UNIT. PROCEED TO THE NEXT NOTEBOOK"
   ]
  }
 ],
 "metadata": {
  "kernelspec": {
   "display_name": "",
   "name": ""
  },
  "language_info": {
   "codemirror_mode": {
    "name": "ipython",
    "version": 3
   },
   "file_extension": ".py",
   "mimetype": "text/x-python",
   "name": "python",
   "nbconvert_exporter": "python",
   "pygments_lexer": "ipython3",
   "version": "3.10.6"
  },
  "serverless_spark": "{\"name\":\"projects/delta-lake-lab/locations/us-central1/sessions/delta-lake-lab-10060\",\"uuid\":\"cc6b1af7-fba9-41fd-b379-13891e4f5d78\",\"createTime\":\"2022-11-01T20:50:13.532739Z\",\"jupyterSession\":{},\"spark\":{},\"runtimeInfo\":{\"endpoints\":{\"Spark History Server\":\"https://smmei2wdurb7nptroshcbbgeda-dot-us-central1.dataproc.googleusercontent.com/sparkhistory/?eventLogDirFilter=cc6b1af7-fba9-41fd-b379-13891e4f5d78\"}},\"state\":\"ACTIVE\",\"stateTime\":\"2022-11-01T20:51:39.593533Z\",\"creator\":\"admin@akhanolkar.altostrat.com\",\"runtimeConfig\":{\"version\":\"2.0\",\"properties\":{\"spark:spark.jars.packages\":\"io.delta:delta-core_2.13:2.1.0\",\"spark:spark.sql.catalog.spark_catalog\":\"org.apache.spark.sql.delta.catalog.DeltaCatalog\",\"spark:spark.sql.extensions\":\"io.delta.sql.DeltaSparkSessionExtension\",\"spark:spark.executor.instances\":\"2\",\"spark:spark.driver.cores\":\"4\",\"spark:spark.executor.cores\":\"4\",\"spark:spark.dynamicAllocation.executorAllocationRatio\":\"0.3\",\"spark:spark.eventLog.dir\":\"gs://dll-sphs-bucket-885979867746/cc6b1af7-fba9-41fd-b379-13891e4f5d78/spark-job-history\"}},\"environmentConfig\":{\"executionConfig\":{\"serviceAccount\":\"dll-lab-sa@delta-lake-lab.iam.gserviceaccount.com\",\"subnetworkUri\":\"spark-snet\",\"idleTtl\":\"14400s\"},\"peripheralsConfig\":{\"metastoreService\":\"projects/delta-lake-lab/locations/us-central1/services/dll-hms-885979867746\",\"sparkHistoryServerConfig\":{\"dataprocCluster\":\"projects/delta-lake-lab/regions/us-central1/clusters/dll-sphs-885979867746\"}}},\"stateHistory\":[{\"state\":\"CREATING\",\"stateStartTime\":\"2022-11-01T20:50:13.532739Z\"}]}",
  "serverless_spark_kernel_name": "remote-55063bd6660cfbfe1596a3af-pyspark",
  "vscode": {
   "interpreter": {
    "hash": "aee8b7b246df8f9039afb4144a1f6fd8d2ca17a180786b69acc140d282b71a49"
   }
  }
 },
 "nbformat": 4,
 "nbformat_minor": 5
}
