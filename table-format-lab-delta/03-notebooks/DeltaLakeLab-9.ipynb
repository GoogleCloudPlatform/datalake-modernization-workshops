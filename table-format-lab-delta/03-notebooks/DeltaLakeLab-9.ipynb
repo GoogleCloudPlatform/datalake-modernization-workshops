{
 "cells": [
  {
   "cell_type": "markdown",
   "id": "4529a790-8425-4600-841a-4b094b82eaa8",
   "metadata": {},
   "source": [
    "# Delta Lake Lab \n",
    "## Unit 9: Table Restore + Storage optimization with OPTIMIZE and VACUUM\n",
    "\n",
    "In the previous unit we-\n",
    "1. Learned about table clones\n",
    "\n",
    "In this unit, we will learn about-\n",
    "1. Table storage optimization with the OPTIMIZE command\n",
    "2. Restoring a table to a prior version\n",
    "2. Table storage optimization with the VACUUM command\n"
   ]
  },
  {
   "cell_type": "markdown",
   "id": "1a31c4fd-d465-4f52-8e56-3775bf499abc",
   "metadata": {},
   "source": [
    "### 1. Imports"
   ]
  },
  {
   "cell_type": "code",
   "execution_count": 1,
   "id": "1321bce9-178c-4065-8187-0a5728c1a370",
   "metadata": {},
   "outputs": [],
   "source": [
    "import pandas as pd\n",
    "\n",
    "from pyspark.sql.functions import month, date_format\n",
    "from pyspark.sql.types import IntegerType\n",
    "from pyspark.sql import SparkSession\n",
    "\n",
    "from delta.tables import *\n",
    "\n",
    "import warnings\n",
    "warnings.filterwarnings('ignore')"
   ]
  },
  {
   "cell_type": "markdown",
   "id": "ed295a74-ed1d-4b5d-831a-1b5dcf73c36f",
   "metadata": {},
   "source": [
    "### 2. Create a Spark session powered by Cloud Dataproc "
   ]
  },
  {
   "cell_type": "code",
   "execution_count": null,
   "id": "b383d5ab-a0b9-45ab-a232-34d88f2a0065",
   "metadata": {},
   "outputs": [],
   "source": [
    "spark = SparkSession.builder.appName('Loan Analysis').getOrCreate()\n",
    "spark"
   ]
  },
  {
   "cell_type": "markdown",
   "id": "63cd13e6-f3f5-4f2c-b4fc-d7e2660c6206",
   "metadata": {},
   "source": [
    "### 3. Declare variables"
   ]
  },
  {
   "cell_type": "code",
   "execution_count": 2,
   "id": "5596e31b-749a-4702-8879-6f05f9ff0c2d",
   "metadata": {},
   "outputs": [
    {
     "name": "stdout",
     "output_type": "stream",
     "text": [
      "PROJECT_ID:  delta-lake-lab\n"
     ]
    }
   ],
   "source": [
    "project_id_output = !gcloud config list --format \"value(core.project)\" 2>/dev/null\n",
    "PROJECT_ID = project_id_output[0]\n",
    "print(\"PROJECT_ID: \", PROJECT_ID)"
   ]
  },
  {
   "cell_type": "code",
   "execution_count": 3,
   "id": "471c6743-a058-462b-851a-f34323f36243",
   "metadata": {},
   "outputs": [
    {
     "name": "stdout",
     "output_type": "stream",
     "text": [
      "PROJECT_NAME:  delta-lake-lab\n"
     ]
    }
   ],
   "source": [
    "project_name_output = !gcloud projects describe $PROJECT_ID | grep name | cut -d':' -f2 | xargs\n",
    "PROJECT_NAME = project_name_output[0]\n",
    "print(\"PROJECT_NAME: \", PROJECT_NAME)"
   ]
  },
  {
   "cell_type": "code",
   "execution_count": 4,
   "id": "61929dc6-a083-433c-8a13-3d39d9c4a4a1",
   "metadata": {},
   "outputs": [
    {
     "name": "stdout",
     "output_type": "stream",
     "text": [
      "PROJECT_NUMBER:  885979867746\n"
     ]
    }
   ],
   "source": [
    "project_number_output = !gcloud projects describe $PROJECT_ID | grep projectNumber | cut -d':' -f2 | xargs\n",
    "PROJECT_NUMBER = project_number_output[0]\n",
    "print(\"PROJECT_NUMBER: \", PROJECT_NUMBER)"
   ]
  },
  {
   "cell_type": "code",
   "execution_count": null,
   "metadata": {},
   "outputs": [],
   "source": [
    "ACCOUNT_NAME = \"akhjain\""
   ]
  },
  {
   "cell_type": "code",
   "execution_count": 5,
   "id": "f8b79fd2-5243-41a4-ae87-e7f9dd87cf20",
   "metadata": {},
   "outputs": [
    {
     "name": "stdout",
     "output_type": "stream",
     "text": [
      "gs://dll-data-bucket-885979867746/delta-consumable\n"
     ]
    }
   ],
   "source": [
    "DATA_LAKE_ROOT_PATH= f\"gs://dll-data-bucket-{PROJECT_NUMBER}-{ACCOUNT_NAME}\"\n",
    "DELTA_LAKE_DIR_ROOT = f\"{DATA_LAKE_ROOT_PATH}/delta-consumable\"\n",
    "print(DELTA_LAKE_DIR_ROOT)"
   ]
  },
  {
   "cell_type": "markdown",
   "id": "ed74d358-e90b-46d0-b81c-1e29c25ccac5",
   "metadata": {},
   "source": [
    "### 4. File listing"
   ]
  },
  {
   "cell_type": "code",
   "execution_count": 6,
   "id": "97b70135-a0e3-4f5b-a917-086775bc2d49",
   "metadata": {},
   "outputs": [
    {
     "name": "stdout",
     "output_type": "stream",
     "text": [
      "gs://dll-data-bucket-885979867746/delta-consumable/:\n",
      "gs://dll-data-bucket-885979867746/delta-consumable/part-00000-0d0c8ea0-982f-4f67-ab9d-62f94e57db11-c000.snappy.parquet\n",
      "gs://dll-data-bucket-885979867746/delta-consumable/part-00000-27993337-bc5b-4c93-9ab0-b77f48ac9160-c000.snappy.parquet\n",
      "gs://dll-data-bucket-885979867746/delta-consumable/part-00000-293e9d10-a628-4cf0-b86c-f9f289913756-c000.snappy.parquet\n",
      "gs://dll-data-bucket-885979867746/delta-consumable/part-00000-33f34593-184c-40b8-adfe-73facf9f043f-c000.snappy.parquet\n",
      "gs://dll-data-bucket-885979867746/delta-consumable/part-00000-595b5ba1-408f-404d-91ee-7bc396235870-c000.snappy.parquet\n",
      "gs://dll-data-bucket-885979867746/delta-consumable/part-00000-5c57d030-c1f7-4f7b-b5d8-2100c4426482-c000.snappy.parquet\n",
      "gs://dll-data-bucket-885979867746/delta-consumable/part-00000-670d672a-c41d-4391-a47e-90d45e589ac2-c000.snappy.parquet\n",
      "gs://dll-data-bucket-885979867746/delta-consumable/part-00000-8572a416-efe4-47bf-ab8b-755973ae5a7a-c000.snappy.parquet\n",
      "gs://dll-data-bucket-885979867746/delta-consumable/part-00000-87c9eb32-b09f-438c-84ee-3bd37fc01fb4-c000.snappy.parquet\n",
      "gs://dll-data-bucket-885979867746/delta-consumable/part-00000-9e3ca1ea-93a4-455a-9988-5e1250281ac0-c000.snappy.parquet\n",
      "gs://dll-data-bucket-885979867746/delta-consumable/part-00000-b11e7e93-f44f-4d92-8613-c20f22858111-c000.snappy.parquet\n",
      "gs://dll-data-bucket-885979867746/delta-consumable/part-00000-b77f8967-b01f-4604-a3f3-3074163693e4-c000.snappy.parquet\n",
      "gs://dll-data-bucket-885979867746/delta-consumable/part-00000-c2a74fad-c560-4efd-8b2e-5a8a7ddcc62e-c000.snappy.parquet\n",
      "gs://dll-data-bucket-885979867746/delta-consumable/part-00001-02e1912c-5a9a-4513-975e-bee0dbfc6074-c000.snappy.parquet\n",
      "gs://dll-data-bucket-885979867746/delta-consumable/part-00001-3b7fbc64-5d70-4ea7-833e-783a2022ba14-c000.snappy.parquet\n",
      "gs://dll-data-bucket-885979867746/delta-consumable/part-00001-507070b7-0126-42de-96b9-1569f40f2a9d-c000.snappy.parquet\n",
      "gs://dll-data-bucket-885979867746/delta-consumable/part-00001-6b666243-9918-4e4a-9de1-dc024e1f1ccb-c000.snappy.parquet\n",
      "gs://dll-data-bucket-885979867746/delta-consumable/part-00001-802cf333-7729-48c0-ba04-83f994889805-c000.snappy.parquet\n",
      "gs://dll-data-bucket-885979867746/delta-consumable/part-00002-4a0bacc0-eadb-4ebf-9a2c-003a3869e100-c000.snappy.parquet\n",
      "gs://dll-data-bucket-885979867746/delta-consumable/part-00002-570c06cd-732f-494f-ab81-2732881e654f-c000.snappy.parquet\n",
      "gs://dll-data-bucket-885979867746/delta-consumable/part-00002-639ad7ad-9a0e-484a-84b9-fc29a9ce5dc0-c000.snappy.parquet\n",
      "gs://dll-data-bucket-885979867746/delta-consumable/part-00002-d5954153-cb49-4365-89fa-12a9c468ca42-c000.snappy.parquet\n",
      "gs://dll-data-bucket-885979867746/delta-consumable/part-00003-07e1d0de-f6ba-4f9b-8389-1f5c8029f974-c000.snappy.parquet\n",
      "gs://dll-data-bucket-885979867746/delta-consumable/part-00003-1fa442f2-dcf0-4939-900e-a20f7e0cf473-c000.snappy.parquet\n",
      "gs://dll-data-bucket-885979867746/delta-consumable/part-00003-673e58d6-d7d3-42df-adef-c089ca235619-c000.snappy.parquet\n",
      "gs://dll-data-bucket-885979867746/delta-consumable/part-00003-e7773bde-ec22-4511-a9bf-4b11ba923113-c000.snappy.parquet\n",
      "gs://dll-data-bucket-885979867746/delta-consumable/part-00004-7cab9918-31a5-4d07-9ce5-08e96aa10b64-c000.snappy.parquet\n",
      "gs://dll-data-bucket-885979867746/delta-consumable/part-00004-8cb50719-40b0-4b60-9845-037f6cc454f0-c000.snappy.parquet\n",
      "gs://dll-data-bucket-885979867746/delta-consumable/part-00005-62047667-10b5-49e1-9741-5197b75d58a4-c000.snappy.parquet\n",
      "gs://dll-data-bucket-885979867746/delta-consumable/part-00005-68864e73-c67c-4255-b94f-a6b710c74037-c000.snappy.parquet\n",
      "\n",
      "gs://dll-data-bucket-885979867746/delta-consumable/_delta_log/:\n",
      "gs://dll-data-bucket-885979867746/delta-consumable/_delta_log/\n",
      "gs://dll-data-bucket-885979867746/delta-consumable/_delta_log/00000000000000000000.json\n",
      "gs://dll-data-bucket-885979867746/delta-consumable/_delta_log/00000000000000000001.json\n",
      "gs://dll-data-bucket-885979867746/delta-consumable/_delta_log/00000000000000000002.json\n",
      "gs://dll-data-bucket-885979867746/delta-consumable/_delta_log/00000000000000000003.json\n",
      "gs://dll-data-bucket-885979867746/delta-consumable/_delta_log/00000000000000000004.json\n",
      "gs://dll-data-bucket-885979867746/delta-consumable/_delta_log/00000000000000000005.json\n",
      "gs://dll-data-bucket-885979867746/delta-consumable/_delta_log/00000000000000000006.json\n",
      "gs://dll-data-bucket-885979867746/delta-consumable/_delta_log/00000000000000000007.json\n",
      "gs://dll-data-bucket-885979867746/delta-consumable/_delta_log/00000000000000000008.json\n",
      "gs://dll-data-bucket-885979867746/delta-consumable/_delta_log/00000000000000000009.json\n",
      "gs://dll-data-bucket-885979867746/delta-consumable/_delta_log/00000000000000000010.checkpoint.parquet\n",
      "gs://dll-data-bucket-885979867746/delta-consumable/_delta_log/00000000000000000010.json\n",
      "gs://dll-data-bucket-885979867746/delta-consumable/_delta_log/00000000000000000011.json\n",
      "gs://dll-data-bucket-885979867746/delta-consumable/_delta_log/00000000000000000012.json\n",
      "gs://dll-data-bucket-885979867746/delta-consumable/_delta_log/_last_checkpoint\n",
      "\n",
      "gs://dll-data-bucket-885979867746/delta-consumable/_symlink_format_manifest/:\n",
      "gs://dll-data-bucket-885979867746/delta-consumable/_symlink_format_manifest/\n",
      "gs://dll-data-bucket-885979867746/delta-consumable/_symlink_format_manifest/manifest\n"
     ]
    }
   ],
   "source": [
    "!gsutil ls -r $DELTA_LAKE_DIR_ROOT"
   ]
  },
  {
   "cell_type": "code",
   "execution_count": 7,
   "id": "d7858e9b-92e3-4aa9-98b0-b36d579d7074",
   "metadata": {},
   "outputs": [
    {
     "name": "stdout",
     "output_type": "stream",
     "text": [
      "30\n"
     ]
    }
   ],
   "source": [
    "!gsutil ls -r $DELTA_LAKE_DIR_ROOT/part* | wc -l"
   ]
  },
  {
   "cell_type": "markdown",
   "id": "17581b81-035f-43b6-a4fa-48b55ce28c8c",
   "metadata": {},
   "source": [
    "### 5. Optimize \n",
    "Delta Lake can improve the speed of read queries from a table by coalescing small files into larger ones through the \"OPTIMIZE TABLE\" command.\n",
    "It is important to schedule periodic runs of this command for performance in a busy environment with too many small files.\n",
    "\n",
    "Note: Optimize does not remove the small files, they still need to be deleted. It merely creates larger files that are indexed.\n",
    "\n",
    "- Bin-packing optimization is idempotent, meaning that if it is run twice on the same dataset, the second run has no effect.\n",
    "\n",
    "- Bin-packing aims to produce evenly-balanced data files with respect to their size on disk, but not necessarily number of tuples per file. However, the two measures are most often correlated.\n",
    "\n",
    "- Python and Scala APIs for executing OPTIMIZE operation are available from Delta Lake 2.0 and above.\n",
    "\n",
    "- Set Spark session configuration spark.databricks.delta.optimize.repartition.enabled=true to use repartition(1) instead of coalesce(1) for better performance when compacting many small files."
   ]
  },
  {
   "cell_type": "code",
   "execution_count": 8,
   "id": "da4f7939-4668-4015-83eb-90209251ea03",
   "metadata": {},
   "outputs": [
    {
     "name": "stderr",
     "output_type": "stream",
     "text": [
      "ivysettings.xml file not found in HIVE_HOME or HIVE_CONF_DIR,/etc/spark/conf/ivysettings.xml will be used\n",
      "                                                                                \r"
     ]
    },
    {
     "name": "stdout",
     "output_type": "stream",
     "text": [
      "+--------------------------------------------------+---------------------------------------------------------------------------------------------------------------------+\n",
      "|path                                              |metrics                                                                                                              |\n",
      "+--------------------------------------------------+---------------------------------------------------------------------------------------------------------------------+\n",
      "|gs://dll-data-bucket-885979867746/delta-consumable|{0, 0, {null, null, 0.0, 0, 0}, {null, null, 0.0, 0, 0}, 0, null, 0, 1, 1, false, 0, 0, 1666482433123, 0, 8, 0, null}|\n",
      "+--------------------------------------------------+---------------------------------------------------------------------------------------------------------------------+\n",
      "\n"
     ]
    }
   ],
   "source": [
    "spark.sql(\"OPTIMIZE loan_db.loans_by_state_delta\").show(truncate=False)"
   ]
  },
  {
   "cell_type": "code",
   "execution_count": 9,
   "id": "e98a313e-98cf-43a6-b000-626c5f3672e1",
   "metadata": {},
   "outputs": [
    {
     "name": "stdout",
     "output_type": "stream",
     "text": [
      "gs://dll-data-bucket-885979867746/delta-consumable/:\n",
      "gs://dll-data-bucket-885979867746/delta-consumable/part-00000-0d0c8ea0-982f-4f67-ab9d-62f94e57db11-c000.snappy.parquet\n",
      "gs://dll-data-bucket-885979867746/delta-consumable/part-00000-27993337-bc5b-4c93-9ab0-b77f48ac9160-c000.snappy.parquet\n",
      "gs://dll-data-bucket-885979867746/delta-consumable/part-00000-293e9d10-a628-4cf0-b86c-f9f289913756-c000.snappy.parquet\n",
      "gs://dll-data-bucket-885979867746/delta-consumable/part-00000-33f34593-184c-40b8-adfe-73facf9f043f-c000.snappy.parquet\n",
      "gs://dll-data-bucket-885979867746/delta-consumable/part-00000-595b5ba1-408f-404d-91ee-7bc396235870-c000.snappy.parquet\n",
      "gs://dll-data-bucket-885979867746/delta-consumable/part-00000-5c57d030-c1f7-4f7b-b5d8-2100c4426482-c000.snappy.parquet\n",
      "gs://dll-data-bucket-885979867746/delta-consumable/part-00000-670d672a-c41d-4391-a47e-90d45e589ac2-c000.snappy.parquet\n",
      "gs://dll-data-bucket-885979867746/delta-consumable/part-00000-8572a416-efe4-47bf-ab8b-755973ae5a7a-c000.snappy.parquet\n",
      "gs://dll-data-bucket-885979867746/delta-consumable/part-00000-87c9eb32-b09f-438c-84ee-3bd37fc01fb4-c000.snappy.parquet\n",
      "gs://dll-data-bucket-885979867746/delta-consumable/part-00000-9e3ca1ea-93a4-455a-9988-5e1250281ac0-c000.snappy.parquet\n",
      "gs://dll-data-bucket-885979867746/delta-consumable/part-00000-b11e7e93-f44f-4d92-8613-c20f22858111-c000.snappy.parquet\n",
      "gs://dll-data-bucket-885979867746/delta-consumable/part-00000-b77f8967-b01f-4604-a3f3-3074163693e4-c000.snappy.parquet\n",
      "gs://dll-data-bucket-885979867746/delta-consumable/part-00000-c2a74fad-c560-4efd-8b2e-5a8a7ddcc62e-c000.snappy.parquet\n",
      "gs://dll-data-bucket-885979867746/delta-consumable/part-00001-02e1912c-5a9a-4513-975e-bee0dbfc6074-c000.snappy.parquet\n",
      "gs://dll-data-bucket-885979867746/delta-consumable/part-00001-3b7fbc64-5d70-4ea7-833e-783a2022ba14-c000.snappy.parquet\n",
      "gs://dll-data-bucket-885979867746/delta-consumable/part-00001-507070b7-0126-42de-96b9-1569f40f2a9d-c000.snappy.parquet\n",
      "gs://dll-data-bucket-885979867746/delta-consumable/part-00001-6b666243-9918-4e4a-9de1-dc024e1f1ccb-c000.snappy.parquet\n",
      "gs://dll-data-bucket-885979867746/delta-consumable/part-00001-802cf333-7729-48c0-ba04-83f994889805-c000.snappy.parquet\n",
      "gs://dll-data-bucket-885979867746/delta-consumable/part-00002-4a0bacc0-eadb-4ebf-9a2c-003a3869e100-c000.snappy.parquet\n",
      "gs://dll-data-bucket-885979867746/delta-consumable/part-00002-570c06cd-732f-494f-ab81-2732881e654f-c000.snappy.parquet\n",
      "gs://dll-data-bucket-885979867746/delta-consumable/part-00002-639ad7ad-9a0e-484a-84b9-fc29a9ce5dc0-c000.snappy.parquet\n",
      "gs://dll-data-bucket-885979867746/delta-consumable/part-00002-d5954153-cb49-4365-89fa-12a9c468ca42-c000.snappy.parquet\n",
      "gs://dll-data-bucket-885979867746/delta-consumable/part-00003-07e1d0de-f6ba-4f9b-8389-1f5c8029f974-c000.snappy.parquet\n",
      "gs://dll-data-bucket-885979867746/delta-consumable/part-00003-1fa442f2-dcf0-4939-900e-a20f7e0cf473-c000.snappy.parquet\n",
      "gs://dll-data-bucket-885979867746/delta-consumable/part-00003-673e58d6-d7d3-42df-adef-c089ca235619-c000.snappy.parquet\n",
      "gs://dll-data-bucket-885979867746/delta-consumable/part-00003-e7773bde-ec22-4511-a9bf-4b11ba923113-c000.snappy.parquet\n",
      "gs://dll-data-bucket-885979867746/delta-consumable/part-00004-7cab9918-31a5-4d07-9ce5-08e96aa10b64-c000.snappy.parquet\n",
      "gs://dll-data-bucket-885979867746/delta-consumable/part-00004-8cb50719-40b0-4b60-9845-037f6cc454f0-c000.snappy.parquet\n",
      "gs://dll-data-bucket-885979867746/delta-consumable/part-00005-62047667-10b5-49e1-9741-5197b75d58a4-c000.snappy.parquet\n",
      "gs://dll-data-bucket-885979867746/delta-consumable/part-00005-68864e73-c67c-4255-b94f-a6b710c74037-c000.snappy.parquet\n",
      "\n",
      "gs://dll-data-bucket-885979867746/delta-consumable/_delta_log/:\n",
      "gs://dll-data-bucket-885979867746/delta-consumable/_delta_log/\n",
      "gs://dll-data-bucket-885979867746/delta-consumable/_delta_log/00000000000000000000.json\n",
      "gs://dll-data-bucket-885979867746/delta-consumable/_delta_log/00000000000000000001.json\n",
      "gs://dll-data-bucket-885979867746/delta-consumable/_delta_log/00000000000000000002.json\n",
      "gs://dll-data-bucket-885979867746/delta-consumable/_delta_log/00000000000000000003.json\n",
      "gs://dll-data-bucket-885979867746/delta-consumable/_delta_log/00000000000000000004.json\n",
      "gs://dll-data-bucket-885979867746/delta-consumable/_delta_log/00000000000000000005.json\n",
      "gs://dll-data-bucket-885979867746/delta-consumable/_delta_log/00000000000000000006.json\n",
      "gs://dll-data-bucket-885979867746/delta-consumable/_delta_log/00000000000000000007.json\n",
      "gs://dll-data-bucket-885979867746/delta-consumable/_delta_log/00000000000000000008.json\n",
      "gs://dll-data-bucket-885979867746/delta-consumable/_delta_log/00000000000000000009.json\n",
      "gs://dll-data-bucket-885979867746/delta-consumable/_delta_log/00000000000000000010.checkpoint.parquet\n",
      "gs://dll-data-bucket-885979867746/delta-consumable/_delta_log/00000000000000000010.json\n",
      "gs://dll-data-bucket-885979867746/delta-consumable/_delta_log/00000000000000000011.json\n",
      "gs://dll-data-bucket-885979867746/delta-consumable/_delta_log/00000000000000000012.json\n",
      "gs://dll-data-bucket-885979867746/delta-consumable/_delta_log/_last_checkpoint\n",
      "\n",
      "gs://dll-data-bucket-885979867746/delta-consumable/_symlink_format_manifest/:\n",
      "gs://dll-data-bucket-885979867746/delta-consumable/_symlink_format_manifest/\n",
      "gs://dll-data-bucket-885979867746/delta-consumable/_symlink_format_manifest/manifest\n"
     ]
    }
   ],
   "source": [
    "!gsutil ls -r $DELTA_LAKE_DIR_ROOT"
   ]
  },
  {
   "cell_type": "code",
   "execution_count": 10,
   "id": "5f0cf5a2-790b-4c9c-b2f1-73f0e7354a0f",
   "metadata": {},
   "outputs": [
    {
     "name": "stdout",
     "output_type": "stream",
     "text": [
      "30\n"
     ]
    }
   ],
   "source": [
    "!gsutil ls -r $DELTA_LAKE_DIR_ROOT/part* | wc -l"
   ]
  },
  {
   "cell_type": "markdown",
   "id": "d5dba325-609c-4be0-96b3-a28033b71bc2",
   "metadata": {},
   "source": [
    "Note that the parquet file count has not reduced. "
   ]
  },
  {
   "cell_type": "markdown",
   "id": "4c674db6-7b19-4901-8aff-3f7fa52580fb",
   "metadata": {},
   "source": [
    "### 6. Restore to a prior version of the table"
   ]
  },
  {
   "cell_type": "code",
   "execution_count": 11,
   "id": "007bedf4-c50e-4c9d-869a-8936ac3a1bdc",
   "metadata": {},
   "outputs": [
    {
     "name": "stderr",
     "output_type": "stream",
     "text": [
      "                                                                                \r"
     ]
    },
    {
     "data": {
      "text/plain": [
       "DataFrame[table_size_after_restore: bigint, num_of_files_after_restore: bigint, num_removed_files: bigint, num_restored_files: bigint, removed_files_size: bigint, restored_files_size: bigint]"
      ]
     },
     "execution_count": 11,
     "metadata": {},
     "output_type": "execute_result"
    }
   ],
   "source": [
    "spark.sql(\"RESTORE TABLE loan_db.loans_by_state_delta TO VERSION AS OF 5\").show(truncate=False)"
   ]
  },
  {
   "cell_type": "code",
   "execution_count": 12,
   "id": "8b380c82-1f1c-4d60-981b-dd0ee4385f8a",
   "metadata": {},
   "outputs": [
    {
     "name": "stdout",
     "output_type": "stream",
     "text": [
      "30\n"
     ]
    }
   ],
   "source": [
    "!gsutil ls -r $DELTA_LAKE_DIR_ROOT/part* | wc -l"
   ]
  },
  {
   "cell_type": "code",
   "execution_count": 13,
   "id": "aa4947cc-73b9-4843-b4b8-a26bfed2f16f",
   "metadata": {},
   "outputs": [
    {
     "name": "stdout",
     "output_type": "stream",
     "text": [
      "gs://dll-data-bucket-885979867746/delta-consumable/part-00000-0d0c8ea0-982f-4f67-ab9d-62f94e57db11-c000.snappy.parquet\n",
      "gs://dll-data-bucket-885979867746/delta-consumable/part-00000-27993337-bc5b-4c93-9ab0-b77f48ac9160-c000.snappy.parquet\n",
      "gs://dll-data-bucket-885979867746/delta-consumable/part-00000-293e9d10-a628-4cf0-b86c-f9f289913756-c000.snappy.parquet\n",
      "gs://dll-data-bucket-885979867746/delta-consumable/part-00000-33f34593-184c-40b8-adfe-73facf9f043f-c000.snappy.parquet\n",
      "gs://dll-data-bucket-885979867746/delta-consumable/part-00000-595b5ba1-408f-404d-91ee-7bc396235870-c000.snappy.parquet\n",
      "gs://dll-data-bucket-885979867746/delta-consumable/part-00000-5c57d030-c1f7-4f7b-b5d8-2100c4426482-c000.snappy.parquet\n",
      "gs://dll-data-bucket-885979867746/delta-consumable/part-00000-670d672a-c41d-4391-a47e-90d45e589ac2-c000.snappy.parquet\n",
      "gs://dll-data-bucket-885979867746/delta-consumable/part-00000-8572a416-efe4-47bf-ab8b-755973ae5a7a-c000.snappy.parquet\n",
      "gs://dll-data-bucket-885979867746/delta-consumable/part-00000-87c9eb32-b09f-438c-84ee-3bd37fc01fb4-c000.snappy.parquet\n",
      "gs://dll-data-bucket-885979867746/delta-consumable/part-00000-9e3ca1ea-93a4-455a-9988-5e1250281ac0-c000.snappy.parquet\n",
      "gs://dll-data-bucket-885979867746/delta-consumable/part-00000-b11e7e93-f44f-4d92-8613-c20f22858111-c000.snappy.parquet\n",
      "gs://dll-data-bucket-885979867746/delta-consumable/part-00000-b77f8967-b01f-4604-a3f3-3074163693e4-c000.snappy.parquet\n",
      "gs://dll-data-bucket-885979867746/delta-consumable/part-00000-c2a74fad-c560-4efd-8b2e-5a8a7ddcc62e-c000.snappy.parquet\n",
      "gs://dll-data-bucket-885979867746/delta-consumable/part-00001-02e1912c-5a9a-4513-975e-bee0dbfc6074-c000.snappy.parquet\n",
      "gs://dll-data-bucket-885979867746/delta-consumable/part-00001-3b7fbc64-5d70-4ea7-833e-783a2022ba14-c000.snappy.parquet\n",
      "gs://dll-data-bucket-885979867746/delta-consumable/part-00001-507070b7-0126-42de-96b9-1569f40f2a9d-c000.snappy.parquet\n",
      "gs://dll-data-bucket-885979867746/delta-consumable/part-00001-6b666243-9918-4e4a-9de1-dc024e1f1ccb-c000.snappy.parquet\n",
      "gs://dll-data-bucket-885979867746/delta-consumable/part-00001-802cf333-7729-48c0-ba04-83f994889805-c000.snappy.parquet\n",
      "gs://dll-data-bucket-885979867746/delta-consumable/part-00002-4a0bacc0-eadb-4ebf-9a2c-003a3869e100-c000.snappy.parquet\n",
      "gs://dll-data-bucket-885979867746/delta-consumable/part-00002-570c06cd-732f-494f-ab81-2732881e654f-c000.snappy.parquet\n",
      "gs://dll-data-bucket-885979867746/delta-consumable/part-00002-639ad7ad-9a0e-484a-84b9-fc29a9ce5dc0-c000.snappy.parquet\n",
      "gs://dll-data-bucket-885979867746/delta-consumable/part-00002-d5954153-cb49-4365-89fa-12a9c468ca42-c000.snappy.parquet\n",
      "gs://dll-data-bucket-885979867746/delta-consumable/part-00003-07e1d0de-f6ba-4f9b-8389-1f5c8029f974-c000.snappy.parquet\n",
      "gs://dll-data-bucket-885979867746/delta-consumable/part-00003-1fa442f2-dcf0-4939-900e-a20f7e0cf473-c000.snappy.parquet\n",
      "gs://dll-data-bucket-885979867746/delta-consumable/part-00003-673e58d6-d7d3-42df-adef-c089ca235619-c000.snappy.parquet\n",
      "gs://dll-data-bucket-885979867746/delta-consumable/part-00003-e7773bde-ec22-4511-a9bf-4b11ba923113-c000.snappy.parquet\n",
      "gs://dll-data-bucket-885979867746/delta-consumable/part-00004-7cab9918-31a5-4d07-9ce5-08e96aa10b64-c000.snappy.parquet\n",
      "gs://dll-data-bucket-885979867746/delta-consumable/part-00004-8cb50719-40b0-4b60-9845-037f6cc454f0-c000.snappy.parquet\n",
      "gs://dll-data-bucket-885979867746/delta-consumable/part-00005-62047667-10b5-49e1-9741-5197b75d58a4-c000.snappy.parquet\n",
      "gs://dll-data-bucket-885979867746/delta-consumable/part-00005-68864e73-c67c-4255-b94f-a6b710c74037-c000.snappy.parquet\n"
     ]
    }
   ],
   "source": [
    "!gsutil ls -r $DELTA_LAKE_DIR_ROOT/part* "
   ]
  },
  {
   "cell_type": "markdown",
   "id": "62ca0564-1495-449f-a1ae-154ba68fd804",
   "metadata": {},
   "source": [
    "### 7. Vacuum - for deleting small files\n",
    "Vacuum purges the small files that are not indexed."
   ]
  },
  {
   "cell_type": "code",
   "execution_count": 14,
   "id": "2feaff28-fa55-4577-b9e8-f91b1d34be0d",
   "metadata": {},
   "outputs": [
    {
     "name": "stderr",
     "output_type": "stream",
     "text": [
      "                                                                                \r"
     ]
    },
    {
     "name": "stdout",
     "output_type": "stream",
     "text": [
      "Deleted 0 files and directories in a total of 1 directories.\n",
      "+--------------------------------------------------+\n",
      "|path                                              |\n",
      "+--------------------------------------------------+\n",
      "|gs://dll-data-bucket-885979867746/delta-consumable|\n",
      "+--------------------------------------------------+\n",
      "\n"
     ]
    },
    {
     "name": "stderr",
     "output_type": "stream",
     "text": [
      "[Stage 99:============> (179 + 8) / 200][Stage 101:>               (0 + 0) / 50]\r"
     ]
    }
   ],
   "source": [
    "spark.sql(\"VACUUM loan_db.loans_by_state_delta\").show(truncate=False)"
   ]
  },
  {
   "cell_type": "code",
   "execution_count": 15,
   "id": "fae2a9c5-e894-47d6-8115-1899100e6c43",
   "metadata": {},
   "outputs": [
    {
     "name": "stderr",
     "output_type": "stream",
     "text": [
      "[Stage 101:============================>                          (26 + 8) / 50]\r"
     ]
    },
    {
     "name": "stdout",
     "output_type": "stream",
     "text": [
      "30\n"
     ]
    }
   ],
   "source": [
    "!gsutil ls -r $DELTA_LAKE_DIR_ROOT/part* | wc -l"
   ]
  },
  {
   "cell_type": "code",
   "execution_count": 16,
   "id": "61fd9221-8f35-45d9-bf49-21d3ac55f0d2",
   "metadata": {},
   "outputs": [
    {
     "ename": "IllegalArgumentException",
     "evalue": "requirement failed: Are you sure you would like to vacuum files with such a low retention period? If you have\nwriters that are currently writing to this table, there is a risk that you may corrupt the\nstate of your Delta table.\n\nIf you are certain that there are no operations being performed on this table, such as\ninsert/upsert/delete/optimize, then you may turn off this check by setting:\nspark.databricks.delta.retentionDurationCheck.enabled = false\n\nIf you are not sure, please use a value not less than \"168 hours\".\n       ",
     "output_type": "error",
     "traceback": [
      "\u001b[0;31m---------------------------------------------------------------------------\u001b[0m",
      "\u001b[0;31mIllegalArgumentException\u001b[0m                  Traceback (most recent call last)",
      "Cell \u001b[0;32mIn [16], line 1\u001b[0m\n\u001b[0;32m----> 1\u001b[0m \u001b[43mspark\u001b[49m\u001b[38;5;241;43m.\u001b[39;49m\u001b[43msql\u001b[49m\u001b[43m(\u001b[49m\u001b[38;5;124;43m\"\u001b[39;49m\u001b[38;5;124;43mVACUUM loan_db.loans_by_state_delta RETAIN 0 HOURS\u001b[39;49m\u001b[38;5;124;43m\"\u001b[39;49m\u001b[43m)\u001b[49m\n",
      "File \u001b[0;32m/usr/lib/spark/python/pyspark/sql/session.py:1034\u001b[0m, in \u001b[0;36mSparkSession.sql\u001b[0;34m(self, sqlQuery, **kwargs)\u001b[0m\n\u001b[1;32m   1032\u001b[0m     sqlQuery \u001b[38;5;241m=\u001b[39m formatter\u001b[38;5;241m.\u001b[39mformat(sqlQuery, \u001b[38;5;241m*\u001b[39m\u001b[38;5;241m*\u001b[39mkwargs)\n\u001b[1;32m   1033\u001b[0m \u001b[38;5;28;01mtry\u001b[39;00m:\n\u001b[0;32m-> 1034\u001b[0m     \u001b[38;5;28;01mreturn\u001b[39;00m DataFrame(\u001b[38;5;28;43mself\u001b[39;49m\u001b[38;5;241;43m.\u001b[39;49m\u001b[43m_jsparkSession\u001b[49m\u001b[38;5;241;43m.\u001b[39;49m\u001b[43msql\u001b[49m\u001b[43m(\u001b[49m\u001b[43msqlQuery\u001b[49m\u001b[43m)\u001b[49m, \u001b[38;5;28mself\u001b[39m)\n\u001b[1;32m   1035\u001b[0m \u001b[38;5;28;01mfinally\u001b[39;00m:\n\u001b[1;32m   1036\u001b[0m     \u001b[38;5;28;01mif\u001b[39;00m \u001b[38;5;28mlen\u001b[39m(kwargs) \u001b[38;5;241m>\u001b[39m \u001b[38;5;241m0\u001b[39m:\n",
      "File \u001b[0;32m/usr/lib/spark/python/lib/py4j-0.10.9.5-src.zip/py4j/java_gateway.py:1321\u001b[0m, in \u001b[0;36mJavaMember.__call__\u001b[0;34m(self, *args)\u001b[0m\n\u001b[1;32m   1315\u001b[0m command \u001b[38;5;241m=\u001b[39m proto\u001b[38;5;241m.\u001b[39mCALL_COMMAND_NAME \u001b[38;5;241m+\u001b[39m\\\n\u001b[1;32m   1316\u001b[0m     \u001b[38;5;28mself\u001b[39m\u001b[38;5;241m.\u001b[39mcommand_header \u001b[38;5;241m+\u001b[39m\\\n\u001b[1;32m   1317\u001b[0m     args_command \u001b[38;5;241m+\u001b[39m\\\n\u001b[1;32m   1318\u001b[0m     proto\u001b[38;5;241m.\u001b[39mEND_COMMAND_PART\n\u001b[1;32m   1320\u001b[0m answer \u001b[38;5;241m=\u001b[39m \u001b[38;5;28mself\u001b[39m\u001b[38;5;241m.\u001b[39mgateway_client\u001b[38;5;241m.\u001b[39msend_command(command)\n\u001b[0;32m-> 1321\u001b[0m return_value \u001b[38;5;241m=\u001b[39m \u001b[43mget_return_value\u001b[49m\u001b[43m(\u001b[49m\n\u001b[1;32m   1322\u001b[0m \u001b[43m    \u001b[49m\u001b[43manswer\u001b[49m\u001b[43m,\u001b[49m\u001b[43m \u001b[49m\u001b[38;5;28;43mself\u001b[39;49m\u001b[38;5;241;43m.\u001b[39;49m\u001b[43mgateway_client\u001b[49m\u001b[43m,\u001b[49m\u001b[43m \u001b[49m\u001b[38;5;28;43mself\u001b[39;49m\u001b[38;5;241;43m.\u001b[39;49m\u001b[43mtarget_id\u001b[49m\u001b[43m,\u001b[49m\u001b[43m \u001b[49m\u001b[38;5;28;43mself\u001b[39;49m\u001b[38;5;241;43m.\u001b[39;49m\u001b[43mname\u001b[49m\u001b[43m)\u001b[49m\n\u001b[1;32m   1324\u001b[0m \u001b[38;5;28;01mfor\u001b[39;00m temp_arg \u001b[38;5;129;01min\u001b[39;00m temp_args:\n\u001b[1;32m   1325\u001b[0m     temp_arg\u001b[38;5;241m.\u001b[39m_detach()\n",
      "File \u001b[0;32m/usr/lib/spark/python/pyspark/sql/utils.py:196\u001b[0m, in \u001b[0;36mcapture_sql_exception.<locals>.deco\u001b[0;34m(*a, **kw)\u001b[0m\n\u001b[1;32m    192\u001b[0m converted \u001b[38;5;241m=\u001b[39m convert_exception(e\u001b[38;5;241m.\u001b[39mjava_exception)\n\u001b[1;32m    193\u001b[0m \u001b[38;5;28;01mif\u001b[39;00m \u001b[38;5;129;01mnot\u001b[39;00m \u001b[38;5;28misinstance\u001b[39m(converted, UnknownException):\n\u001b[1;32m    194\u001b[0m     \u001b[38;5;66;03m# Hide where the exception came from that shows a non-Pythonic\u001b[39;00m\n\u001b[1;32m    195\u001b[0m     \u001b[38;5;66;03m# JVM exception message.\u001b[39;00m\n\u001b[0;32m--> 196\u001b[0m     \u001b[38;5;28;01mraise\u001b[39;00m converted \u001b[38;5;28;01mfrom\u001b[39;00m \u001b[38;5;28mNone\u001b[39m\n\u001b[1;32m    197\u001b[0m \u001b[38;5;28;01melse\u001b[39;00m:\n\u001b[1;32m    198\u001b[0m     \u001b[38;5;28;01mraise\u001b[39;00m\n",
      "\u001b[0;31mIllegalArgumentException\u001b[0m: requirement failed: Are you sure you would like to vacuum files with such a low retention period? If you have\nwriters that are currently writing to this table, there is a risk that you may corrupt the\nstate of your Delta table.\n\nIf you are certain that there are no operations being performed on this table, such as\ninsert/upsert/delete/optimize, then you may turn off this check by setting:\nspark.databricks.delta.retentionDurationCheck.enabled = false\n\nIf you are not sure, please use a value not less than \"168 hours\".\n       "
     ]
    }
   ],
   "source": [
    "spark.sql(\"VACUUM loan_db.loans_by_state_delta RETAIN 0 HOURS\")"
   ]
  },
  {
   "cell_type": "markdown",
   "id": "e02be4a7-0268-41ed-8b10-04d5301bebab",
   "metadata": {},
   "source": [
    "Delta does not allow you to VACUUM with 0 retention unless you have the below property set-"
   ]
  },
  {
   "cell_type": "code",
   "execution_count": 17,
   "id": "3154b4ef-5b31-4955-9932-aab48ca6ee19",
   "metadata": {},
   "outputs": [],
   "source": [
    "spark.conf.set(\"spark.databricks.delta.retentionDurationCheck.enabled\" , False)"
   ]
  },
  {
   "cell_type": "markdown",
   "id": "a4abf87c-c566-4a64-9419-094e6736a9de",
   "metadata": {},
   "source": [
    "Now VACUUM should work.."
   ]
  },
  {
   "cell_type": "code",
   "execution_count": 18,
   "id": "f0699a9f-faff-4669-95fd-2b91ee10227c",
   "metadata": {},
   "outputs": [
    {
     "name": "stderr",
     "output_type": "stream",
     "text": [
      "                                                                                \r"
     ]
    },
    {
     "name": "stdout",
     "output_type": "stream",
     "text": [
      "Deleted 28 files and directories in a total of 1 directories.\n"
     ]
    },
    {
     "data": {
      "text/plain": [
       "DataFrame[path: string]"
      ]
     },
     "execution_count": 18,
     "metadata": {},
     "output_type": "execute_result"
    }
   ],
   "source": [
    "spark.sql(\"VACUUM loan_db.loans_by_state_delta RETAIN 0 HOURS\")"
   ]
  },
  {
   "cell_type": "code",
   "execution_count": 19,
   "id": "050adc5d-48fe-464b-952c-6e456db047bb",
   "metadata": {},
   "outputs": [
    {
     "name": "stdout",
     "output_type": "stream",
     "text": [
      "2\n"
     ]
    }
   ],
   "source": [
    "!gsutil ls -r $DELTA_LAKE_DIR_ROOT/part* | wc -l"
   ]
  },
  {
   "cell_type": "code",
   "execution_count": 20,
   "id": "323e7552-45bf-40ea-900f-758d707ba7bc",
   "metadata": {},
   "outputs": [
    {
     "name": "stdout",
     "output_type": "stream",
     "text": [
      "gs://dll-data-bucket-885979867746/delta-consumable/:\n",
      "gs://dll-data-bucket-885979867746/delta-consumable/\n",
      "gs://dll-data-bucket-885979867746/delta-consumable/part-00000-9e3ca1ea-93a4-455a-9988-5e1250281ac0-c000.snappy.parquet\n",
      "gs://dll-data-bucket-885979867746/delta-consumable/part-00000-c2a74fad-c560-4efd-8b2e-5a8a7ddcc62e-c000.snappy.parquet\n",
      "\n",
      "gs://dll-data-bucket-885979867746/delta-consumable/_delta_log/:\n",
      "gs://dll-data-bucket-885979867746/delta-consumable/_delta_log/\n",
      "gs://dll-data-bucket-885979867746/delta-consumable/_delta_log/00000000000000000000.json\n",
      "gs://dll-data-bucket-885979867746/delta-consumable/_delta_log/00000000000000000001.json\n",
      "gs://dll-data-bucket-885979867746/delta-consumable/_delta_log/00000000000000000002.json\n",
      "gs://dll-data-bucket-885979867746/delta-consumable/_delta_log/00000000000000000003.json\n",
      "gs://dll-data-bucket-885979867746/delta-consumable/_delta_log/00000000000000000004.json\n",
      "gs://dll-data-bucket-885979867746/delta-consumable/_delta_log/00000000000000000005.json\n",
      "gs://dll-data-bucket-885979867746/delta-consumable/_delta_log/00000000000000000006.json\n",
      "gs://dll-data-bucket-885979867746/delta-consumable/_delta_log/00000000000000000007.json\n",
      "gs://dll-data-bucket-885979867746/delta-consumable/_delta_log/00000000000000000008.json\n",
      "gs://dll-data-bucket-885979867746/delta-consumable/_delta_log/00000000000000000009.json\n",
      "gs://dll-data-bucket-885979867746/delta-consumable/_delta_log/00000000000000000010.checkpoint.parquet\n",
      "gs://dll-data-bucket-885979867746/delta-consumable/_delta_log/00000000000000000010.json\n",
      "gs://dll-data-bucket-885979867746/delta-consumable/_delta_log/00000000000000000011.json\n",
      "gs://dll-data-bucket-885979867746/delta-consumable/_delta_log/00000000000000000012.json\n",
      "gs://dll-data-bucket-885979867746/delta-consumable/_delta_log/00000000000000000013.checkpoint.parquet\n",
      "gs://dll-data-bucket-885979867746/delta-consumable/_delta_log/00000000000000000013.json\n",
      "gs://dll-data-bucket-885979867746/delta-consumable/_delta_log/_last_checkpoint\n",
      "\n",
      "gs://dll-data-bucket-885979867746/delta-consumable/_symlink_format_manifest/:\n",
      "gs://dll-data-bucket-885979867746/delta-consumable/_symlink_format_manifest/\n",
      "gs://dll-data-bucket-885979867746/delta-consumable/_symlink_format_manifest/manifest\n"
     ]
    }
   ],
   "source": [
    "!gsutil ls -r $DELTA_LAKE_DIR_ROOT"
   ]
  },
  {
   "cell_type": "markdown",
   "id": "b86593ab-c082-4067-8f45-4d7f1836fef4",
   "metadata": {},
   "source": [
    "### THIS CONCLUDES THIS LAB. DONT FORGET TO SHUT DOWN THE LAB RESOURCES."
   ]
  }
 ],
 "metadata": {
  "language_info": {
   "codemirror_mode": {
    "name": "ipython",
    "version": 3
   },
   "file_extension": ".py",
   "mimetype": "text/x-python",
   "name": "python",
   "nbconvert_exporter": "python",
   "pygments_lexer": "ipython3",
   "version": "3.10.6"
  },
  "serverless_spark": "{\"name\":\"projects/delta-lake-lab/locations/us-central1/sessions/delta-lake-lab-13803\",\"uuid\":\"f2655fc3-8238-494e-b100-47a785085db6\",\"createTime\":\"2022-11-01T20:33:39.245614Z\",\"jupyterSession\":{},\"spark\":{},\"runtimeInfo\":{\"endpoints\":{\"Spark History Server\":\"https://smmei2wdurb7nptroshcbbgeda-dot-us-central1.dataproc.googleusercontent.com/sparkhistory/?eventLogDirFilter=f2655fc3-8238-494e-b100-47a785085db6\"}},\"state\":\"ACTIVE\",\"stateTime\":\"2022-11-01T20:35:05.784678Z\",\"creator\":\"admin@akhanolkar.altostrat.com\",\"runtimeConfig\":{\"version\":\"2.0\",\"properties\":{\"spark:spark.jars.packages\":\"io.delta:delta-core_2.13:2.1.0\",\"spark:spark.sql.catalog.spark_catalog\":\"org.apache.spark.sql.delta.catalog.DeltaCatalog\",\"spark:spark.sql.extensions\":\"io.delta.sql.DeltaSparkSessionExtension\",\"spark:spark.executor.instances\":\"2\",\"spark:spark.driver.cores\":\"4\",\"spark:spark.executor.cores\":\"4\",\"spark:spark.dynamicAllocation.executorAllocationRatio\":\"0.3\",\"spark:spark.eventLog.dir\":\"gs://dll-sphs-bucket-885979867746/f2655fc3-8238-494e-b100-47a785085db6/spark-job-history\"}},\"environmentConfig\":{\"executionConfig\":{\"serviceAccount\":\"dll-lab-sa@delta-lake-lab.iam.gserviceaccount.com\",\"subnetworkUri\":\"spark-snet\",\"idleTtl\":\"14400s\"},\"peripheralsConfig\":{\"metastoreService\":\"projects/delta-lake-lab/locations/us-central1/services/dll-hms-885979867746\",\"sparkHistoryServerConfig\":{\"dataprocCluster\":\"projects/delta-lake-lab/regions/us-central1/clusters/dll-sphs-885979867746\"}}},\"stateHistory\":[{\"state\":\"CREATING\",\"stateStartTime\":\"2022-11-01T20:33:39.245614Z\"}]}",
  "serverless_spark_kernel_name": "remote-4a2e3012d18a64755cb71093-pyspark",
  "vscode": {
   "interpreter": {
    "hash": "aee8b7b246df8f9039afb4144a1f6fd8d2ca17a180786b69acc140d282b71a49"
   }
  }
 },
 "nbformat": 4,
 "nbformat_minor": 5
}