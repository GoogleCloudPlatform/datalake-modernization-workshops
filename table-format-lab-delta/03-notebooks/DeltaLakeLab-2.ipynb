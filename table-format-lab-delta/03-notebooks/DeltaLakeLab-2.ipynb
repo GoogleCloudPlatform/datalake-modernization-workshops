{
 "cells": [
  {
   "cell_type": "markdown",
   "id": "4529a790-8425-4600-841a-4b094b82eaa8",
   "metadata": {},
   "source": [
    "# Delta Lake Lab \n",
    "## Unit 2: Create a Delta Lake table\n",
    "In the previous unit -\n",
    "1. We read parquet data in the datalake\n",
    "2. Cleansed it, subset it and persisted it as parquet to the datalake parquet-consumable directory\n",
    "3. We crated a database called loan_db and defined an external table on the data in parquet-consumable\n",
    "\n",
    "In this unit you will learn to -\n",
    "1. Create a base table in Delta off of the Parquet table in the prior notebook.\n",
    "2. Create a partitioned Delta table off of the Parquet table in the prior notebook."
   ]
  },
  {
   "cell_type": "markdown",
   "id": "1a31c4fd-d465-4f52-8e56-3775bf499abc",
   "metadata": {},
   "source": [
    "### 1. Imports"
   ]
  },
  {
   "cell_type": "code",
   "execution_count": 1,
   "id": "1321bce9-178c-4065-8187-0a5728c1a370",
   "metadata": {},
   "outputs": [],
   "source": [
    "import pandas as pd\n",
    "\n",
    "from pyspark.sql.functions import month, date_format\n",
    "from pyspark.sql.types import IntegerType\n",
    "from pyspark.sql import SparkSession\n",
    "\n",
    "from delta.tables import *\n",
    "\n",
    "import warnings\n",
    "warnings.filterwarnings('ignore')"
   ]
  },
  {
   "cell_type": "markdown",
   "id": "ed295a74-ed1d-4b5d-831a-1b5dcf73c36f",
   "metadata": {},
   "source": [
    "### 2. Create a Spark session powered by Cloud Dataproc "
   ]
  },
  {
   "cell_type": "code",
   "execution_count": 2,
   "id": "b383d5ab-a0b9-45ab-a232-34d88f2a0065",
   "metadata": {},
   "outputs": [
    {
     "name": "stderr",
     "output_type": "stream",
     "text": [
      "22/11/01 21:30:04 WARN SparkSession: Using an existing Spark session; only runtime SQL configurations will take effect.\n"
     ]
    },
    {
     "data": {
      "text/html": [
       "\n",
       "            <div>\n",
       "                <p><b>SparkSession - hive</b></p>\n",
       "                \n",
       "        <div>\n",
       "            <p><b>SparkContext</b></p>\n",
       "\n",
       "            <p><a href=\"http://gdpic-srvls-session-cc6b1af7-fba9-41fd-b379-13891e4f5d78-m.us-central1-b.c.delta-lake-lab.internal:4040\">Spark UI</a></p>\n",
       "\n",
       "            <dl>\n",
       "              <dt>Version</dt>\n",
       "                <dd><code>v3.3.1</code></dd>\n",
       "              <dt>Master</dt>\n",
       "                <dd><code>spark://gdpic-srvls-session-cc6b1af7-fba9-41fd-b379-13891e4f5d78-m:7077</code></dd>\n",
       "              <dt>AppName</dt>\n",
       "                <dd><code>PySparkShell</code></dd>\n",
       "            </dl>\n",
       "        </div>\n",
       "        \n",
       "            </div>\n",
       "        "
      ],
      "text/plain": [
       "<pyspark.sql.session.SparkSession at 0x7fbb2a9ce9b0>"
      ]
     },
     "execution_count": 2,
     "metadata": {},
     "output_type": "execute_result"
    }
   ],
   "source": [
    "spark = SparkSession.builder.appName('Loan Analysis').getOrCreate()\n",
    "spark"
   ]
  },
  {
   "cell_type": "markdown",
   "id": "63cd13e6-f3f5-4f2c-b4fc-d7e2660c6206",
   "metadata": {},
   "source": [
    "### 3. Declare variables"
   ]
  },
  {
   "cell_type": "code",
   "execution_count": 3,
   "id": "5596e31b-749a-4702-8879-6f05f9ff0c2d",
   "metadata": {},
   "outputs": [
    {
     "name": "stdout",
     "output_type": "stream",
     "text": [
      "PROJECT_ID:  delta-lake-lab\n"
     ]
    }
   ],
   "source": [
    "project_id_output = !gcloud config list --format \"value(core.project)\" 2>/dev/null\n",
    "PROJECT_ID = project_id_output[0]\n",
    "print(\"PROJECT_ID: \", PROJECT_ID)"
   ]
  },
  {
   "cell_type": "code",
   "execution_count": 4,
   "id": "471c6743-a058-462b-851a-f34323f36243",
   "metadata": {},
   "outputs": [
    {
     "name": "stdout",
     "output_type": "stream",
     "text": [
      "PROJECT_NAME:  delta-lake-lab\n"
     ]
    }
   ],
   "source": [
    "project_name_output = !gcloud projects describe $PROJECT_ID | grep name | cut -d':' -f2 | xargs\n",
    "PROJECT_NAME = project_name_output[0]\n",
    "print(\"PROJECT_NAME: \", PROJECT_NAME)"
   ]
  },
  {
   "cell_type": "code",
   "execution_count": null,
   "metadata": {},
   "outputs": [],
   "source": [
    "ACCOUNT_NAME = \"akhjain\""
   ]
  },
  {
   "cell_type": "code",
   "execution_count": 5,
   "id": "61929dc6-a083-433c-8a13-3d39d9c4a4a1",
   "metadata": {},
   "outputs": [
    {
     "name": "stdout",
     "output_type": "stream",
     "text": [
      "PROJECT_NUMBER:  885979867746\n"
     ]
    }
   ],
   "source": [
    "project_number_output = !gcloud projects describe $PROJECT_ID | grep projectNumber | cut -d':' -f2 | xargs\n",
    "PROJECT_NUMBER = project_number_output[0]\n",
    "print(\"PROJECT_NUMBER: \", PROJECT_NUMBER)"
   ]
  },
  {
   "cell_type": "code",
   "execution_count": 6,
   "id": "f8b79fd2-5243-41a4-ae87-e7f9dd87cf20",
   "metadata": {},
   "outputs": [],
   "source": [
    "DATA_LAKE_ROOT_PATH= f\"gs://dll-data-bucket-{PROJECT_NUMBER}-{ACCOUNT_NAME}\""
   ]
  },
  {
   "cell_type": "code",
   "execution_count": 7,
   "id": "1fa7c08d-a9e2-4992-8de4-15c6b8039f61",
   "metadata": {},
   "outputs": [],
   "source": [
    "DELTA_LAKE_DIR_ROOT = f\"{DATA_LAKE_ROOT_PATH}/delta-consumable\""
   ]
  },
  {
   "cell_type": "code",
   "execution_count": 8,
   "id": "75af85d5-27a5-4307-8778-d7c3594e5836",
   "metadata": {},
   "outputs": [
    {
     "name": "stderr",
     "output_type": "stream",
     "text": [
      "ANTLR Tool version 4.8 used for code generation does not match the current runtime version 4.9.3\n",
      "ANTLR Runtime version 4.8 used for parser compilation does not match the current runtime version 4.9.3\n",
      "ANTLR Tool version 4.8 used for code generation does not match the current runtime version 4.9.3\n",
      "ANTLR Runtime version 4.8 used for parser compilation does not match the current runtime version 4.9.3\n",
      "ivysettings.xml file not found in HIVE_HOME or HIVE_CONF_DIR,/etc/spark/conf/ivysettings.xml will be used\n",
      "                                                                                \r"
     ]
    }
   ],
   "source": [
    "# Create delta dataset from the Parquet table\n",
    "spark.sql(\"SELECT addr_state,count(*) as count FROM loan_db.loans_by_state_parquet group by addr_state\").write.mode(\"overwrite\").format(\"delta\").save(f\"{DELTA_LAKE_DIR_ROOT}\")"
   ]
  },
  {
   "cell_type": "code",
   "execution_count": 9,
   "id": "01f9b9ce-0e71-4e9e-b8dd-8377c0ae7494",
   "metadata": {},
   "outputs": [
    {
     "name": "stdout",
     "output_type": "stream",
     "text": [
      "++\n",
      "||\n",
      "++\n",
      "++\n",
      "\n"
     ]
    },
    {
     "name": "stderr",
     "output_type": "stream",
     "text": [
      "22/11/01 21:30:48 WARN HiveExternalCatalog: Couldn't find corresponding Hive SerDe for data source provider delta. Persisting data source table `loan_db`.`loans_by_state_delta` into Hive metastore in Spark SQL specific format, which is NOT compatible with Hive.\n",
      "22/11/01 21:30:48 WARN SessionState: METASTORE_FILTER_HOOK will be ignored, since hive.security.authorization.manager is set to instance of HiveAuthorizerFactory.\n"
     ]
    },
    {
     "data": {
      "text/plain": [
       "DataFrame[]"
      ]
     },
     "execution_count": 9,
     "metadata": {},
     "output_type": "execute_result"
    }
   ],
   "source": [
    "# Define external delta table definition\n",
    "spark.sql(\"DROP TABLE IF EXISTS loan_db.loans_by_state_delta;\").show(truncate=False)\n",
    "spark.sql(f\"CREATE TABLE loan_db.loans_by_state_delta USING delta LOCATION \\\"{DELTA_LAKE_DIR_ROOT}\\\"\")"
   ]
  },
  {
   "cell_type": "code",
   "execution_count": 10,
   "id": "f630f3b9-1333-450b-a6fc-7c6c4d2a7e58",
   "metadata": {},
   "outputs": [
    {
     "name": "stdout",
     "output_type": "stream",
     "text": [
      "+---------+--------------------+-----------+\n",
      "|namespace|           tableName|isTemporary|\n",
      "+---------+--------------------+-----------+\n",
      "|  loan_db|loans_by_state_delta|      false|\n",
      "|  loan_db|loans_by_state_pa...|      false|\n",
      "|  loan_db|loans_cleansed_pa...|      false|\n",
      "+---------+--------------------+-----------+\n",
      "\n"
     ]
    }
   ],
   "source": [
    "spark.sql(\"show tables from loan_db;\").show()"
   ]
  },
  {
   "cell_type": "code",
   "execution_count": 11,
   "id": "54ce6b8c-b366-457c-a870-68f336d95f55",
   "metadata": {},
   "outputs": [
    {
     "name": "stderr",
     "output_type": "stream",
     "text": [
      "[Stage 13:>                                                         (0 + 1) / 1]\r"
     ]
    },
    {
     "name": "stdout",
     "output_type": "stream",
     "text": [
      "+----------+-----+\n",
      "|addr_state|count|\n",
      "+----------+-----+\n",
      "|        AZ|    1|\n",
      "|        SC|    1|\n",
      "+----------+-----+\n",
      "\n"
     ]
    },
    {
     "name": "stderr",
     "output_type": "stream",
     "text": [
      "                                                                                \r"
     ]
    }
   ],
   "source": [
    "spark.sql(\"select * from loan_db.loans_by_state_delta limit 2\").show()"
   ]
  },
  {
   "cell_type": "code",
   "execution_count": 12,
   "id": "734e1bc2-d0e9-4f7b-b4b0-25082cbe7afa",
   "metadata": {},
   "outputs": [
    {
     "name": "stdout",
     "output_type": "stream",
     "text": [
      "+--------------------+--------------------+-------+\n",
      "|            col_name|           data_type|comment|\n",
      "+--------------------+--------------------+-------+\n",
      "|          addr_state|              string|       |\n",
      "|               count|              bigint|       |\n",
      "|                    |                    |       |\n",
      "|      # Partitioning|                    |       |\n",
      "|     Not partitioned|                    |       |\n",
      "|                    |                    |       |\n",
      "|# Detailed Table ...|                    |       |\n",
      "|                Name|loan_db.loans_by_...|       |\n",
      "|            Location|gs://dll-data-buc...|       |\n",
      "|            Provider|               delta|       |\n",
      "|               Owner|               spark|       |\n",
      "|            External|                true|       |\n",
      "|    Table Properties|[delta.minReaderV...|       |\n",
      "+--------------------+--------------------+-------+\n",
      "\n"
     ]
    }
   ],
   "source": [
    "spark.sql(\"DESCRIBE FORMATTED loan_db.loans_by_state_delta\").show()"
   ]
  },
  {
   "cell_type": "code",
   "execution_count": 13,
   "id": "dbaa4248-2cd4-415c-a690-5b4f627d557f",
   "metadata": {},
   "outputs": [
    {
     "name": "stdout",
     "output_type": "stream",
     "text": [
      "+--------------------+--------------------+-------+\n",
      "|            col_name|           data_type|comment|\n",
      "+--------------------+--------------------+-------+\n",
      "|          addr_state|              string|       |\n",
      "|               count|              bigint|       |\n",
      "|                    |                    |       |\n",
      "|      # Partitioning|                    |       |\n",
      "|     Not partitioned|                    |       |\n",
      "|                    |                    |       |\n",
      "|# Detailed Table ...|                    |       |\n",
      "|                Name|loan_db.loans_by_...|       |\n",
      "|            Location|gs://dll-data-buc...|       |\n",
      "|            Provider|               delta|       |\n",
      "|               Owner|               spark|       |\n",
      "|            External|                true|       |\n",
      "|    Table Properties|[delta.minReaderV...|       |\n",
      "+--------------------+--------------------+-------+\n",
      "\n"
     ]
    }
   ],
   "source": [
    "spark.sql(\"DESCRIBE EXTENDED loan_db.loans_by_state_delta\").show()"
   ]
  },
  {
   "cell_type": "markdown",
   "id": "5a7b2095-91c7-41d5-9fc0-092c3511d0c4",
   "metadata": {},
   "source": [
    "### 5. Create a partitioned Delta Lake table"
   ]
  },
  {
   "cell_type": "code",
   "execution_count": 14,
   "id": "d1e6e4ba-742b-44ce-b58a-590dcf42eaf0",
   "metadata": {},
   "outputs": [],
   "source": [
    "DELTA_LAKE_DIR_ROOT = f\"{DATA_LAKE_ROOT_PATH}/delta-sample-partitioned\""
   ]
  },
  {
   "cell_type": "code",
   "execution_count": 15,
   "id": "5fe8230a-609a-4ae3-a990-17498ae6144a",
   "metadata": {},
   "outputs": [
    {
     "name": "stderr",
     "output_type": "stream",
     "text": [
      "                                                                                \r"
     ]
    }
   ],
   "source": [
    "# Create delta dataset from the Parquet table\n",
    "spark.sql(\"SELECT addr_state,count(*) as count FROM loan_db.loans_by_state_parquet group by addr_state\").write.mode(\"overwrite\").partitionBy(\"addr_state\").format(\"delta\").save(f\"{DELTA_LAKE_DIR_ROOT}\")"
   ]
  },
  {
   "cell_type": "markdown",
   "id": "a0468c88-4f56-48af-9165-d4f1bbcbbda3",
   "metadata": {},
   "source": [
    "### 6. A quick peek at the data lake layout\n",
    "Compare this to the last cell of the prior notebook."
   ]
  },
  {
   "cell_type": "code",
   "execution_count": 16,
   "id": "d417104e-973f-422a-9bf1-e484a65b9f65",
   "metadata": {},
   "outputs": [
    {
     "name": "stdout",
     "output_type": "stream",
     "text": [
      "gs://dll-data-bucket-885979867746/delta-consumable/:\n",
      "gs://dll-data-bucket-885979867746/delta-consumable/part-00000-bd1648aa-3db7-43e9-beb7-db0593eefbb5-c000.snappy.parquet\n",
      "\n",
      "gs://dll-data-bucket-885979867746/delta-consumable/_delta_log/:\n",
      "gs://dll-data-bucket-885979867746/delta-consumable/_delta_log/\n",
      "gs://dll-data-bucket-885979867746/delta-consumable/_delta_log/00000000000000000000.json\n",
      "\n",
      "gs://dll-data-bucket-885979867746/delta-sample-partitioned/:\n",
      "\n",
      "gs://dll-data-bucket-885979867746/delta-sample-partitioned/_delta_log/:\n",
      "gs://dll-data-bucket-885979867746/delta-sample-partitioned/_delta_log/\n",
      "gs://dll-data-bucket-885979867746/delta-sample-partitioned/_delta_log/00000000000000000000.json\n",
      "\n",
      "gs://dll-data-bucket-885979867746/delta-sample-partitioned/addr_state=AK/:\n",
      "gs://dll-data-bucket-885979867746/delta-sample-partitioned/addr_state=AK/part-00000-43aaa8b5-c0ce-4c61-bc63-30ca0406360f.c000.snappy.parquet\n",
      "\n",
      "gs://dll-data-bucket-885979867746/delta-sample-partitioned/addr_state=AL/:\n",
      "gs://dll-data-bucket-885979867746/delta-sample-partitioned/addr_state=AL/part-00000-f6e89e67-0673-4daf-960e-d2b57613fb0b.c000.snappy.parquet\n",
      "\n",
      "gs://dll-data-bucket-885979867746/delta-sample-partitioned/addr_state=AR/:\n",
      "gs://dll-data-bucket-885979867746/delta-sample-partitioned/addr_state=AR/part-00000-83da71bc-2095-45b3-815e-293da68e9ab2.c000.snappy.parquet\n",
      "\n",
      "gs://dll-data-bucket-885979867746/delta-sample-partitioned/addr_state=AZ/:\n",
      "gs://dll-data-bucket-885979867746/delta-sample-partitioned/addr_state=AZ/part-00000-b7859bf8-a568-44fa-b623-dfe410d60b3a.c000.snappy.parquet\n",
      "\n",
      "gs://dll-data-bucket-885979867746/delta-sample-partitioned/addr_state=CA/:\n",
      "gs://dll-data-bucket-885979867746/delta-sample-partitioned/addr_state=CA/part-00000-a609e960-56dc-4eb9-b857-5dad7eaca852.c000.snappy.parquet\n",
      "\n",
      "gs://dll-data-bucket-885979867746/delta-sample-partitioned/addr_state=CO/:\n",
      "gs://dll-data-bucket-885979867746/delta-sample-partitioned/addr_state=CO/part-00000-43f12a23-ac53-45c2-9b26-999b2318727d.c000.snappy.parquet\n",
      "\n",
      "gs://dll-data-bucket-885979867746/delta-sample-partitioned/addr_state=CT/:\n",
      "gs://dll-data-bucket-885979867746/delta-sample-partitioned/addr_state=CT/part-00000-890c9f91-aaba-44d1-bd19-056a5ad4c279.c000.snappy.parquet\n",
      "\n",
      "gs://dll-data-bucket-885979867746/delta-sample-partitioned/addr_state=DC/:\n",
      "gs://dll-data-bucket-885979867746/delta-sample-partitioned/addr_state=DC/part-00000-c1fc85e3-e229-4408-94de-47151c79ed1c.c000.snappy.parquet\n",
      "\n",
      "gs://dll-data-bucket-885979867746/delta-sample-partitioned/addr_state=DE/:\n",
      "gs://dll-data-bucket-885979867746/delta-sample-partitioned/addr_state=DE/part-00000-41b7a210-6be6-47dc-adcf-2e45b88dc8a2.c000.snappy.parquet\n",
      "\n",
      "gs://dll-data-bucket-885979867746/delta-sample-partitioned/addr_state=FL/:\n",
      "gs://dll-data-bucket-885979867746/delta-sample-partitioned/addr_state=FL/part-00000-b806d487-85e6-4e87-ad52-2af0a1c4e62f.c000.snappy.parquet\n",
      "\n",
      "gs://dll-data-bucket-885979867746/delta-sample-partitioned/addr_state=GA/:\n",
      "gs://dll-data-bucket-885979867746/delta-sample-partitioned/addr_state=GA/part-00000-5a04b991-5e84-4544-bab3-eea560b852eb.c000.snappy.parquet\n",
      "\n",
      "gs://dll-data-bucket-885979867746/delta-sample-partitioned/addr_state=HI/:\n",
      "gs://dll-data-bucket-885979867746/delta-sample-partitioned/addr_state=HI/part-00000-36af2305-0dda-4fce-bbec-228011a0bb99.c000.snappy.parquet\n",
      "\n",
      "gs://dll-data-bucket-885979867746/delta-sample-partitioned/addr_state=IA/:\n",
      "gs://dll-data-bucket-885979867746/delta-sample-partitioned/addr_state=IA/part-00000-4ce45f84-88a3-4081-9886-ecc94e98ba1a.c000.snappy.parquet\n",
      "\n",
      "gs://dll-data-bucket-885979867746/delta-sample-partitioned/addr_state=ID/:\n",
      "gs://dll-data-bucket-885979867746/delta-sample-partitioned/addr_state=ID/part-00000-7d8c9a41-6811-4edc-99af-9be6f56ea7b0.c000.snappy.parquet\n",
      "\n",
      "gs://dll-data-bucket-885979867746/delta-sample-partitioned/addr_state=IL/:\n",
      "gs://dll-data-bucket-885979867746/delta-sample-partitioned/addr_state=IL/part-00000-a631ce83-ae12-46e5-92e6-9f1818b68cb4.c000.snappy.parquet\n",
      "\n",
      "gs://dll-data-bucket-885979867746/delta-sample-partitioned/addr_state=IN/:\n",
      "gs://dll-data-bucket-885979867746/delta-sample-partitioned/addr_state=IN/part-00000-7387ca00-4585-48d5-9a58-11d677936317.c000.snappy.parquet\n",
      "\n",
      "gs://dll-data-bucket-885979867746/delta-sample-partitioned/addr_state=KS/:\n",
      "gs://dll-data-bucket-885979867746/delta-sample-partitioned/addr_state=KS/part-00000-1071a3b6-88f9-4e7b-a9f6-d10c6009c4d2.c000.snappy.parquet\n",
      "\n",
      "gs://dll-data-bucket-885979867746/delta-sample-partitioned/addr_state=KY/:\n",
      "gs://dll-data-bucket-885979867746/delta-sample-partitioned/addr_state=KY/part-00000-7ab06f24-bb18-406f-b3be-c4ae4e4ca1bb.c000.snappy.parquet\n",
      "\n",
      "gs://dll-data-bucket-885979867746/delta-sample-partitioned/addr_state=LA/:\n",
      "gs://dll-data-bucket-885979867746/delta-sample-partitioned/addr_state=LA/part-00000-9b6a8fbe-70e6-4e05-a29f-b9e333ca6f4c.c000.snappy.parquet\n",
      "\n",
      "gs://dll-data-bucket-885979867746/delta-sample-partitioned/addr_state=MA/:\n",
      "gs://dll-data-bucket-885979867746/delta-sample-partitioned/addr_state=MA/part-00000-6d62560f-ec31-40fa-b495-8bbc03d0a365.c000.snappy.parquet\n",
      "\n",
      "gs://dll-data-bucket-885979867746/delta-sample-partitioned/addr_state=MD/:\n",
      "gs://dll-data-bucket-885979867746/delta-sample-partitioned/addr_state=MD/part-00000-56bdbead-9f28-4ed6-b38b-56dde6189bef.c000.snappy.parquet\n",
      "\n",
      "gs://dll-data-bucket-885979867746/delta-sample-partitioned/addr_state=ME/:\n",
      "gs://dll-data-bucket-885979867746/delta-sample-partitioned/addr_state=ME/part-00000-8075e829-39ed-4be3-8a8c-17da6a294598.c000.snappy.parquet\n",
      "\n",
      "gs://dll-data-bucket-885979867746/delta-sample-partitioned/addr_state=MI/:\n",
      "gs://dll-data-bucket-885979867746/delta-sample-partitioned/addr_state=MI/part-00000-8a059dd3-74e2-47ae-acbc-6a9c8d80f24d.c000.snappy.parquet\n",
      "\n",
      "gs://dll-data-bucket-885979867746/delta-sample-partitioned/addr_state=MN/:\n",
      "gs://dll-data-bucket-885979867746/delta-sample-partitioned/addr_state=MN/part-00000-400a9add-a941-45fc-9b71-b68128fdddba.c000.snappy.parquet\n",
      "\n",
      "gs://dll-data-bucket-885979867746/delta-sample-partitioned/addr_state=MO/:\n",
      "gs://dll-data-bucket-885979867746/delta-sample-partitioned/addr_state=MO/part-00000-dbb14ff2-3121-4a78-80c5-fb305ac676be.c000.snappy.parquet\n",
      "\n",
      "gs://dll-data-bucket-885979867746/delta-sample-partitioned/addr_state=MS/:\n",
      "gs://dll-data-bucket-885979867746/delta-sample-partitioned/addr_state=MS/part-00000-500a8e20-ae1e-4f6e-a15c-cc4d07d0dacb.c000.snappy.parquet\n",
      "\n",
      "gs://dll-data-bucket-885979867746/delta-sample-partitioned/addr_state=MT/:\n",
      "gs://dll-data-bucket-885979867746/delta-sample-partitioned/addr_state=MT/part-00000-4d0b8d7c-e253-4356-a63f-a0f720854d60.c000.snappy.parquet\n",
      "\n",
      "gs://dll-data-bucket-885979867746/delta-sample-partitioned/addr_state=NC/:\n",
      "gs://dll-data-bucket-885979867746/delta-sample-partitioned/addr_state=NC/part-00000-f6625002-7d4d-4c6d-aa41-aa0af1ad740c.c000.snappy.parquet\n",
      "\n",
      "gs://dll-data-bucket-885979867746/delta-sample-partitioned/addr_state=ND/:\n",
      "gs://dll-data-bucket-885979867746/delta-sample-partitioned/addr_state=ND/part-00000-3c0c6cd7-a144-4f24-b7d4-4281c16e0d51.c000.snappy.parquet\n",
      "\n",
      "gs://dll-data-bucket-885979867746/delta-sample-partitioned/addr_state=NE/:\n",
      "gs://dll-data-bucket-885979867746/delta-sample-partitioned/addr_state=NE/part-00000-48a9202f-fae0-4eda-a37a-a7b2c8bde545.c000.snappy.parquet\n",
      "\n",
      "gs://dll-data-bucket-885979867746/delta-sample-partitioned/addr_state=NH/:\n",
      "gs://dll-data-bucket-885979867746/delta-sample-partitioned/addr_state=NH/part-00000-b8102c63-2ab7-4df7-958a-c8833f159d6a.c000.snappy.parquet\n",
      "\n",
      "gs://dll-data-bucket-885979867746/delta-sample-partitioned/addr_state=NJ/:\n",
      "gs://dll-data-bucket-885979867746/delta-sample-partitioned/addr_state=NJ/part-00000-4dfba40f-48cd-4cec-954e-a2c9c0ab85fd.c000.snappy.parquet\n",
      "\n",
      "gs://dll-data-bucket-885979867746/delta-sample-partitioned/addr_state=NM/:\n",
      "gs://dll-data-bucket-885979867746/delta-sample-partitioned/addr_state=NM/part-00000-4fb64160-3f5d-43f2-baaf-42a28f40b03a.c000.snappy.parquet\n",
      "\n",
      "gs://dll-data-bucket-885979867746/delta-sample-partitioned/addr_state=NV/:\n",
      "gs://dll-data-bucket-885979867746/delta-sample-partitioned/addr_state=NV/part-00000-cb07a9c7-a270-40c8-99c2-dd093948609e.c000.snappy.parquet\n",
      "\n",
      "gs://dll-data-bucket-885979867746/delta-sample-partitioned/addr_state=NY/:\n",
      "gs://dll-data-bucket-885979867746/delta-sample-partitioned/addr_state=NY/part-00000-d6009839-5901-4adc-8f72-50ca800fbc7c.c000.snappy.parquet\n",
      "\n",
      "gs://dll-data-bucket-885979867746/delta-sample-partitioned/addr_state=OH/:\n",
      "gs://dll-data-bucket-885979867746/delta-sample-partitioned/addr_state=OH/part-00000-6f38a2e6-c758-4a7f-8b38-b83147fc513b.c000.snappy.parquet\n",
      "\n",
      "gs://dll-data-bucket-885979867746/delta-sample-partitioned/addr_state=OK/:\n",
      "gs://dll-data-bucket-885979867746/delta-sample-partitioned/addr_state=OK/part-00000-7c59a2a5-8f89-402f-b1f2-fa8251a8b5af.c000.snappy.parquet\n",
      "\n",
      "gs://dll-data-bucket-885979867746/delta-sample-partitioned/addr_state=OR/:\n",
      "gs://dll-data-bucket-885979867746/delta-sample-partitioned/addr_state=OR/part-00000-f19ae817-405d-4a39-95b6-d9fdf4bd8ebb.c000.snappy.parquet\n",
      "\n",
      "gs://dll-data-bucket-885979867746/delta-sample-partitioned/addr_state=PA/:\n",
      "gs://dll-data-bucket-885979867746/delta-sample-partitioned/addr_state=PA/part-00000-d55df0c2-494b-4b0b-aff5-779609bb0444.c000.snappy.parquet\n",
      "\n",
      "gs://dll-data-bucket-885979867746/delta-sample-partitioned/addr_state=RI/:\n",
      "gs://dll-data-bucket-885979867746/delta-sample-partitioned/addr_state=RI/part-00000-64884c27-c6b0-4fb4-a271-471bd5a9d67e.c000.snappy.parquet\n",
      "\n",
      "gs://dll-data-bucket-885979867746/delta-sample-partitioned/addr_state=SC/:\n",
      "gs://dll-data-bucket-885979867746/delta-sample-partitioned/addr_state=SC/part-00000-b94100b8-f39a-4bde-a025-2c36eaf8af16.c000.snappy.parquet\n",
      "\n",
      "gs://dll-data-bucket-885979867746/delta-sample-partitioned/addr_state=SD/:\n",
      "gs://dll-data-bucket-885979867746/delta-sample-partitioned/addr_state=SD/part-00000-a546caa3-e58e-4d54-bd8a-e5ed3c3b42f0.c000.snappy.parquet\n",
      "\n",
      "gs://dll-data-bucket-885979867746/delta-sample-partitioned/addr_state=TN/:\n",
      "gs://dll-data-bucket-885979867746/delta-sample-partitioned/addr_state=TN/part-00000-128d3835-a5a7-424c-96f1-6f04d2bc0c98.c000.snappy.parquet\n",
      "\n",
      "gs://dll-data-bucket-885979867746/delta-sample-partitioned/addr_state=TX/:\n",
      "gs://dll-data-bucket-885979867746/delta-sample-partitioned/addr_state=TX/part-00000-428c5cf5-5417-42c1-b82c-3a3187f20115.c000.snappy.parquet\n",
      "\n",
      "gs://dll-data-bucket-885979867746/delta-sample-partitioned/addr_state=UT/:\n",
      "gs://dll-data-bucket-885979867746/delta-sample-partitioned/addr_state=UT/part-00000-77019930-c736-4664-8bc1-07dd73dbb14e.c000.snappy.parquet\n",
      "\n",
      "gs://dll-data-bucket-885979867746/delta-sample-partitioned/addr_state=VA/:\n",
      "gs://dll-data-bucket-885979867746/delta-sample-partitioned/addr_state=VA/part-00000-267b2acd-81d8-4293-a692-04c6faaa4553.c000.snappy.parquet\n",
      "\n",
      "gs://dll-data-bucket-885979867746/delta-sample-partitioned/addr_state=VT/:\n",
      "gs://dll-data-bucket-885979867746/delta-sample-partitioned/addr_state=VT/part-00000-ab29529d-c57d-4064-bd2a-a519507cbce7.c000.snappy.parquet\n",
      "\n",
      "gs://dll-data-bucket-885979867746/delta-sample-partitioned/addr_state=WA/:\n",
      "gs://dll-data-bucket-885979867746/delta-sample-partitioned/addr_state=WA/part-00000-69ad6f38-0a7c-46a0-bd84-34baf2c179e4.c000.snappy.parquet\n",
      "\n",
      "gs://dll-data-bucket-885979867746/delta-sample-partitioned/addr_state=WI/:\n",
      "gs://dll-data-bucket-885979867746/delta-sample-partitioned/addr_state=WI/part-00000-67ea59e0-9ece-4d72-a595-2e2fa55f77e9.c000.snappy.parquet\n",
      "\n",
      "gs://dll-data-bucket-885979867746/delta-sample-partitioned/addr_state=WV/:\n",
      "gs://dll-data-bucket-885979867746/delta-sample-partitioned/addr_state=WV/part-00000-21bd7d6e-cc19-47a1-ae83-7b3c5afbe65b.c000.snappy.parquet\n",
      "\n",
      "gs://dll-data-bucket-885979867746/delta-sample-partitioned/addr_state=WY/:\n",
      "gs://dll-data-bucket-885979867746/delta-sample-partitioned/addr_state=WY/part-00000-74985c54-967b-4d6e-aa3e-0c19f9c95a1f.c000.snappy.parquet\n",
      "\n",
      "gs://dll-data-bucket-885979867746/parquet-cleansed/:\n",
      "gs://dll-data-bucket-885979867746/parquet-cleansed/\n",
      "gs://dll-data-bucket-885979867746/parquet-cleansed/_SUCCESS\n",
      "gs://dll-data-bucket-885979867746/parquet-cleansed/part-00000-e954d40d-3eae-4602-9cd2-a326b8b18438-c000.snappy.parquet\n",
      "gs://dll-data-bucket-885979867746/parquet-cleansed/part-00001-e954d40d-3eae-4602-9cd2-a326b8b18438-c000.snappy.parquet\n",
      "\n",
      "gs://dll-data-bucket-885979867746/parquet-consumable/:\n",
      "gs://dll-data-bucket-885979867746/parquet-consumable/\n",
      "gs://dll-data-bucket-885979867746/parquet-consumable/_SUCCESS\n",
      "gs://dll-data-bucket-885979867746/parquet-consumable/part-00000-707d61b6-b488-4daa-b9c1-f1dc435eded2-c000.snappy.parquet\n",
      "\n",
      "gs://dll-data-bucket-885979867746/parquet-source/:\n",
      "gs://dll-data-bucket-885979867746/parquet-source/loans_raw_1.snappy.parquet\n",
      "gs://dll-data-bucket-885979867746/parquet-source/loans_raw_2.snappy.parquet\n",
      "gs://dll-data-bucket-885979867746/parquet-source/loans_raw_3.snappy.parquet\n"
     ]
    }
   ],
   "source": [
    "!gsutil ls -r $DATA_LAKE_ROOT_PATH"
   ]
  },
  {
   "cell_type": "code",
   "execution_count": 19,
   "id": "a2148014-f271-4c7b-86ec-f925ede3a582",
   "metadata": {},
   "outputs": [
    {
     "name": "stdout",
     "output_type": "stream",
     "text": [
      "1\n"
     ]
    }
   ],
   "source": [
    "!gsutil ls -r $DATA_LAKE_ROOT_PATH/delta-consumable/part* | wc -l"
   ]
  },
  {
   "cell_type": "markdown",
   "id": "6c4df240-5ff1-433b-92ed-cf311dbef082",
   "metadata": {},
   "source": [
    "### THIS CONCLUDES THIS UNIT. PROCEED TO THE NEXT NOTEBOOK"
   ]
  }
 ],
 "metadata": {
  "language_info": {
   "codemirror_mode": {
    "name": "ipython",
    "version": 3
   },
   "file_extension": ".py",
   "mimetype": "text/x-python",
   "name": "python",
   "nbconvert_exporter": "python",
   "pygments_lexer": "ipython3",
   "version": "3.10.6"
  },
  "serverless_spark": "{\"name\":\"projects/delta-lake-lab/locations/us-central1/sessions/delta-lake-lab-10060\",\"uuid\":\"cc6b1af7-fba9-41fd-b379-13891e4f5d78\",\"createTime\":\"2022-11-01T20:50:13.532739Z\",\"jupyterSession\":{},\"spark\":{},\"runtimeInfo\":{\"endpoints\":{\"Spark History Server\":\"https://smmei2wdurb7nptroshcbbgeda-dot-us-central1.dataproc.googleusercontent.com/sparkhistory/?eventLogDirFilter=cc6b1af7-fba9-41fd-b379-13891e4f5d78\"}},\"state\":\"ACTIVE\",\"stateTime\":\"2022-11-01T20:51:39.593533Z\",\"creator\":\"admin@akhanolkar.altostrat.com\",\"runtimeConfig\":{\"version\":\"2.0\",\"properties\":{\"spark:spark.jars.packages\":\"io.delta:delta-core_2.13:2.1.0\",\"spark:spark.sql.catalog.spark_catalog\":\"org.apache.spark.sql.delta.catalog.DeltaCatalog\",\"spark:spark.sql.extensions\":\"io.delta.sql.DeltaSparkSessionExtension\",\"spark:spark.executor.instances\":\"2\",\"spark:spark.driver.cores\":\"4\",\"spark:spark.executor.cores\":\"4\",\"spark:spark.dynamicAllocation.executorAllocationRatio\":\"0.3\",\"spark:spark.eventLog.dir\":\"gs://dll-sphs-bucket-885979867746/cc6b1af7-fba9-41fd-b379-13891e4f5d78/spark-job-history\"}},\"environmentConfig\":{\"executionConfig\":{\"serviceAccount\":\"dll-lab-sa@delta-lake-lab.iam.gserviceaccount.com\",\"subnetworkUri\":\"spark-snet\",\"idleTtl\":\"14400s\"},\"peripheralsConfig\":{\"metastoreService\":\"projects/delta-lake-lab/locations/us-central1/services/dll-hms-885979867746\",\"sparkHistoryServerConfig\":{\"dataprocCluster\":\"projects/delta-lake-lab/regions/us-central1/clusters/dll-sphs-885979867746\"}}},\"stateHistory\":[{\"state\":\"CREATING\",\"stateStartTime\":\"2022-11-01T20:50:13.532739Z\"}]}",
  "serverless_spark_kernel_name": "remote-55063bd6660cfbfe1596a3af-pyspark",
  "vscode": {
   "interpreter": {
    "hash": "aee8b7b246df8f9039afb4144a1f6fd8d2ca17a180786b69acc140d282b71a49"
   }
  }
 },
 "nbformat": 4,
 "nbformat_minor": 5
}