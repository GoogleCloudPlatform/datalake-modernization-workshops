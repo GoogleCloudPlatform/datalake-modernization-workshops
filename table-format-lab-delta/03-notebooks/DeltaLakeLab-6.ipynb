{
 "cells": [
  {
   "cell_type": "markdown",
   "id": "4529a790-8425-4600-841a-4b094b82eaa8",
   "metadata": {},
   "source": [
    "# Delta Lake Lab \n",
    "## Unit 6: Time Travel\n",
    "\n",
    "In the previous unit, we-\n",
    "1. Learned how to change the schema of tables with data in them, and reviewed the impact on files in the data lake and the transaction log\n",
    "\n",
    "In this unit, we will-\n",
    "1. Study delta lake's time travel support"
   ]
  },
  {
   "cell_type": "markdown",
   "id": "1a31c4fd-d465-4f52-8e56-3775bf499abc",
   "metadata": {},
   "source": [
    "### 1. Imports"
   ]
  },
  {
   "cell_type": "code",
   "execution_count": 1,
   "id": "1321bce9-178c-4065-8187-0a5728c1a370",
   "metadata": {},
   "outputs": [],
   "source": [
    "import pandas as pd\n",
    "\n",
    "from pyspark.sql.functions import month, date_format\n",
    "from pyspark.sql.types import IntegerType\n",
    "from pyspark.sql import SparkSession\n",
    "\n",
    "from delta.tables import *\n",
    "\n",
    "import warnings\n",
    "warnings.filterwarnings('ignore')"
   ]
  },
  {
   "cell_type": "markdown",
   "id": "ed295a74-ed1d-4b5d-831a-1b5dcf73c36f",
   "metadata": {},
   "source": [
    "### 2. Create a Spark session powered by Cloud Dataproc "
   ]
  },
  {
   "cell_type": "code",
   "execution_count": 2,
   "id": "b383d5ab-a0b9-45ab-a232-34d88f2a0065",
   "metadata": {},
   "outputs": [
    {
     "name": "stderr",
     "output_type": "stream",
     "text": [
      "22/11/01 22:09:21 WARN SparkSession: Using an existing Spark session; only runtime SQL configurations will take effect.\n"
     ]
    },
    {
     "data": {
      "text/html": [
       "\n",
       "            <div>\n",
       "                <p><b>SparkSession - hive</b></p>\n",
       "                \n",
       "        <div>\n",
       "            <p><b>SparkContext</b></p>\n",
       "\n",
       "            <p><a href=\"http://gdpic-srvls-session-f2655fc3-8238-494e-b100-47a785085db6-m.us-central1-b.c.delta-lake-lab.internal:4040\">Spark UI</a></p>\n",
       "\n",
       "            <dl>\n",
       "              <dt>Version</dt>\n",
       "                <dd><code>v3.3.1</code></dd>\n",
       "              <dt>Master</dt>\n",
       "                <dd><code>spark://gdpic-srvls-session-f2655fc3-8238-494e-b100-47a785085db6-m:7077</code></dd>\n",
       "              <dt>AppName</dt>\n",
       "                <dd><code>PySparkShell</code></dd>\n",
       "            </dl>\n",
       "        </div>\n",
       "        \n",
       "            </div>\n",
       "        "
      ],
      "text/plain": [
       "<pyspark.sql.session.SparkSession at 0x7fb60abcbc40>"
      ]
     },
     "execution_count": 2,
     "metadata": {},
     "output_type": "execute_result"
    }
   ],
   "source": [
    "spark = SparkSession.builder.appName('Loan Analysis').getOrCreate()\n",
    "spark"
   ]
  },
  {
   "cell_type": "markdown",
   "id": "63cd13e6-f3f5-4f2c-b4fc-d7e2660c6206",
   "metadata": {},
   "source": [
    "### 3. Declare variables"
   ]
  },
  {
   "cell_type": "code",
   "execution_count": 3,
   "id": "5596e31b-749a-4702-8879-6f05f9ff0c2d",
   "metadata": {},
   "outputs": [
    {
     "name": "stdout",
     "output_type": "stream",
     "text": [
      "PROJECT_ID:  delta-lake-lab\n"
     ]
    }
   ],
   "source": [
    "project_id_output = !gcloud config list --format \"value(core.project)\" 2>/dev/null\n",
    "PROJECT_ID = project_id_output[0]\n",
    "print(\"PROJECT_ID: \", PROJECT_ID)"
   ]
  },
  {
   "cell_type": "code",
   "execution_count": 4,
   "id": "471c6743-a058-462b-851a-f34323f36243",
   "metadata": {},
   "outputs": [
    {
     "name": "stdout",
     "output_type": "stream",
     "text": [
      "PROJECT_NAME:  delta-lake-lab\n"
     ]
    }
   ],
   "source": [
    "project_name_output = !gcloud projects describe $PROJECT_ID | grep name | cut -d':' -f2 | xargs\n",
    "PROJECT_NAME = project_name_output[0]\n",
    "print(\"PROJECT_NAME: \", PROJECT_NAME)"
   ]
  },
  {
   "cell_type": "code",
   "execution_count": 5,
   "id": "61929dc6-a083-433c-8a13-3d39d9c4a4a1",
   "metadata": {},
   "outputs": [
    {
     "name": "stdout",
     "output_type": "stream",
     "text": [
      "PROJECT_NUMBER:  885979867746\n"
     ]
    }
   ],
   "source": [
    "project_number_output = !gcloud projects describe $PROJECT_ID | grep projectNumber | cut -d':' -f2 | xargs\n",
    "PROJECT_NUMBER = project_number_output[0]\n",
    "print(\"PROJECT_NUMBER: \", PROJECT_NUMBER)"
   ]
  },
  {
   "cell_type": "code",
   "execution_count": null,
   "metadata": {},
   "outputs": [],
   "source": [
    "ACCOUNT_NAME = \"akhjain\""
   ]
  },
  {
   "cell_type": "code",
   "execution_count": 6,
   "id": "f8b79fd2-5243-41a4-ae87-e7f9dd87cf20",
   "metadata": {},
   "outputs": [
    {
     "name": "stdout",
     "output_type": "stream",
     "text": [
      "gs://dll-data-bucket-885979867746/delta-consumable\n"
     ]
    }
   ],
   "source": [
    "DATA_LAKE_ROOT_PATH= f\"gs://dll-data-bucket-{PROJECT_NUMBER}-{ACCOUNT_NAME}\"\n",
    "DELTA_LAKE_DIR_ROOT = f\"{DATA_LAKE_ROOT_PATH}/delta-consumable\"\n",
    "print(DELTA_LAKE_DIR_ROOT)"
   ]
  },
  {
   "cell_type": "code",
   "execution_count": 7,
   "id": "97b70135-a0e3-4f5b-a917-086775bc2d49",
   "metadata": {},
   "outputs": [
    {
     "name": "stdout",
     "output_type": "stream",
     "text": [
      "gs://dll-data-bucket-885979867746/delta-consumable/:\n",
      "gs://dll-data-bucket-885979867746/delta-consumable/part-00000-0bd1b0e2-4659-438c-be86-355bb31b4ac9-c000.snappy.parquet\n",
      "gs://dll-data-bucket-885979867746/delta-consumable/part-00000-10887990-f51d-46ad-a768-2f8135d5fd95-c000.snappy.parquet\n",
      "gs://dll-data-bucket-885979867746/delta-consumable/part-00000-2517e153-6923-4599-8b2e-5746fcf10973-c000.snappy.parquet\n",
      "gs://dll-data-bucket-885979867746/delta-consumable/part-00000-363ee39f-ff75-4e4d-8938-d866d43955ca-c000.snappy.parquet\n",
      "gs://dll-data-bucket-885979867746/delta-consumable/part-00000-72b5547b-66aa-4431-8822-5dff110e3c01-c000.snappy.parquet\n",
      "gs://dll-data-bucket-885979867746/delta-consumable/part-00000-99635b87-214b-4afa-895e-8c124bf54009-c000.snappy.parquet\n",
      "gs://dll-data-bucket-885979867746/delta-consumable/part-00000-9a73bff5-5ed8-4ce2-9383-b6f2865cbc6a-c000.snappy.parquet\n",
      "gs://dll-data-bucket-885979867746/delta-consumable/part-00000-b28e7cf4-80c3-4054-8cef-3cff4fe805ea-c000.snappy.parquet\n",
      "gs://dll-data-bucket-885979867746/delta-consumable/part-00000-b34ca7fb-09ae-455b-bd45-c6e5681060d2-c000.snappy.parquet\n",
      "gs://dll-data-bucket-885979867746/delta-consumable/part-00000-bccf5ec4-c5ff-496d-bc26-572ec880d175-c000.snappy.parquet\n",
      "gs://dll-data-bucket-885979867746/delta-consumable/part-00000-bd1648aa-3db7-43e9-beb7-db0593eefbb5-c000.snappy.parquet\n",
      "gs://dll-data-bucket-885979867746/delta-consumable/part-00000-f2615ad3-0230-49b8-9a51-8729b95f9fbf-c000.snappy.parquet\n",
      "gs://dll-data-bucket-885979867746/delta-consumable/part-00001-0df117da-826d-48d5-a633-ea657e4a7018-c000.snappy.parquet\n",
      "gs://dll-data-bucket-885979867746/delta-consumable/part-00001-8305be04-4071-4d61-8768-fd269d8b83c6-c000.snappy.parquet\n",
      "gs://dll-data-bucket-885979867746/delta-consumable/part-00001-be51d738-6fc3-4ed6-8ffe-d06bc769070f-c000.snappy.parquet\n",
      "gs://dll-data-bucket-885979867746/delta-consumable/part-00001-c0cd2879-5233-4b39-a601-0d09972de653-c000.snappy.parquet\n",
      "gs://dll-data-bucket-885979867746/delta-consumable/part-00001-d425aa07-73d2-48ce-a57f-cab18a976bf0-c000.snappy.parquet\n",
      "gs://dll-data-bucket-885979867746/delta-consumable/part-00002-77480d04-6ffc-47a3-937e-10e198d4d19b-c000.snappy.parquet\n",
      "gs://dll-data-bucket-885979867746/delta-consumable/part-00002-7bb7d3cd-a841-4e65-adf3-d7ace1d03f45-c000.snappy.parquet\n",
      "gs://dll-data-bucket-885979867746/delta-consumable/part-00002-befeded6-328d-4445-a2b7-b3885ea6abf5-c000.snappy.parquet\n",
      "gs://dll-data-bucket-885979867746/delta-consumable/part-00002-c3b38e4c-4917-4915-a2a8-5e97e4aee964-c000.snappy.parquet\n",
      "gs://dll-data-bucket-885979867746/delta-consumable/part-00003-2de67412-efca-4034-a085-e22c0f8a24f2-c000.snappy.parquet\n",
      "gs://dll-data-bucket-885979867746/delta-consumable/part-00003-4d900d56-5354-4d5b-b9de-65eee81858dc-c000.snappy.parquet\n",
      "gs://dll-data-bucket-885979867746/delta-consumable/part-00003-91281f5f-f186-44ab-868a-17b3b2597eee-c000.snappy.parquet\n",
      "gs://dll-data-bucket-885979867746/delta-consumable/part-00003-d89ac158-18f7-4c41-972d-485470cc7566-c000.snappy.parquet\n",
      "gs://dll-data-bucket-885979867746/delta-consumable/part-00004-1311e65c-9c2f-439a-9031-d8777b0e164f-c000.snappy.parquet\n",
      "gs://dll-data-bucket-885979867746/delta-consumable/part-00004-514edf33-6fb8-4b03-9920-9afd3a0d067e-c000.snappy.parquet\n",
      "gs://dll-data-bucket-885979867746/delta-consumable/part-00005-402e6296-028a-4d33-ab46-f3d44fa8d71b-c000.snappy.parquet\n",
      "gs://dll-data-bucket-885979867746/delta-consumable/part-00005-94b6ffbb-e531-40d9-91b6-e776af42d8ce-c000.snappy.parquet\n",
      "\n",
      "gs://dll-data-bucket-885979867746/delta-consumable/_delta_log/:\n",
      "gs://dll-data-bucket-885979867746/delta-consumable/_delta_log/\n",
      "gs://dll-data-bucket-885979867746/delta-consumable/_delta_log/00000000000000000000.json\n",
      "gs://dll-data-bucket-885979867746/delta-consumable/_delta_log/00000000000000000001.json\n",
      "gs://dll-data-bucket-885979867746/delta-consumable/_delta_log/00000000000000000002.json\n",
      "gs://dll-data-bucket-885979867746/delta-consumable/_delta_log/00000000000000000003.json\n",
      "gs://dll-data-bucket-885979867746/delta-consumable/_delta_log/00000000000000000004.json\n",
      "gs://dll-data-bucket-885979867746/delta-consumable/_delta_log/00000000000000000005.json\n",
      "gs://dll-data-bucket-885979867746/delta-consumable/_delta_log/00000000000000000006.json\n",
      "gs://dll-data-bucket-885979867746/delta-consumable/_delta_log/00000000000000000007.json\n",
      "gs://dll-data-bucket-885979867746/delta-consumable/_delta_log/00000000000000000008.json\n",
      "gs://dll-data-bucket-885979867746/delta-consumable/_delta_log/00000000000000000009.json\n",
      "gs://dll-data-bucket-885979867746/delta-consumable/_delta_log/00000000000000000010.checkpoint.parquet\n",
      "gs://dll-data-bucket-885979867746/delta-consumable/_delta_log/00000000000000000010.json\n",
      "gs://dll-data-bucket-885979867746/delta-consumable/_delta_log/00000000000000000011.json\n",
      "gs://dll-data-bucket-885979867746/delta-consumable/_delta_log/_last_checkpoint\n",
      "\n",
      "gs://dll-data-bucket-885979867746/delta-consumable/_symlink_format_manifest/:\n",
      "gs://dll-data-bucket-885979867746/delta-consumable/_symlink_format_manifest/\n",
      "gs://dll-data-bucket-885979867746/delta-consumable/_symlink_format_manifest/manifest\n"
     ]
    }
   ],
   "source": [
    "!gsutil ls -r $DELTA_LAKE_DIR_ROOT"
   ]
  },
  {
   "cell_type": "markdown",
   "id": "ed74d358-e90b-46d0-b81c-1e29c25ccac5",
   "metadata": {},
   "source": [
    "### 4. History"
   ]
  },
  {
   "cell_type": "code",
   "execution_count": 8,
   "id": "0bcc3cf8-6ecf-4efe-855d-b564401317bc",
   "metadata": {},
   "outputs": [
    {
     "name": "stderr",
     "output_type": "stream",
     "text": [
      "ANTLR Tool version 4.8 used for code generation does not match the current runtime version 4.9.3\n",
      "ANTLR Runtime version 4.8 used for parser compilation does not match the current runtime version 4.9.3\n",
      "ANTLR Tool version 4.8 used for code generation does not match the current runtime version 4.9.3\n",
      "ANTLR Runtime version 4.8 used for parser compilation does not match the current runtime version 4.9.3\n",
      "ivysettings.xml file not found in HIVE_HOME or HIVE_CONF_DIR,/etc/spark/conf/ivysettings.xml will be used\n",
      "                                                                                \r"
     ]
    },
    {
     "name": "stdout",
     "output_type": "stream",
     "text": [
      "+-------+-----------------------+---------+-----------------------------------------------------------------------------------------------------------------------------------------------+\n",
      "|version|timestamp              |operation|operationParameters                                                                                                                            |\n",
      "+-------+-----------------------+---------+-----------------------------------------------------------------------------------------------------------------------------------------------+\n",
      "|11     |2022-11-01 22:07:07.427|WRITE    |{mode -> Append, partitionBy -> []}                                                                                                            |\n",
      "|10     |2022-11-01 22:06:41.238|WRITE    |{mode -> Append, partitionBy -> []}                                                                                                            |\n",
      "|9      |2022-11-01 22:06:10.128|WRITE    |{mode -> Append, partitionBy -> []}                                                                                                            |\n",
      "|8      |2022-11-01 22:03:59.899|WRITE    |{mode -> Append, partitionBy -> []}                                                                                                            |\n",
      "|7      |2022-11-01 22:03:39.1  |WRITE    |{mode -> Append, partitionBy -> []}                                                                                                            |\n",
      "|6      |2022-11-01 22:02:54.419|WRITE    |{mode -> Append, partitionBy -> []}                                                                                                            |\n",
      "|5      |2022-11-01 21:48:06.587|MERGE    |{predicate -> (d.addr_state = m.addr_state), matchedPredicates -> [{\"actionType\":\"update\"}], notMatchedPredicates -> [{\"actionType\":\"insert\"}]}|\n",
      "|4      |2022-11-01 21:47:59.588|DELETE   |{predicate -> [\"(spark_catalog.loan_db.loans_by_state_delta.addr_state = 'IA')\"]}                                                              |\n",
      "|3      |2022-11-01 21:47:35.728|UPDATE   |{predicate -> (addr_state#1436 = IA)}                                                                                                          |\n",
      "|2      |2022-11-01 21:47:16.47 |WRITE    |{mode -> Append, partitionBy -> []}                                                                                                            |\n",
      "|1      |2022-11-01 21:46:56.423|DELETE   |{predicate -> [\"(spark_catalog.loan_db.loans_by_state_delta.addr_state = 'IA')\"]}                                                              |\n",
      "|0      |2022-11-01 21:30:34.686|WRITE    |{mode -> Overwrite, partitionBy -> []}                                                                                                         |\n",
      "+-------+-----------------------+---------+-----------------------------------------------------------------------------------------------------------------------------------------------+\n",
      "\n"
     ]
    }
   ],
   "source": [
    "spark.sql(\"DESCRIBE HISTORY loan_db.loans_by_state_delta\").select(\"version\",\"timestamp\",\"operation\",\"operationParameters\").show(truncate=False)"
   ]
  },
  {
   "cell_type": "markdown",
   "id": "17581b81-035f-43b6-a4fa-48b55ce28c8c",
   "metadata": {},
   "source": [
    "### 5. Lets look at a few versions"
   ]
  },
  {
   "cell_type": "code",
   "execution_count": 9,
   "id": "da4f7939-4668-4015-83eb-90209251ea03",
   "metadata": {},
   "outputs": [
    {
     "name": "stderr",
     "output_type": "stream",
     "text": [
      "                                                                                \r"
     ]
    },
    {
     "name": "stdout",
     "output_type": "stream",
     "text": [
      "+----------+-----+\n",
      "|addr_state|count|\n",
      "+----------+-----+\n",
      "+----------+-----+\n",
      "\n"
     ]
    }
   ],
   "source": [
    "spark.sql(\"SELECT * FROM loan_db.loans_by_state_delta VERSION AS OF 1 where addr_state='IA'\").show()"
   ]
  },
  {
   "cell_type": "code",
   "execution_count": 10,
   "id": "e98a313e-98cf-43a6-b000-626c5f3672e1",
   "metadata": {},
   "outputs": [
    {
     "name": "stderr",
     "output_type": "stream",
     "text": [
      "[Stage 28:===================>                                      (1 + 2) / 3]\r"
     ]
    },
    {
     "name": "stdout",
     "output_type": "stream",
     "text": [
      "+----------+-----+------------------+\n",
      "|addr_state|count|  collateral_value|\n",
      "+----------+-----+------------------+\n",
      "|        IA|  284|2848559.2048476106|\n",
      "|        IA|  349|3490455.5807275963|\n",
      "|        IA|  351|3514649.5614278573|\n",
      "|        IA|  164|1649795.5660065983|\n",
      "|        IA|   97| 977271.2566990124|\n",
      "|        IA|   79| 793382.1492048983|\n",
      "|        IA|  149|1494744.6633344109|\n",
      "|        IA|    7| 79748.79175558798|\n",
      "|        IA|  452| 4525824.841281812|\n",
      "|        IA|  186|1866039.3042891505|\n",
      "|        IA|  489| 4898122.920044726|\n",
      "|        IA|  118|1180143.7762261115|\n",
      "|        IA|  132|1327091.5650634842|\n",
      "|        IA|  410|4107695.0403600573|\n",
      "|        IA|   32| 326185.5741464369|\n",
      "|        IA|    6|62424.697092141556|\n",
      "|        IA|   12|127582.34045748881|\n",
      "|        IA|  151|1519729.3072769297|\n",
      "|        IA|  150|1505116.0433037076|\n",
      "|        IA|  164|1641533.0867176917|\n",
      "+----------+-----+------------------+\n",
      "only showing top 20 rows\n",
      "\n"
     ]
    },
    {
     "name": "stderr",
     "output_type": "stream",
     "text": [
      "                                                                                \r"
     ]
    }
   ],
   "source": [
    "spark.sql(\"SELECT * FROM loan_db.loans_by_state_delta VERSION AS OF 10 where addr_state='IA'\").show()"
   ]
  },
  {
   "cell_type": "code",
   "execution_count": 11,
   "id": "616f1759-57ec-4b33-8ee3-d95190170ca6",
   "metadata": {},
   "outputs": [
    {
     "name": "stderr",
     "output_type": "stream",
     "text": [
      "                                                                                \r"
     ]
    },
    {
     "name": "stdout",
     "output_type": "stream",
     "text": [
      "+----------+-----+\n",
      "|addr_state|count|\n",
      "+----------+-----+\n",
      "|        IA|  555|\n",
      "+----------+-----+\n",
      "\n"
     ]
    }
   ],
   "source": [
    "spark.sql(\"SELECT * FROM loan_db.loans_by_state_delta VERSION AS OF 5 where addr_state='IA'\").show()"
   ]
  },
  {
   "cell_type": "markdown",
   "id": "b86593ab-c082-4067-8f45-4d7f1836fef4",
   "metadata": {},
   "source": [
    "### THIS CONCLUDES THIS UNIT. PROCEED TO THE NEXT NOTEBOOK"
   ]
  }
 ],
 "metadata": {
  "language_info": {
   "codemirror_mode": {
    "name": "ipython",
    "version": 3
   },
   "file_extension": ".py",
   "mimetype": "text/x-python",
   "name": "python",
   "nbconvert_exporter": "python",
   "pygments_lexer": "ipython3",
   "version": "3.10.6"
  },
  "serverless_spark": "{\"name\":\"projects/delta-lake-lab/locations/us-central1/sessions/delta-lake-lab-13803\",\"uuid\":\"f2655fc3-8238-494e-b100-47a785085db6\",\"createTime\":\"2022-11-01T20:33:39.245614Z\",\"jupyterSession\":{},\"spark\":{},\"runtimeInfo\":{\"endpoints\":{\"Spark History Server\":\"https://smmei2wdurb7nptroshcbbgeda-dot-us-central1.dataproc.googleusercontent.com/sparkhistory/?eventLogDirFilter=f2655fc3-8238-494e-b100-47a785085db6\"}},\"state\":\"ACTIVE\",\"stateTime\":\"2022-11-01T20:35:05.784678Z\",\"creator\":\"admin@akhanolkar.altostrat.com\",\"runtimeConfig\":{\"version\":\"2.0\",\"properties\":{\"spark:spark.jars.packages\":\"io.delta:delta-core_2.13:2.1.0\",\"spark:spark.sql.catalog.spark_catalog\":\"org.apache.spark.sql.delta.catalog.DeltaCatalog\",\"spark:spark.sql.extensions\":\"io.delta.sql.DeltaSparkSessionExtension\",\"spark:spark.executor.instances\":\"2\",\"spark:spark.driver.cores\":\"4\",\"spark:spark.executor.cores\":\"4\",\"spark:spark.dynamicAllocation.executorAllocationRatio\":\"0.3\",\"spark:spark.eventLog.dir\":\"gs://dll-sphs-bucket-885979867746/f2655fc3-8238-494e-b100-47a785085db6/spark-job-history\"}},\"environmentConfig\":{\"executionConfig\":{\"serviceAccount\":\"dll-lab-sa@delta-lake-lab.iam.gserviceaccount.com\",\"subnetworkUri\":\"spark-snet\",\"idleTtl\":\"14400s\"},\"peripheralsConfig\":{\"metastoreService\":\"projects/delta-lake-lab/locations/us-central1/services/dll-hms-885979867746\",\"sparkHistoryServerConfig\":{\"dataprocCluster\":\"projects/delta-lake-lab/regions/us-central1/clusters/dll-sphs-885979867746\"}}},\"stateHistory\":[{\"state\":\"CREATING\",\"stateStartTime\":\"2022-11-01T20:33:39.245614Z\"}]}",
  "serverless_spark_kernel_name": "remote-4a2e3012d18a64755cb71093-pyspark",
  "vscode": {
   "interpreter": {
    "hash": "aee8b7b246df8f9039afb4144a1f6fd8d2ca17a180786b69acc140d282b71a49"
   }
  }
 },
 "nbformat": 4,
 "nbformat_minor": 5
}