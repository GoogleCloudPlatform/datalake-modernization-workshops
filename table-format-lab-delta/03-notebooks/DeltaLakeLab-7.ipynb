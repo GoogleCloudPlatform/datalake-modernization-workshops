{
 "cells": [
  {
   "cell_type": "markdown",
   "id": "4529a790-8425-4600-841a-4b094b82eaa8",
   "metadata": {},
   "source": [
    "# Delta Lake Lab \n",
    "## Unit 7: ZORDER & DATA SKIPPING\n",
    "\n",
    "In the previous unit, we -\n",
    "1. Learned how to time travel\n",
    "\n",
    "In this unit, we will-\n",
    "1. Learn about Z-Ordering and how it further optimizes data skipping\n",
    "\n",
    "Z-Ordering is a (multi-dimensional clustering) technique to colocate related information in the same set of files. This co-locality is automatically used by Delta Lake in data-skipping algorithms. This behavior dramatically reduces the amount of data that Delta Lake on Apache Spark needs to read. To Z-Order data, you specify the columns to order on in the ZORDER BY clause.\n",
    "\n",
    "Data skipping information is collected automatically when you write data into a Delta Lake table. Delta Lake takes advantage of this information (minimum and maximum values for each column) at query time to provide faster queries. You do not need to configure data skipping; the feature is activated whenever applicable. However, its effectiveness depends on the layout of your data. For best results, apply Z-Ordering."
   ]
  },
  {
   "cell_type": "markdown",
   "id": "1a31c4fd-d465-4f52-8e56-3775bf499abc",
   "metadata": {},
   "source": [
    "### 1. Imports"
   ]
  },
  {
   "cell_type": "code",
   "execution_count": 1,
   "id": "1321bce9-178c-4065-8187-0a5728c1a370",
   "metadata": {},
   "outputs": [],
   "source": [
    "import pandas as pd\n",
    "\n",
    "from pyspark.sql.functions import month, date_format\n",
    "from pyspark.sql.types import IntegerType\n",
    "from pyspark.sql import SparkSession\n",
    "\n",
    "from delta.tables import *\n",
    "\n",
    "import warnings\n",
    "warnings.filterwarnings('ignore')"
   ]
  },
  {
   "cell_type": "markdown",
   "id": "ed295a74-ed1d-4b5d-831a-1b5dcf73c36f",
   "metadata": {},
   "source": [
    "### 2. Create a Spark session powered by Cloud Dataproc "
   ]
  },
  {
   "cell_type": "code",
   "execution_count": 2,
   "id": "b383d5ab-a0b9-45ab-a232-34d88f2a0065",
   "metadata": {},
   "outputs": [
    {
     "name": "stderr",
     "output_type": "stream",
     "text": [
      "22/11/01 22:12:07 WARN SparkSession: Using an existing Spark session; only runtime SQL configurations will take effect.\n"
     ]
    },
    {
     "data": {
      "text/html": [
       "\n",
       "            <div>\n",
       "                <p><b>SparkSession - hive</b></p>\n",
       "                \n",
       "        <div>\n",
       "            <p><b>SparkContext</b></p>\n",
       "\n",
       "            <p><a href=\"http://gdpic-srvls-session-cc6b1af7-fba9-41fd-b379-13891e4f5d78-m.us-central1-b.c.delta-lake-lab.internal:4040\">Spark UI</a></p>\n",
       "\n",
       "            <dl>\n",
       "              <dt>Version</dt>\n",
       "                <dd><code>v3.3.1</code></dd>\n",
       "              <dt>Master</dt>\n",
       "                <dd><code>spark://gdpic-srvls-session-cc6b1af7-fba9-41fd-b379-13891e4f5d78-m:7077</code></dd>\n",
       "              <dt>AppName</dt>\n",
       "                <dd><code>PySparkShell</code></dd>\n",
       "            </dl>\n",
       "        </div>\n",
       "        \n",
       "            </div>\n",
       "        "
      ],
      "text/plain": [
       "<pyspark.sql.session.SparkSession at 0x7fc0762d8070>"
      ]
     },
     "execution_count": 2,
     "metadata": {},
     "output_type": "execute_result"
    }
   ],
   "source": [
    "spark = SparkSession.builder.appName('Loan Analysis').getOrCreate()\n",
    "spark"
   ]
  },
  {
   "cell_type": "markdown",
   "id": "63cd13e6-f3f5-4f2c-b4fc-d7e2660c6206",
   "metadata": {},
   "source": [
    "### 3. Declare variables"
   ]
  },
  {
   "cell_type": "code",
   "execution_count": 3,
   "id": "5596e31b-749a-4702-8879-6f05f9ff0c2d",
   "metadata": {},
   "outputs": [
    {
     "name": "stdout",
     "output_type": "stream",
     "text": [
      "PROJECT_ID:  delta-lake-lab\n"
     ]
    }
   ],
   "source": [
    "project_id_output = !gcloud config list --format \"value(core.project)\" 2>/dev/null\n",
    "PROJECT_ID = project_id_output[0]\n",
    "print(\"PROJECT_ID: \", PROJECT_ID)"
   ]
  },
  {
   "cell_type": "code",
   "execution_count": 4,
   "id": "471c6743-a058-462b-851a-f34323f36243",
   "metadata": {},
   "outputs": [
    {
     "name": "stdout",
     "output_type": "stream",
     "text": [
      "PROJECT_NAME:  delta-lake-lab\n"
     ]
    }
   ],
   "source": [
    "project_name_output = !gcloud projects describe $PROJECT_ID | grep name | cut -d':' -f2 | xargs\n",
    "PROJECT_NAME = project_name_output[0]\n",
    "print(\"PROJECT_NAME: \", PROJECT_NAME)"
   ]
  },
  {
   "cell_type": "code",
   "execution_count": 5,
   "id": "61929dc6-a083-433c-8a13-3d39d9c4a4a1",
   "metadata": {},
   "outputs": [
    {
     "name": "stdout",
     "output_type": "stream",
     "text": [
      "PROJECT_NUMBER:  885979867746\n"
     ]
    }
   ],
   "source": [
    "project_number_output = !gcloud projects describe $PROJECT_ID | grep projectNumber | cut -d':' -f2 | xargs\n",
    "PROJECT_NUMBER = project_number_output[0]\n",
    "print(\"PROJECT_NUMBER: \", PROJECT_NUMBER)"
   ]
  },
  {
   "cell_type": "code",
   "execution_count": null,
   "metadata": {},
   "outputs": [],
   "source": [
    "ACCOUNT_NAME = \"akhjain\""
   ]
  },
  {
   "cell_type": "code",
   "execution_count": 6,
   "id": "f8b79fd2-5243-41a4-ae87-e7f9dd87cf20",
   "metadata": {},
   "outputs": [
    {
     "name": "stdout",
     "output_type": "stream",
     "text": [
      "gs://dll-data-bucket-885979867746/delta-consumable\n"
     ]
    }
   ],
   "source": [
    "DATA_LAKE_ROOT_PATH= f\"gs://dll-data-bucket-{PROJECT_NUMBER}-{ACCOUNT_NAME}\"\n",
    "DELTA_LAKE_DIR_ROOT = f\"{DATA_LAKE_ROOT_PATH}/delta-consumable\"\n",
    "print(DELTA_LAKE_DIR_ROOT)"
   ]
  },
  {
   "cell_type": "code",
   "execution_count": 7,
   "id": "236ba666-5daf-4a40-bdfd-51764c26c7e1",
   "metadata": {},
   "outputs": [
    {
     "name": "stdout",
     "output_type": "stream",
     "text": [
      "gs://dll-data-bucket-885979867746/delta-consumable/part-00000-0bd1b0e2-4659-438c-be86-355bb31b4ac9-c000.snappy.parquet\n",
      "gs://dll-data-bucket-885979867746/delta-consumable/part-00000-10887990-f51d-46ad-a768-2f8135d5fd95-c000.snappy.parquet\n",
      "gs://dll-data-bucket-885979867746/delta-consumable/part-00000-2517e153-6923-4599-8b2e-5746fcf10973-c000.snappy.parquet\n",
      "gs://dll-data-bucket-885979867746/delta-consumable/part-00000-363ee39f-ff75-4e4d-8938-d866d43955ca-c000.snappy.parquet\n",
      "gs://dll-data-bucket-885979867746/delta-consumable/part-00000-72b5547b-66aa-4431-8822-5dff110e3c01-c000.snappy.parquet\n",
      "gs://dll-data-bucket-885979867746/delta-consumable/part-00000-99635b87-214b-4afa-895e-8c124bf54009-c000.snappy.parquet\n",
      "gs://dll-data-bucket-885979867746/delta-consumable/part-00000-9a73bff5-5ed8-4ce2-9383-b6f2865cbc6a-c000.snappy.parquet\n",
      "gs://dll-data-bucket-885979867746/delta-consumable/part-00000-b28e7cf4-80c3-4054-8cef-3cff4fe805ea-c000.snappy.parquet\n",
      "gs://dll-data-bucket-885979867746/delta-consumable/part-00000-b34ca7fb-09ae-455b-bd45-c6e5681060d2-c000.snappy.parquet\n",
      "gs://dll-data-bucket-885979867746/delta-consumable/part-00000-bccf5ec4-c5ff-496d-bc26-572ec880d175-c000.snappy.parquet\n",
      "gs://dll-data-bucket-885979867746/delta-consumable/part-00000-bd1648aa-3db7-43e9-beb7-db0593eefbb5-c000.snappy.parquet\n",
      "gs://dll-data-bucket-885979867746/delta-consumable/part-00000-f2615ad3-0230-49b8-9a51-8729b95f9fbf-c000.snappy.parquet\n",
      "gs://dll-data-bucket-885979867746/delta-consumable/part-00001-0df117da-826d-48d5-a633-ea657e4a7018-c000.snappy.parquet\n",
      "gs://dll-data-bucket-885979867746/delta-consumable/part-00001-8305be04-4071-4d61-8768-fd269d8b83c6-c000.snappy.parquet\n",
      "gs://dll-data-bucket-885979867746/delta-consumable/part-00001-be51d738-6fc3-4ed6-8ffe-d06bc769070f-c000.snappy.parquet\n",
      "gs://dll-data-bucket-885979867746/delta-consumable/part-00001-c0cd2879-5233-4b39-a601-0d09972de653-c000.snappy.parquet\n",
      "gs://dll-data-bucket-885979867746/delta-consumable/part-00001-d425aa07-73d2-48ce-a57f-cab18a976bf0-c000.snappy.parquet\n",
      "gs://dll-data-bucket-885979867746/delta-consumable/part-00002-77480d04-6ffc-47a3-937e-10e198d4d19b-c000.snappy.parquet\n",
      "gs://dll-data-bucket-885979867746/delta-consumable/part-00002-7bb7d3cd-a841-4e65-adf3-d7ace1d03f45-c000.snappy.parquet\n",
      "gs://dll-data-bucket-885979867746/delta-consumable/part-00002-befeded6-328d-4445-a2b7-b3885ea6abf5-c000.snappy.parquet\n",
      "gs://dll-data-bucket-885979867746/delta-consumable/part-00002-c3b38e4c-4917-4915-a2a8-5e97e4aee964-c000.snappy.parquet\n",
      "gs://dll-data-bucket-885979867746/delta-consumable/part-00003-2de67412-efca-4034-a085-e22c0f8a24f2-c000.snappy.parquet\n",
      "gs://dll-data-bucket-885979867746/delta-consumable/part-00003-4d900d56-5354-4d5b-b9de-65eee81858dc-c000.snappy.parquet\n",
      "gs://dll-data-bucket-885979867746/delta-consumable/part-00003-91281f5f-f186-44ab-868a-17b3b2597eee-c000.snappy.parquet\n",
      "gs://dll-data-bucket-885979867746/delta-consumable/part-00003-d89ac158-18f7-4c41-972d-485470cc7566-c000.snappy.parquet\n",
      "gs://dll-data-bucket-885979867746/delta-consumable/part-00004-1311e65c-9c2f-439a-9031-d8777b0e164f-c000.snappy.parquet\n",
      "gs://dll-data-bucket-885979867746/delta-consumable/part-00004-514edf33-6fb8-4b03-9920-9afd3a0d067e-c000.snappy.parquet\n",
      "gs://dll-data-bucket-885979867746/delta-consumable/part-00005-402e6296-028a-4d33-ab46-f3d44fa8d71b-c000.snappy.parquet\n",
      "gs://dll-data-bucket-885979867746/delta-consumable/part-00005-94b6ffbb-e531-40d9-91b6-e776af42d8ce-c000.snappy.parquet\n"
     ]
    }
   ],
   "source": [
    "# Lets take a look at the data lake before the zordering \n",
    "!gsutil ls -r $DELTA_LAKE_DIR_ROOT/part*"
   ]
  },
  {
   "cell_type": "markdown",
   "id": "dc922496-0676-4551-b04d-1b9167abe8ed",
   "metadata": {},
   "source": [
    "The author's output was-\n",
    "```\n",
    "gs://dll-data-bucket-885979867746/delta-consumable/:\n",
    "gs://dll-data-bucket-885979867746/delta-consumable/part-00000-228eb829-1144-4a6d-a0e2-4fd39d9e9f57-c000.snappy.parquet\n",
    "gs://dll-data-bucket-885979867746/delta-consumable/part-00000-29d7051f-ea28-4bd9-a8fd-8d9f8e38f163-c000.snappy.parquet\n",
    "gs://dll-data-bucket-885979867746/delta-consumable/part-00000-3eb98e04-4353-4e5f-a8a2-17a570111981-c000.snappy.parquet\n",
    "gs://dll-data-bucket-885979867746/delta-consumable/part-00000-47c79787-64f2-453c-8474-52cbcaeef3c2-c000.snappy.parquet\n",
    "gs://dll-data-bucket-885979867746/delta-consumable/part-00000-48902d8f-0572-4735-b0d7-95b1927cb294-c000.snappy.parquet\n",
    "gs://dll-data-bucket-885979867746/delta-consumable/part-00000-598882f5-6a6b-489f-a551-6e782e67702f-c000.snappy.parquet\n",
    "gs://dll-data-bucket-885979867746/delta-consumable/part-00000-61eebddf-adb1-4088-9520-6a953e6d3fff-c000.snappy.parquet\n",
    "gs://dll-data-bucket-885979867746/delta-consumable/part-00000-7b773887-eac1-481b-aa71-e57bd469f977-c000.snappy.parquet\n",
    "gs://dll-data-bucket-885979867746/delta-consumable/part-00000-89dfe8e5-2d40-49f6-b0a0-4b320db62d14-c000.snappy.parquet\n",
    "gs://dll-data-bucket-885979867746/delta-consumable/part-00000-b5620589-f197-4417-8fcb-ce013d82deb9-c000.snappy.parquet\n",
    "gs://dll-data-bucket-885979867746/delta-consumable/part-00000-c36f0527-e995-41d2-a8ea-776cc865f816-c000.snappy.parquet\n",
    "gs://dll-data-bucket-885979867746/delta-consumable/part-00001-487147d6-23f9-4a07-ae73-7cddbe8dfd06-c000.snappy.parquet\n",
    "gs://dll-data-bucket-885979867746/delta-consumable/part-00001-8d9a7ec0-3a4d-43e4-8e33-379ffb2e4a3a-c000.snappy.parquet\n",
    "gs://dll-data-bucket-885979867746/delta-consumable/part-00001-91311981-1505-4747-a8c9-6b3616efb4c0-c000.snappy.parquet\n",
    "gs://dll-data-bucket-885979867746/delta-consumable/part-00001-ad3ddbfe-cec8-4877-8b05-3d40da1079ba-c000.snappy.parquet\n",
    "gs://dll-data-bucket-885979867746/delta-consumable/part-00002-15ea05a6-24a6-41e3-b9d1-7073429eda5f-c000.snappy.parquet\n",
    "gs://dll-data-bucket-885979867746/delta-consumable/part-00002-1717bbe6-6038-404c-aea4-e83d93eb0fa8-c000.snappy.parquet\n",
    "gs://dll-data-bucket-885979867746/delta-consumable/part-00002-d43dcdd6-5fb8-4b31-baa2-5458bf321285-c000.snappy.parquet\n",
    "gs://dll-data-bucket-885979867746/delta-consumable/part-00003-4c2e181f-c1eb-458f-aa08-9be435e56bb5-c000.snappy.parquet\n",
    "gs://dll-data-bucket-885979867746/delta-consumable/part-00003-c15a6560-6d08-41f9-9ff8-546a02d4fca7-c000.snappy.parquet\n",
    "gs://dll-data-bucket-885979867746/delta-consumable/part-00003-e6f811e0-d076-4619-bb1f-4e1ffd7caeb0-c000.snappy.parquet\n",
    "gs://dll-data-bucket-885979867746/delta-consumable/part-00004-7663ab3e-1fbb-4ef9-bb08-80d4e6e3d9f4-c000.snappy.parquet\n",
    "gs://dll-data-bucket-885979867746/delta-consumable/part-00005-c9b6ff00-72cb-4264-8f2a-d01f6c27b759-c000.snappy.parquet\n",
    "```"
   ]
  },
  {
   "cell_type": "code",
   "execution_count": 8,
   "id": "950f5f4a-3466-476c-bde4-316e422d5665",
   "metadata": {},
   "outputs": [
    {
     "name": "stdout",
     "output_type": "stream",
     "text": [
      "29\n"
     ]
    }
   ],
   "source": [
    "!gsutil ls -r $DELTA_LAKE_DIR_ROOT/part* | wc -l"
   ]
  },
  {
   "cell_type": "markdown",
   "id": "ed74d358-e90b-46d0-b81c-1e29c25ccac5",
   "metadata": {},
   "source": [
    "### 4. ZORDER"
   ]
  },
  {
   "cell_type": "code",
   "execution_count": 9,
   "id": "234fcd71-7b34-4553-a84d-3ab3abbcf3b4",
   "metadata": {},
   "outputs": [
    {
     "name": "stderr",
     "output_type": "stream",
     "text": [
      "ANTLR Tool version 4.8 used for code generation does not match the current runtime version 4.9.3\n",
      "ANTLR Runtime version 4.8 used for parser compilation does not match the current runtime version 4.9.3\n",
      "ANTLR Tool version 4.8 used for code generation does not match the current runtime version 4.9.3\n",
      "ANTLR Runtime version 4.8 used for parser compilation does not match the current runtime version 4.9.3\n",
      "ivysettings.xml file not found in HIVE_HOME or HIVE_CONF_DIR,/etc/spark/conf/ivysettings.xml will be used\n",
      "                                                                                \r"
     ]
    },
    {
     "name": "stdout",
     "output_type": "stream",
     "text": [
      "+--------------------------------------------------+------------------------------------------------------------------------------------------------------------------------------------------------------------------------------------+\n",
      "|path                                              |metrics                                                                                                                                                                             |\n",
      "+--------------------------------------------------+------------------------------------------------------------------------------------------------------------------------------------------------------------------------------------+\n",
      "|gs://dll-data-bucket-885979867746/delta-consumable|{1, 25, {7959, 7959, 7959.0, 1, 7959}, {397, 2069, 1585.08, 25, 39627}, 1, {all, {0, 0}, {25, 39627}, 0, {25, 39627}, 1, null}, 1, 25, 0, false, 0, 0, 1667340764026, 0, 8, 0, null}|\n",
      "+--------------------------------------------------+------------------------------------------------------------------------------------------------------------------------------------------------------------------------------------+\n",
      "\n"
     ]
    }
   ],
   "source": [
    "spark.sql(\"OPTIMIZE loan_db.loans_by_state_delta ZORDER BY (addr_state)\").show(truncate=False)"
   ]
  },
  {
   "cell_type": "code",
   "execution_count": 18,
   "id": "97b70135-a0e3-4f5b-a917-086775bc2d49",
   "metadata": {},
   "outputs": [
    {
     "name": "stdout",
     "output_type": "stream",
     "text": [
      "     397 B  2022-11-01T21:47:59Z  gs://dll-data-bucket-885979867746/delta-consumable/part-00000-10887990-f51d-46ad-a768-2f8135d5fd95-c000.snappy.parquet\n",
      "     725 B  2022-11-01T21:47:16Z  gs://dll-data-bucket-885979867746/delta-consumable/part-00000-363ee39f-ff75-4e4d-8938-d866d43955ca-c000.snappy.parquet\n",
      "     725 B  2022-11-01T21:47:35Z  gs://dll-data-bucket-885979867746/delta-consumable/part-00000-9a73bff5-5ed8-4ce2-9383-b6f2865cbc6a-c000.snappy.parquet\n",
      "     973 B  2022-11-01T21:46:55Z  gs://dll-data-bucket-885979867746/delta-consumable/part-00000-99635b87-214b-4afa-895e-8c124bf54009-c000.snappy.parquet\n",
      "     978 B  2022-11-01T21:30:30Z  gs://dll-data-bucket-885979867746/delta-consumable/part-00000-bd1648aa-3db7-43e9-beb7-db0593eefbb5-c000.snappy.parquet\n",
      "     993 B  2022-11-01T21:48:06Z  gs://dll-data-bucket-885979867746/delta-consumable/part-00000-2517e153-6923-4599-8b2e-5746fcf10973-c000.snappy.parquet\n",
      "   1.7 KiB  2022-11-01T22:06:40Z  gs://dll-data-bucket-885979867746/delta-consumable/part-00002-7bb7d3cd-a841-4e65-adf3-d7ace1d03f45-c000.snappy.parquet\n",
      "  1.31 KiB  2022-11-01T22:03:38Z  gs://dll-data-bucket-885979867746/delta-consumable/part-00000-f2615ad3-0230-49b8-9a51-8729b95f9fbf-c000.snappy.parquet\n",
      "  1.31 KiB  2022-11-01T22:03:59Z  gs://dll-data-bucket-885979867746/delta-consumable/part-00000-b28e7cf4-80c3-4054-8cef-3cff4fe805ea-c000.snappy.parquet\n",
      "  1.31 KiB  2022-11-01T22:03:59Z  gs://dll-data-bucket-885979867746/delta-consumable/part-00001-d425aa07-73d2-48ce-a57f-cab18a976bf0-c000.snappy.parquet\n",
      "  1.31 KiB  2022-11-01T22:03:59Z  gs://dll-data-bucket-885979867746/delta-consumable/part-00002-77480d04-6ffc-47a3-937e-10e198d4d19b-c000.snappy.parquet\n",
      "  1.49 KiB  2022-11-01T22:06:09Z  gs://dll-data-bucket-885979867746/delta-consumable/part-00000-0bd1b0e2-4659-438c-be86-355bb31b4ac9-c000.snappy.parquet\n",
      "  1.49 KiB  2022-11-01T22:06:09Z  gs://dll-data-bucket-885979867746/delta-consumable/part-00001-be51d738-6fc3-4ed6-8ffe-d06bc769070f-c000.snappy.parquet\n",
      "  1.49 KiB  2022-11-01T22:06:09Z  gs://dll-data-bucket-885979867746/delta-consumable/part-00002-c3b38e4c-4917-4915-a2a8-5e97e4aee964-c000.snappy.parquet\n",
      "  1.49 KiB  2022-11-01T22:06:40Z  gs://dll-data-bucket-885979867746/delta-consumable/part-00001-0df117da-826d-48d5-a633-ea657e4a7018-c000.snappy.parquet\n",
      "  1.49 KiB  2022-11-01T22:06:40Z  gs://dll-data-bucket-885979867746/delta-consumable/part-00004-1311e65c-9c2f-439a-9031-d8777b0e164f-c000.snappy.parquet\n",
      "  1.59 KiB  2022-11-01T22:06:40Z  gs://dll-data-bucket-885979867746/delta-consumable/part-00003-91281f5f-f186-44ab-868a-17b3b2597eee-c000.snappy.parquet\n",
      "  1.61 KiB  2022-11-01T22:06:40Z  gs://dll-data-bucket-885979867746/delta-consumable/part-00000-72b5547b-66aa-4431-8822-5dff110e3c01-c000.snappy.parquet\n",
      "  1.61 KiB  2022-11-01T22:07:07Z  gs://dll-data-bucket-885979867746/delta-consumable/part-00001-c0cd2879-5233-4b39-a601-0d09972de653-c000.snappy.parquet\n",
      "  1.65 KiB  2022-11-01T22:02:53Z  gs://dll-data-bucket-885979867746/delta-consumable/part-00000-b34ca7fb-09ae-455b-bd45-c6e5681060d2-c000.snappy.parquet\n",
      "  1.65 KiB  2022-11-01T22:03:38Z  gs://dll-data-bucket-885979867746/delta-consumable/part-00001-8305be04-4071-4d61-8768-fd269d8b83c6-c000.snappy.parquet\n",
      "  1.65 KiB  2022-11-01T22:03:59Z  gs://dll-data-bucket-885979867746/delta-consumable/part-00003-2de67412-efca-4034-a085-e22c0f8a24f2-c000.snappy.parquet\n",
      "  1.69 KiB  2022-11-01T22:07:07Z  gs://dll-data-bucket-885979867746/delta-consumable/part-00004-514edf33-6fb8-4b03-9920-9afd3a0d067e-c000.snappy.parquet\n",
      "  1.82 KiB  2022-11-01T22:07:07Z  gs://dll-data-bucket-885979867746/delta-consumable/part-00003-4d900d56-5354-4d5b-b9de-65eee81858dc-c000.snappy.parquet\n",
      "  1.91 KiB  2022-11-01T22:06:09Z  gs://dll-data-bucket-885979867746/delta-consumable/part-00003-d89ac158-18f7-4c41-972d-485470cc7566-c000.snappy.parquet\n",
      "  1.91 KiB  2022-11-01T22:07:07Z  gs://dll-data-bucket-885979867746/delta-consumable/part-00002-befeded6-328d-4445-a2b7-b3885ea6abf5-c000.snappy.parquet\n",
      "  1.92 KiB  2022-11-01T22:06:40Z  gs://dll-data-bucket-885979867746/delta-consumable/part-00005-94b6ffbb-e531-40d9-91b6-e776af42d8ce-c000.snappy.parquet\n",
      "  1.93 KiB  2022-11-01T22:07:07Z  gs://dll-data-bucket-885979867746/delta-consumable/part-00000-bccf5ec4-c5ff-496d-bc26-572ec880d175-c000.snappy.parquet\n",
      "  2.02 KiB  2022-11-01T22:07:07Z  gs://dll-data-bucket-885979867746/delta-consumable/part-00005-402e6296-028a-4d33-ab46-f3d44fa8d71b-c000.snappy.parquet\n",
      "  7.77 KiB  2022-11-01T22:12:41Z  gs://dll-data-bucket-885979867746/delta-consumable/part-00000-00496113-f07f-4f08-8a72-2a6a3c71bfee-c000.snappy.parquet\n",
      "TOTAL: 30 objects, 50987 bytes (49.79 KiB)\n"
     ]
    },
    {
     "name": "stderr",
     "output_type": "stream",
     "text": [
      "22/11/01 22:17:10 WARN JavaUtils: Attempt to delete using native Unix OS command failed for path = /var/tmp/spark/local-dir/blockmgr-53e14031-71b8-46b9-a00f-e3a41ef8e152. Falling back to Java IO way\n",
      "java.io.IOException: Failed to delete: /var/tmp/spark/local-dir/blockmgr-53e14031-71b8-46b9-a00f-e3a41ef8e152\n",
      "\tat org.apache.spark.network.util.JavaUtils.deleteRecursivelyUsingUnixNative(JavaUtils.java:171)\n",
      "\tat org.apache.spark.network.util.JavaUtils.deleteRecursively(JavaUtils.java:110)\n",
      "\tat org.apache.spark.network.util.JavaUtils.deleteRecursively(JavaUtils.java:91)\n",
      "\tat org.apache.spark.util.Utils$.deleteRecursively(Utils.scala:1206)\n",
      "\tat org.apache.spark.storage.DiskBlockManager.$anonfun$doStop$1(DiskBlockManager.scala:374)\n",
      "\tat org.apache.spark.storage.DiskBlockManager.$anonfun$doStop$1$adapted(DiskBlockManager.scala:370)\n",
      "\tat scala.collection.ArrayOps$.foreach$extension(ArrayOps.scala:1328)\n",
      "\tat org.apache.spark.storage.DiskBlockManager.doStop(DiskBlockManager.scala:370)\n",
      "\tat org.apache.spark.storage.DiskBlockManager.$anonfun$addShutdownHook$2(DiskBlockManager.scala:352)\n",
      "\tat org.apache.spark.util.SparkShutdownHook.run(ShutdownHookManager.scala:214)\n",
      "\tat org.apache.spark.util.SparkShutdownHookManager.$anonfun$runAll$2(ShutdownHookManager.scala:188)\n",
      "\tat scala.runtime.java8.JFunction0$mcV$sp.apply(JFunction0$mcV$sp.scala:18)\n",
      "\tat org.apache.spark.util.Utils$.logUncaughtExceptions(Utils.scala:2066)\n",
      "\tat org.apache.spark.util.SparkShutdownHookManager.$anonfun$runAll$1(ShutdownHookManager.scala:188)\n",
      "\tat scala.runtime.java8.JFunction0$mcV$sp.apply(JFunction0$mcV$sp.scala:18)\n",
      "\tat scala.util.Try$.apply(Try.scala:210)\n",
      "\tat org.apache.spark.util.SparkShutdownHookManager.runAll(ShutdownHookManager.scala:188)\n",
      "\tat org.apache.spark.util.SparkShutdownHookManager$$anon$2.run(ShutdownHookManager.scala:178)\n",
      "\tat java.base/java.util.concurrent.Executors$RunnableAdapter.call(Executors.java:539)\n",
      "\tat java.base/java.util.concurrent.FutureTask.run(FutureTask.java:264)\n",
      "\tat java.base/java.util.concurrent.ThreadPoolExecutor.runWorker(ThreadPoolExecutor.java:1136)\n",
      "\tat java.base/java.util.concurrent.ThreadPoolExecutor$Worker.run(ThreadPoolExecutor.java:635)\n",
      "\tat java.base/java.lang.Thread.run(Thread.java:833)\n",
      "22/11/01 22:17:10 WARN JavaUtils: Attempt to delete using native Unix OS command failed for path = /var/tmp/spark/local-dir/blockmgr-53e14031-71b8-46b9-a00f-e3a41ef8e152/0d. Falling back to Java IO way\n",
      "java.io.IOException: Failed to delete: /var/tmp/spark/local-dir/blockmgr-53e14031-71b8-46b9-a00f-e3a41ef8e152/0d\n",
      "\tat org.apache.spark.network.util.JavaUtils.deleteRecursivelyUsingUnixNative(JavaUtils.java:171)\n",
      "\tat org.apache.spark.network.util.JavaUtils.deleteRecursively(JavaUtils.java:110)\n",
      "\tat org.apache.spark.network.util.JavaUtils.deleteRecursivelyUsingJavaIO(JavaUtils.java:128)\n",
      "\tat org.apache.spark.network.util.JavaUtils.deleteRecursively(JavaUtils.java:118)\n",
      "\tat org.apache.spark.network.util.JavaUtils.deleteRecursively(JavaUtils.java:91)\n",
      "\tat org.apache.spark.util.Utils$.deleteRecursively(Utils.scala:1206)\n",
      "\tat org.apache.spark.storage.DiskBlockManager.$anonfun$doStop$1(DiskBlockManager.scala:374)\n",
      "\tat org.apache.spark.storage.DiskBlockManager.$anonfun$doStop$1$adapted(DiskBlockManager.scala:370)\n",
      "\tat scala.collection.ArrayOps$.foreach$extension(ArrayOps.scala:1328)\n",
      "\tat org.apache.spark.storage.DiskBlockManager.doStop(DiskBlockManager.scala:370)\n",
      "\tat org.apache.spark.storage.DiskBlockManager.$anonfun$addShutdownHook$2(DiskBlockManager.scala:352)\n",
      "\tat org.apache.spark.util.SparkShutdownHook.run(ShutdownHookManager.scala:214)\n",
      "\tat org.apache.spark.util.SparkShutdownHookManager.$anonfun$runAll$2(ShutdownHookManager.scala:188)\n",
      "\tat scala.runtime.java8.JFunction0$mcV$sp.apply(JFunction0$mcV$sp.scala:18)\n",
      "\tat org.apache.spark.util.Utils$.logUncaughtExceptions(Utils.scala:2066)\n",
      "\tat org.apache.spark.util.SparkShutdownHookManager.$anonfun$runAll$1(ShutdownHookManager.scala:188)\n",
      "\tat scala.runtime.java8.JFunction0$mcV$sp.apply(JFunction0$mcV$sp.scala:18)\n",
      "\tat scala.util.Try$.apply(Try.scala:210)\n",
      "\tat org.apache.spark.util.SparkShutdownHookManager.runAll(ShutdownHookManager.scala:188)\n",
      "\tat org.apache.spark.util.SparkShutdownHookManager$$anon$2.run(ShutdownHookManager.scala:178)\n",
      "\tat java.base/java.util.concurrent.Executors$RunnableAdapter.call(Executors.java:539)\n",
      "\tat java.base/java.util.concurrent.FutureTask.run(FutureTask.java:264)\n",
      "\tat java.base/java.util.concurrent.ThreadPoolExecutor.runWorker(ThreadPoolExecutor.java:1136)\n",
      "\tat java.base/java.util.concurrent.ThreadPoolExecutor$Worker.run(ThreadPoolExecutor.java:635)\n",
      "\tat java.base/java.lang.Thread.run(Thread.java:833)\n",
      "ERROR:root:Exception while sending command.\n",
      "Traceback (most recent call last):\n",
      "  File \"/usr/lib/spark/python/lib/py4j-0.10.9.5-src.zip/py4j/clientserver.py\", line 516, in send_command\n",
      "    raise Py4JNetworkError(\"Answer from Java side is empty\")\n",
      "py4j.protocol.Py4JNetworkError: Answer from Java side is empty\n",
      "\n",
      "During handling of the above exception, another exception occurred:\n",
      "\n",
      "Traceback (most recent call last):\n",
      "  File \"/usr/lib/spark/python/lib/py4j-0.10.9.5-src.zip/py4j/java_gateway.py\", line 1038, in send_command\n",
      "    response = connection.send_command(command)\n",
      "  File \"/usr/lib/spark/python/lib/py4j-0.10.9.5-src.zip/py4j/clientserver.py\", line 539, in send_command\n",
      "    raise Py4JNetworkError(\n",
      "py4j.protocol.Py4JNetworkError: Error while sending or receiving\n"
     ]
    }
   ],
   "source": [
    "# Lets take a look at the data lake post the zordering. There is one extra file, that appears to be a file that has all the data in it.  \n",
    "!gsutil ls -lh $DELTA_LAKE_DIR_ROOT/part* | sort"
   ]
  },
  {
   "cell_type": "code",
   "execution_count": 11,
   "id": "3985f4e3-87bc-40dc-95c1-5364be50664d",
   "metadata": {},
   "outputs": [
    {
     "name": "stdout",
     "output_type": "stream",
     "text": [
      "30\n"
     ]
    }
   ],
   "source": [
    "!gsutil ls -r $DELTA_LAKE_DIR_ROOT/part* | wc -l"
   ]
  },
  {
   "cell_type": "code",
   "execution_count": 12,
   "id": "0491e7ba-4fd4-46b2-9e6f-b7143c6d873e",
   "metadata": {},
   "outputs": [
    {
     "name": "stdout",
     "output_type": "stream",
     "text": [
      "gs://dll-data-bucket-885979867746/delta-consumable/_delta_log/:\n",
      "gs://dll-data-bucket-885979867746/delta-consumable/_delta_log/\n",
      "gs://dll-data-bucket-885979867746/delta-consumable/_delta_log/00000000000000000000.json\n",
      "gs://dll-data-bucket-885979867746/delta-consumable/_delta_log/00000000000000000001.json\n",
      "gs://dll-data-bucket-885979867746/delta-consumable/_delta_log/00000000000000000002.json\n",
      "gs://dll-data-bucket-885979867746/delta-consumable/_delta_log/00000000000000000003.json\n",
      "gs://dll-data-bucket-885979867746/delta-consumable/_delta_log/00000000000000000004.json\n",
      "gs://dll-data-bucket-885979867746/delta-consumable/_delta_log/00000000000000000005.json\n",
      "gs://dll-data-bucket-885979867746/delta-consumable/_delta_log/00000000000000000006.json\n",
      "gs://dll-data-bucket-885979867746/delta-consumable/_delta_log/00000000000000000007.json\n",
      "gs://dll-data-bucket-885979867746/delta-consumable/_delta_log/00000000000000000008.json\n",
      "gs://dll-data-bucket-885979867746/delta-consumable/_delta_log/00000000000000000009.json\n",
      "gs://dll-data-bucket-885979867746/delta-consumable/_delta_log/00000000000000000010.checkpoint.parquet\n",
      "gs://dll-data-bucket-885979867746/delta-consumable/_delta_log/00000000000000000010.json\n",
      "gs://dll-data-bucket-885979867746/delta-consumable/_delta_log/00000000000000000011.json\n",
      "gs://dll-data-bucket-885979867746/delta-consumable/_delta_log/00000000000000000012.json\n",
      "gs://dll-data-bucket-885979867746/delta-consumable/_delta_log/_last_checkpoint\n"
     ]
    }
   ],
   "source": [
    "# Lets take a look at the transaction log post the zordering \n",
    "!gsutil ls -r $DELTA_LAKE_DIR_ROOT/_delta_log"
   ]
  },
  {
   "cell_type": "code",
   "execution_count": 13,
   "id": "536da94c-836d-4e30-89f4-78f597177b03",
   "metadata": {},
   "outputs": [
    {
     "name": "stdout",
     "output_type": "stream",
     "text": [
      "{\"add\":{\"path\":\"part-00000-bccf5ec4-c5ff-496d-bc26-572ec880d175-c000.snappy.parquet\",\"partitionValues\":{},\"size\":1981,\"modificationTime\":1667340427125,\"dataChange\":true,\"stats\":\"{\\\"numRecords\\\":408,\\\"minValues\\\":{\\\"addr_state\\\":\\\"AK\\\",\\\"count\\\":0,\\\"collateral_value\\\":0.0},\\\"maxValues\\\":{\\\"addr_state\\\":\\\"WY\\\",\\\"count\\\":10134,\\\"collateral_value\\\":1.0134172359090886E8},\\\"nullCount\\\":{\\\"addr_state\\\":0,\\\"count\\\":0,\\\"collateral_value\\\":0}}\"}}\n",
      "{\"add\":{\"path\":\"part-00001-c0cd2879-5233-4b39-a601-0d09972de653-c000.snappy.parquet\",\"partitionValues\":{},\"size\":1645,\"modificationTime\":1667340427032,\"dataChange\":true,\"stats\":\"{\\\"numRecords\\\":153,\\\"minValues\\\":{\\\"addr_state\\\":\\\"AK\\\",\\\"count\\\":0,\\\"collateral_value\\\":0.0},\\\"maxValues\\\":{\\\"addr_state\\\":\\\"WY\\\",\\\"count\\\":3168,\\\"collateral_value\\\":3.1680389069416154E7},\\\"nullCount\\\":{\\\"addr_state\\\":0,\\\"count\\\":0,\\\"collateral_value\\\":0}}\"}}\n",
      "{\"add\":{\"path\":\"part-00002-befeded6-328d-4445-a2b7-b3885ea6abf5-c000.snappy.parquet\",\"partitionValues\":{},\"size\":1953,\"modificationTime\":1667340427062,\"dataChange\":true,\"stats\":\"{\\\"numRecords\\\":408,\\\"minValues\\\":{\\\"addr_state\\\":\\\"AK\\\",\\\"count\\\":0,\\\"collateral_value\\\":0.0},\\\"maxValues\\\":{\\\"addr_state\\\":\\\"WY\\\",\\\"count\\\":3721,\\\"collateral_value\\\":3.721957852300041E7},\\\"nullCount\\\":{\\\"addr_state\\\":0,\\\"count\\\":0,\\\"collateral_value\\\":0}}\"}}\n",
      "{\"add\":{\"path\":\"part-00003-4d900d56-5354-4d5b-b9de-65eee81858dc-c000.snappy.parquet\",\"partitionValues\":{},\"size\":1865,\"modificationTime\":1667340427091,\"dataChange\":true,\"stats\":\"{\\\"numRecords\\\":306,\\\"minValues\\\":{\\\"addr_state\\\":\\\"AK\\\",\\\"count\\\":0,\\\"collateral_value\\\":0.0},\\\"maxValues\\\":{\\\"addr_state\\\":\\\"WY\\\",\\\"count\\\":877,\\\"collateral_value\\\":8771214.728967551},\\\"nullCount\\\":{\\\"addr_state\\\":0,\\\"count\\\":0,\\\"collateral_value\\\":0}}\"}}\n",
      "{\"add\":{\"path\":\"part-00004-514edf33-6fb8-4b03-9920-9afd3a0d067e-c000.snappy.parquet\",\"partitionValues\":{},\"size\":1734,\"modificationTime\":1667340427101,\"dataChange\":true,\"stats\":\"{\\\"numRecords\\\":204,\\\"minValues\\\":{\\\"addr_state\\\":\\\"AK\\\",\\\"count\\\":0,\\\"collateral_value\\\":0.0},\\\"maxValues\\\":{\\\"addr_state\\\":\\\"WY\\\",\\\"count\\\":1652,\\\"collateral_value\\\":1.6529323052921893E7},\\\"nullCount\\\":{\\\"addr_state\\\":0,\\\"count\\\":0,\\\"collateral_value\\\":0}}\"}}\n",
      "{\"add\":{\"path\":\"part-00005-402e6296-028a-4d33-ab46-f3d44fa8d71b-c000.snappy.parquet\",\"partitionValues\":{},\"size\":2069,\"modificationTime\":1667340427172,\"dataChange\":true,\"stats\":\"{\\\"numRecords\\\":153,\\\"minValues\\\":{\\\"addr_state\\\":\\\"AK\\\",\\\"count\\\":0,\\\"collateral_value\\\":0.0},\\\"maxValues\\\":{\\\"addr_state\\\":\\\"WY\\\",\\\"count\\\":5718,\\\"collateral_value\\\":5.718774597467037E7},\\\"nullCount\\\":{\\\"addr_state\\\":0,\\\"count\\\":0,\\\"collateral_value\\\":0}}\"}}\n",
      "{\"commitInfo\":{\"timestamp\":1667340427244,\"operation\":\"WRITE\",\"operationParameters\":{\"mode\":\"Append\",\"partitionBy\":\"[]\"},\"readVersion\":10,\"isolationLevel\":\"Serializable\",\"isBlindAppend\":false,\"operationMetrics\":{\"numFiles\":\"6\",\"numOutputRows\":\"1632\",\"numOutputBytes\":\"11247\"},\"engineInfo\":\"Apache-Spark/3.3.1 Delta-Lake/2.1.0\",\"txnId\":\"12600761-34d6-4bf9-8654-dc3b1c99ea2d\"}}\n"
     ]
    }
   ],
   "source": [
    "# And review what is in the delta log\n",
    "!gsutil cat $DELTA_LAKE_DIR_ROOT/_delta_log/00000000000000000011.json"
   ]
  },
  {
   "cell_type": "markdown",
   "id": "b86593ab-c082-4067-8f45-4d7f1836fef4",
   "metadata": {},
   "source": [
    "### THIS CONCLUDES THIS LAB. PROCEED TO THE NEXT NOTEBOOK."
   ]
  }
 ],
 "metadata": {
  "language_info": {
   "codemirror_mode": {
    "name": "ipython",
    "version": 3
   },
   "file_extension": ".py",
   "mimetype": "text/x-python",
   "name": "python",
   "nbconvert_exporter": "python",
   "pygments_lexer": "ipython3",
   "version": "3.10.6"
  },
  "serverless_spark": "{\"name\":\"projects/delta-lake-lab/locations/us-central1/sessions/delta-lake-lab-10060\",\"uuid\":\"cc6b1af7-fba9-41fd-b379-13891e4f5d78\",\"createTime\":\"2022-11-01T20:50:13.532739Z\",\"jupyterSession\":{},\"spark\":{},\"runtimeInfo\":{\"endpoints\":{\"Spark History Server\":\"https://smmei2wdurb7nptroshcbbgeda-dot-us-central1.dataproc.googleusercontent.com/sparkhistory/?eventLogDirFilter=cc6b1af7-fba9-41fd-b379-13891e4f5d78\"}},\"state\":\"ACTIVE\",\"stateTime\":\"2022-11-01T20:51:39.593533Z\",\"creator\":\"admin@akhanolkar.altostrat.com\",\"runtimeConfig\":{\"version\":\"2.0\",\"properties\":{\"spark:spark.jars.packages\":\"io.delta:delta-core_2.13:2.1.0\",\"spark:spark.sql.catalog.spark_catalog\":\"org.apache.spark.sql.delta.catalog.DeltaCatalog\",\"spark:spark.sql.extensions\":\"io.delta.sql.DeltaSparkSessionExtension\",\"spark:spark.executor.instances\":\"2\",\"spark:spark.driver.cores\":\"4\",\"spark:spark.executor.cores\":\"4\",\"spark:spark.dynamicAllocation.executorAllocationRatio\":\"0.3\",\"spark:spark.eventLog.dir\":\"gs://dll-sphs-bucket-885979867746/cc6b1af7-fba9-41fd-b379-13891e4f5d78/spark-job-history\"}},\"environmentConfig\":{\"executionConfig\":{\"serviceAccount\":\"dll-lab-sa@delta-lake-lab.iam.gserviceaccount.com\",\"subnetworkUri\":\"spark-snet\",\"idleTtl\":\"14400s\"},\"peripheralsConfig\":{\"metastoreService\":\"projects/delta-lake-lab/locations/us-central1/services/dll-hms-885979867746\",\"sparkHistoryServerConfig\":{\"dataprocCluster\":\"projects/delta-lake-lab/regions/us-central1/clusters/dll-sphs-885979867746\"}}},\"stateHistory\":[{\"state\":\"CREATING\",\"stateStartTime\":\"2022-11-01T20:50:13.532739Z\"}]}",
  "serverless_spark_kernel_name": "remote-55063bd6660cfbfe1596a3af-pyspark",
  "vscode": {
   "interpreter": {
    "hash": "aee8b7b246df8f9039afb4144a1f6fd8d2ca17a180786b69acc140d282b71a49"
   }
  }
 },
 "nbformat": 4,
 "nbformat_minor": 5
}