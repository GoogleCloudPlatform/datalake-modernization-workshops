{
 "cells": [
  {
   "cell_type": "markdown",
   "id": "4529a790-8425-4600-841a-4b094b82eaa8",
   "metadata": {},
   "source": [
    "# Delta Lake Lab \n",
    "## Unit 8: Table Clone \n",
    "\n",
    "In the previous unit we-\n",
    "1. Learned about zordering and data skipping native to delta lake\n",
    "\n",
    "In this unit, we will learn about-\n",
    "1. Table cloning - shallow clone; creation, and understanding of what happens when a shallow clone is created and when updated\n",
    "2. Table cloning - deep clone; creation and understanding of what happens when a shallow clone is created and when updated "
   ]
  },
  {
   "cell_type": "markdown",
   "id": "1a31c4fd-d465-4f52-8e56-3775bf499abc",
   "metadata": {},
   "source": [
    "### 1. Imports"
   ]
  },
  {
   "cell_type": "code",
   "execution_count": 1,
   "id": "1321bce9-178c-4065-8187-0a5728c1a370",
   "metadata": {},
   "outputs": [],
   "source": [
    "import pandas as pd\n",
    "\n",
    "from pyspark.sql.functions import month, date_format\n",
    "from pyspark.sql.types import IntegerType\n",
    "from pyspark.sql import SparkSession\n",
    "\n",
    "from delta.tables import *\n",
    "\n",
    "import warnings\n",
    "warnings.filterwarnings('ignore')"
   ]
  },
  {
   "cell_type": "markdown",
   "id": "ed295a74-ed1d-4b5d-831a-1b5dcf73c36f",
   "metadata": {},
   "source": [
    "### 2. Create a Spark session powered by Cloud Dataproc "
   ]
  },
  {
   "cell_type": "code",
   "execution_count": 2,
   "id": "b383d5ab-a0b9-45ab-a232-34d88f2a0065",
   "metadata": {},
   "outputs": [
    {
     "name": "stderr",
     "output_type": "stream",
     "text": [
      "22/10/22 23:44:04 WARN SparkSession: Using an existing Spark session; only runtime SQL configurations will take effect.\n"
     ]
    },
    {
     "data": {
      "text/html": [
       "\n",
       "            <div>\n",
       "                <p><b>SparkSession - hive</b></p>\n",
       "                \n",
       "        <div>\n",
       "            <p><b>SparkContext</b></p>\n",
       "\n",
       "            <p><a href=\"http://gdpic-srvls-session-cb959c82-1002-4915-aed8-85c83d4e81f4-m.us-central1-a.c.delta-lake-lab.internal:4040\">Spark UI</a></p>\n",
       "\n",
       "            <dl>\n",
       "              <dt>Version</dt>\n",
       "                <dd><code>v3.3.0</code></dd>\n",
       "              <dt>Master</dt>\n",
       "                <dd><code>spark://gdpic-srvls-session-cb959c82-1002-4915-aed8-85c83d4e81f4-m:7077</code></dd>\n",
       "              <dt>AppName</dt>\n",
       "                <dd><code>PySparkShell</code></dd>\n",
       "            </dl>\n",
       "        </div>\n",
       "        \n",
       "            </div>\n",
       "        "
      ],
      "text/plain": [
       "<pyspark.sql.session.SparkSession at 0x7f9c0c048160>"
      ]
     },
     "execution_count": 2,
     "metadata": {},
     "output_type": "execute_result"
    }
   ],
   "source": [
    "spark = SparkSession.builder.appName('Loan Analysis').getOrCreate()\n",
    "spark"
   ]
  },
  {
   "cell_type": "markdown",
   "id": "63cd13e6-f3f5-4f2c-b4fc-d7e2660c6206",
   "metadata": {},
   "source": [
    "### 3. Declare variables"
   ]
  },
  {
   "cell_type": "code",
   "execution_count": 3,
   "id": "5596e31b-749a-4702-8879-6f05f9ff0c2d",
   "metadata": {},
   "outputs": [
    {
     "name": "stdout",
     "output_type": "stream",
     "text": [
      "PROJECT_ID:  delta-lake-lab\n"
     ]
    }
   ],
   "source": [
    "project_id_output = !gcloud config list --format \"value(core.project)\" 2>/dev/null\n",
    "PROJECT_ID = project_id_output[0]\n",
    "print(\"PROJECT_ID: \", PROJECT_ID)"
   ]
  },
  {
   "cell_type": "code",
   "execution_count": 4,
   "id": "471c6743-a058-462b-851a-f34323f36243",
   "metadata": {},
   "outputs": [
    {
     "name": "stdout",
     "output_type": "stream",
     "text": [
      "PROJECT_NAME:  delta-lake-lab\n"
     ]
    }
   ],
   "source": [
    "project_name_output = !gcloud projects describe $PROJECT_ID | grep name | cut -d':' -f2 | xargs\n",
    "PROJECT_NAME = project_name_output[0]\n",
    "print(\"PROJECT_NAME: \", PROJECT_NAME)"
   ]
  },
  {
   "cell_type": "code",
   "execution_count": 5,
   "id": "61929dc6-a083-433c-8a13-3d39d9c4a4a1",
   "metadata": {},
   "outputs": [
    {
     "name": "stdout",
     "output_type": "stream",
     "text": [
      "PROJECT_NUMBER:  885979867746\n"
     ]
    }
   ],
   "source": [
    "project_number_output = !gcloud projects describe $PROJECT_ID | grep projectNumber | cut -d':' -f2 | xargs\n",
    "PROJECT_NUMBER = project_number_output[0]\n",
    "print(\"PROJECT_NUMBER: \", PROJECT_NUMBER)"
   ]
  },
  {
   "cell_type": "code",
   "execution_count": null,
   "metadata": {},
   "outputs": [],
   "source": [
    "ACCOUNT_NAME = \"akhjain\""
   ]
  },
  {
   "cell_type": "code",
   "execution_count": 6,
   "id": "f8b79fd2-5243-41a4-ae87-e7f9dd87cf20",
   "metadata": {},
   "outputs": [
    {
     "name": "stdout",
     "output_type": "stream",
     "text": [
      "gs://dll-data-bucket-885979867746/delta-consumable\n"
     ]
    }
   ],
   "source": [
    "DATA_LAKE_ROOT_PATH= f\"gs://dll-data-bucket-{PROJECT_NUMBER}-{ACCOUNT_NAME}\"\n",
    "DELTA_LAKE_DIR_ROOT = f\"{DATA_LAKE_ROOT_PATH}/delta-consumable\"\n",
    "print(DELTA_LAKE_DIR_ROOT)"
   ]
  },
  {
   "cell_type": "markdown",
   "id": "ed74d358-e90b-46d0-b81c-1e29c25ccac5",
   "metadata": {},
   "source": [
    "### 4. File listing"
   ]
  },
  {
   "cell_type": "code",
   "execution_count": 7,
   "id": "97b70135-a0e3-4f5b-a917-086775bc2d49",
   "metadata": {},
   "outputs": [
    {
     "name": "stdout",
     "output_type": "stream",
     "text": [
      "gs://dll-data-bucket-885979867746/delta-consumable/:\n",
      "gs://dll-data-bucket-885979867746/delta-consumable/part-00000-0d0c8ea0-982f-4f67-ab9d-62f94e57db11-c000.snappy.parquet\n",
      "gs://dll-data-bucket-885979867746/delta-consumable/part-00000-27993337-bc5b-4c93-9ab0-b77f48ac9160-c000.snappy.parquet\n",
      "gs://dll-data-bucket-885979867746/delta-consumable/part-00000-293e9d10-a628-4cf0-b86c-f9f289913756-c000.snappy.parquet\n",
      "gs://dll-data-bucket-885979867746/delta-consumable/part-00000-33f34593-184c-40b8-adfe-73facf9f043f-c000.snappy.parquet\n",
      "gs://dll-data-bucket-885979867746/delta-consumable/part-00000-595b5ba1-408f-404d-91ee-7bc396235870-c000.snappy.parquet\n",
      "gs://dll-data-bucket-885979867746/delta-consumable/part-00000-5c57d030-c1f7-4f7b-b5d8-2100c4426482-c000.snappy.parquet\n",
      "gs://dll-data-bucket-885979867746/delta-consumable/part-00000-670d672a-c41d-4391-a47e-90d45e589ac2-c000.snappy.parquet\n",
      "gs://dll-data-bucket-885979867746/delta-consumable/part-00000-8572a416-efe4-47bf-ab8b-755973ae5a7a-c000.snappy.parquet\n",
      "gs://dll-data-bucket-885979867746/delta-consumable/part-00000-87c9eb32-b09f-438c-84ee-3bd37fc01fb4-c000.snappy.parquet\n",
      "gs://dll-data-bucket-885979867746/delta-consumable/part-00000-9e3ca1ea-93a4-455a-9988-5e1250281ac0-c000.snappy.parquet\n",
      "gs://dll-data-bucket-885979867746/delta-consumable/part-00000-b11e7e93-f44f-4d92-8613-c20f22858111-c000.snappy.parquet\n",
      "gs://dll-data-bucket-885979867746/delta-consumable/part-00000-b77f8967-b01f-4604-a3f3-3074163693e4-c000.snappy.parquet\n",
      "gs://dll-data-bucket-885979867746/delta-consumable/part-00000-c2a74fad-c560-4efd-8b2e-5a8a7ddcc62e-c000.snappy.parquet\n",
      "gs://dll-data-bucket-885979867746/delta-consumable/part-00001-02e1912c-5a9a-4513-975e-bee0dbfc6074-c000.snappy.parquet\n",
      "gs://dll-data-bucket-885979867746/delta-consumable/part-00001-3b7fbc64-5d70-4ea7-833e-783a2022ba14-c000.snappy.parquet\n",
      "gs://dll-data-bucket-885979867746/delta-consumable/part-00001-507070b7-0126-42de-96b9-1569f40f2a9d-c000.snappy.parquet\n",
      "gs://dll-data-bucket-885979867746/delta-consumable/part-00001-6b666243-9918-4e4a-9de1-dc024e1f1ccb-c000.snappy.parquet\n",
      "gs://dll-data-bucket-885979867746/delta-consumable/part-00001-802cf333-7729-48c0-ba04-83f994889805-c000.snappy.parquet\n",
      "gs://dll-data-bucket-885979867746/delta-consumable/part-00002-4a0bacc0-eadb-4ebf-9a2c-003a3869e100-c000.snappy.parquet\n",
      "gs://dll-data-bucket-885979867746/delta-consumable/part-00002-570c06cd-732f-494f-ab81-2732881e654f-c000.snappy.parquet\n",
      "gs://dll-data-bucket-885979867746/delta-consumable/part-00002-639ad7ad-9a0e-484a-84b9-fc29a9ce5dc0-c000.snappy.parquet\n",
      "gs://dll-data-bucket-885979867746/delta-consumable/part-00002-d5954153-cb49-4365-89fa-12a9c468ca42-c000.snappy.parquet\n",
      "gs://dll-data-bucket-885979867746/delta-consumable/part-00003-07e1d0de-f6ba-4f9b-8389-1f5c8029f974-c000.snappy.parquet\n",
      "gs://dll-data-bucket-885979867746/delta-consumable/part-00003-1fa442f2-dcf0-4939-900e-a20f7e0cf473-c000.snappy.parquet\n",
      "gs://dll-data-bucket-885979867746/delta-consumable/part-00003-673e58d6-d7d3-42df-adef-c089ca235619-c000.snappy.parquet\n",
      "gs://dll-data-bucket-885979867746/delta-consumable/part-00003-e7773bde-ec22-4511-a9bf-4b11ba923113-c000.snappy.parquet\n",
      "gs://dll-data-bucket-885979867746/delta-consumable/part-00004-7cab9918-31a5-4d07-9ce5-08e96aa10b64-c000.snappy.parquet\n",
      "gs://dll-data-bucket-885979867746/delta-consumable/part-00004-8cb50719-40b0-4b60-9845-037f6cc454f0-c000.snappy.parquet\n",
      "gs://dll-data-bucket-885979867746/delta-consumable/part-00005-62047667-10b5-49e1-9741-5197b75d58a4-c000.snappy.parquet\n",
      "gs://dll-data-bucket-885979867746/delta-consumable/part-00005-68864e73-c67c-4255-b94f-a6b710c74037-c000.snappy.parquet\n",
      "\n",
      "gs://dll-data-bucket-885979867746/delta-consumable/_delta_log/:\n",
      "gs://dll-data-bucket-885979867746/delta-consumable/_delta_log/\n",
      "gs://dll-data-bucket-885979867746/delta-consumable/_delta_log/00000000000000000000.json\n",
      "gs://dll-data-bucket-885979867746/delta-consumable/_delta_log/00000000000000000001.json\n",
      "gs://dll-data-bucket-885979867746/delta-consumable/_delta_log/00000000000000000002.json\n",
      "gs://dll-data-bucket-885979867746/delta-consumable/_delta_log/00000000000000000003.json\n",
      "gs://dll-data-bucket-885979867746/delta-consumable/_delta_log/00000000000000000004.json\n",
      "gs://dll-data-bucket-885979867746/delta-consumable/_delta_log/00000000000000000005.json\n",
      "gs://dll-data-bucket-885979867746/delta-consumable/_delta_log/00000000000000000006.json\n",
      "gs://dll-data-bucket-885979867746/delta-consumable/_delta_log/00000000000000000007.json\n",
      "gs://dll-data-bucket-885979867746/delta-consumable/_delta_log/00000000000000000008.json\n",
      "gs://dll-data-bucket-885979867746/delta-consumable/_delta_log/00000000000000000009.json\n",
      "gs://dll-data-bucket-885979867746/delta-consumable/_delta_log/00000000000000000010.checkpoint.parquet\n",
      "gs://dll-data-bucket-885979867746/delta-consumable/_delta_log/00000000000000000010.json\n",
      "gs://dll-data-bucket-885979867746/delta-consumable/_delta_log/00000000000000000011.json\n",
      "gs://dll-data-bucket-885979867746/delta-consumable/_delta_log/00000000000000000012.json\n",
      "gs://dll-data-bucket-885979867746/delta-consumable/_delta_log/_last_checkpoint\n",
      "\n",
      "gs://dll-data-bucket-885979867746/delta-consumable/_symlink_format_manifest/:\n",
      "gs://dll-data-bucket-885979867746/delta-consumable/_symlink_format_manifest/\n",
      "gs://dll-data-bucket-885979867746/delta-consumable/_symlink_format_manifest/manifest\n"
     ]
    }
   ],
   "source": [
    "!gsutil ls -r $DELTA_LAKE_DIR_ROOT"
   ]
  },
  {
   "cell_type": "code",
   "execution_count": 8,
   "id": "4f9462d8-5f73-442d-b861-535d2123e427",
   "metadata": {},
   "outputs": [
    {
     "name": "stdout",
     "output_type": "stream",
     "text": [
      "30\n"
     ]
    }
   ],
   "source": [
    "!gsutil ls -r $DELTA_LAKE_DIR_ROOT/part* | wc -l"
   ]
  },
  {
   "cell_type": "code",
   "execution_count": 9,
   "id": "38ce2f6a-e015-481a-860c-4c7e4822f3b8",
   "metadata": {},
   "outputs": [
    {
     "name": "stdout",
     "output_type": "stream",
     "text": [
      "13\n"
     ]
    }
   ],
   "source": [
    "!gsutil ls -r $DELTA_LAKE_DIR_ROOT/_delta_log/*.json | wc -l"
   ]
  },
  {
   "cell_type": "markdown",
   "id": "17581b81-035f-43b6-a4fa-48b55ce28c8c",
   "metadata": {},
   "source": [
    "### 5. Create a shallow clone"
   ]
  },
  {
   "cell_type": "code",
   "execution_count": 10,
   "id": "66534c3e-cfea-4397-ac69-5886878318bf",
   "metadata": {},
   "outputs": [
    {
     "name": "stdout",
     "output_type": "stream",
     "text": [
      "gs://dll-data-bucket-885979867746/delta-consumable/shallow_clone/\n"
     ]
    }
   ],
   "source": [
    "SHALLOW_CLONE_DIR = f\"{DELTA_LAKE_DIR_ROOT}/shallow_clone/\"\n",
    "print(SHALLOW_CLONE_DIR)"
   ]
  },
  {
   "cell_type": "code",
   "execution_count": 11,
   "id": "bcf3242c-6af0-473b-9198-51ab24e951c8",
   "metadata": {},
   "outputs": [
    {
     "name": "stderr",
     "output_type": "stream",
     "text": [
      "ivysettings.xml file not found in HIVE_HOME or HIVE_CONF_DIR,/etc/spark/conf/ivysettings.xml will be used\n",
      "                                                                                \r"
     ]
    },
    {
     "name": "stdout",
     "output_type": "stream",
     "text": [
      "+----------+-----+------------------+\n",
      "|addr_state|count|collateral_value  |\n",
      "+----------+-----+------------------+\n",
      "|IA        |32   |326185.5741464369 |\n",
      "|IA        |164  |1649795.5660065983|\n",
      "+----------+-----+------------------+\n",
      "\n"
     ]
    }
   ],
   "source": [
    "spark.sql(\"SELECT * FROM loan_db.loans_by_state_delta WHERE addr_state='IA' LIMIT 2\").show(truncate=False)"
   ]
  },
  {
   "cell_type": "code",
   "execution_count": 12,
   "id": "18047cfc-cb17-43ee-89cd-ccb0cd45d633",
   "metadata": {},
   "outputs": [
    {
     "ename": "ParseException",
     "evalue": "\nSyntax error at or near 'SHALLOW'(line 1, pos 70)\n\n== SQL ==\nCREATE TABLE IF NOT EXISTS loan_db.loans_by_state_delta_clone_shallow SHALLOW CLONE loan_db.loans_by_state_delta LOCATION \"gs://dll-data-bucket-885979867746/delta-consumable/shallow_clone/\"\n----------------------------------------------------------------------^^^\n",
     "output_type": "error",
     "traceback": [
      "\u001b[0;31m---------------------------------------------------------------------------\u001b[0m",
      "\u001b[0;31mParseException\u001b[0m                            Traceback (most recent call last)",
      "Cell \u001b[0;32mIn [12], line 1\u001b[0m\n\u001b[0;32m----> 1\u001b[0m \u001b[43mspark\u001b[49m\u001b[38;5;241;43m.\u001b[39;49m\u001b[43msql\u001b[49m\u001b[43m(\u001b[49m\u001b[38;5;124;43mf\u001b[39;49m\u001b[38;5;124;43m\"\u001b[39;49m\u001b[38;5;124;43mCREATE TABLE IF NOT EXISTS loan_db.loans_by_state_delta_clone_shallow SHALLOW CLONE loan_db.loans_by_state_delta LOCATION \u001b[39;49m\u001b[38;5;130;43;01m\\\"\u001b[39;49;00m\u001b[38;5;132;43;01m{\u001b[39;49;00m\u001b[43mSHALLOW_CLONE_DIR\u001b[49m\u001b[38;5;132;43;01m}\u001b[39;49;00m\u001b[38;5;130;43;01m\\\"\u001b[39;49;00m\u001b[38;5;124;43m\"\u001b[39;49m\u001b[43m)\u001b[49m\n",
      "File \u001b[0;32m/usr/lib/spark/python/pyspark/sql/session.py:1034\u001b[0m, in \u001b[0;36mSparkSession.sql\u001b[0;34m(self, sqlQuery, **kwargs)\u001b[0m\n\u001b[1;32m   1032\u001b[0m     sqlQuery \u001b[38;5;241m=\u001b[39m formatter\u001b[38;5;241m.\u001b[39mformat(sqlQuery, \u001b[38;5;241m*\u001b[39m\u001b[38;5;241m*\u001b[39mkwargs)\n\u001b[1;32m   1033\u001b[0m \u001b[38;5;28;01mtry\u001b[39;00m:\n\u001b[0;32m-> 1034\u001b[0m     \u001b[38;5;28;01mreturn\u001b[39;00m DataFrame(\u001b[38;5;28;43mself\u001b[39;49m\u001b[38;5;241;43m.\u001b[39;49m\u001b[43m_jsparkSession\u001b[49m\u001b[38;5;241;43m.\u001b[39;49m\u001b[43msql\u001b[49m\u001b[43m(\u001b[49m\u001b[43msqlQuery\u001b[49m\u001b[43m)\u001b[49m, \u001b[38;5;28mself\u001b[39m)\n\u001b[1;32m   1035\u001b[0m \u001b[38;5;28;01mfinally\u001b[39;00m:\n\u001b[1;32m   1036\u001b[0m     \u001b[38;5;28;01mif\u001b[39;00m \u001b[38;5;28mlen\u001b[39m(kwargs) \u001b[38;5;241m>\u001b[39m \u001b[38;5;241m0\u001b[39m:\n",
      "File \u001b[0;32m/usr/lib/spark/python/lib/py4j-0.10.9.5-src.zip/py4j/java_gateway.py:1321\u001b[0m, in \u001b[0;36mJavaMember.__call__\u001b[0;34m(self, *args)\u001b[0m\n\u001b[1;32m   1315\u001b[0m command \u001b[38;5;241m=\u001b[39m proto\u001b[38;5;241m.\u001b[39mCALL_COMMAND_NAME \u001b[38;5;241m+\u001b[39m\\\n\u001b[1;32m   1316\u001b[0m     \u001b[38;5;28mself\u001b[39m\u001b[38;5;241m.\u001b[39mcommand_header \u001b[38;5;241m+\u001b[39m\\\n\u001b[1;32m   1317\u001b[0m     args_command \u001b[38;5;241m+\u001b[39m\\\n\u001b[1;32m   1318\u001b[0m     proto\u001b[38;5;241m.\u001b[39mEND_COMMAND_PART\n\u001b[1;32m   1320\u001b[0m answer \u001b[38;5;241m=\u001b[39m \u001b[38;5;28mself\u001b[39m\u001b[38;5;241m.\u001b[39mgateway_client\u001b[38;5;241m.\u001b[39msend_command(command)\n\u001b[0;32m-> 1321\u001b[0m return_value \u001b[38;5;241m=\u001b[39m \u001b[43mget_return_value\u001b[49m\u001b[43m(\u001b[49m\n\u001b[1;32m   1322\u001b[0m \u001b[43m    \u001b[49m\u001b[43manswer\u001b[49m\u001b[43m,\u001b[49m\u001b[43m \u001b[49m\u001b[38;5;28;43mself\u001b[39;49m\u001b[38;5;241;43m.\u001b[39;49m\u001b[43mgateway_client\u001b[49m\u001b[43m,\u001b[49m\u001b[43m \u001b[49m\u001b[38;5;28;43mself\u001b[39;49m\u001b[38;5;241;43m.\u001b[39;49m\u001b[43mtarget_id\u001b[49m\u001b[43m,\u001b[49m\u001b[43m \u001b[49m\u001b[38;5;28;43mself\u001b[39;49m\u001b[38;5;241;43m.\u001b[39;49m\u001b[43mname\u001b[49m\u001b[43m)\u001b[49m\n\u001b[1;32m   1324\u001b[0m \u001b[38;5;28;01mfor\u001b[39;00m temp_arg \u001b[38;5;129;01min\u001b[39;00m temp_args:\n\u001b[1;32m   1325\u001b[0m     temp_arg\u001b[38;5;241m.\u001b[39m_detach()\n",
      "File \u001b[0;32m/usr/lib/spark/python/pyspark/sql/utils.py:196\u001b[0m, in \u001b[0;36mcapture_sql_exception.<locals>.deco\u001b[0;34m(*a, **kw)\u001b[0m\n\u001b[1;32m    192\u001b[0m converted \u001b[38;5;241m=\u001b[39m convert_exception(e\u001b[38;5;241m.\u001b[39mjava_exception)\n\u001b[1;32m    193\u001b[0m \u001b[38;5;28;01mif\u001b[39;00m \u001b[38;5;129;01mnot\u001b[39;00m \u001b[38;5;28misinstance\u001b[39m(converted, UnknownException):\n\u001b[1;32m    194\u001b[0m     \u001b[38;5;66;03m# Hide where the exception came from that shows a non-Pythonic\u001b[39;00m\n\u001b[1;32m    195\u001b[0m     \u001b[38;5;66;03m# JVM exception message.\u001b[39;00m\n\u001b[0;32m--> 196\u001b[0m     \u001b[38;5;28;01mraise\u001b[39;00m converted \u001b[38;5;28;01mfrom\u001b[39;00m \u001b[38;5;28mNone\u001b[39m\n\u001b[1;32m    197\u001b[0m \u001b[38;5;28;01melse\u001b[39;00m:\n\u001b[1;32m    198\u001b[0m     \u001b[38;5;28;01mraise\u001b[39;00m\n",
      "\u001b[0;31mParseException\u001b[0m: \nSyntax error at or near 'SHALLOW'(line 1, pos 70)\n\n== SQL ==\nCREATE TABLE IF NOT EXISTS loan_db.loans_by_state_delta_clone_shallow SHALLOW CLONE loan_db.loans_by_state_delta LOCATION \"gs://dll-data-bucket-885979867746/delta-consumable/shallow_clone/\"\n----------------------------------------------------------------------^^^\n"
     ]
    }
   ],
   "source": [
    "spark.sql(f\"CREATE TABLE IF NOT EXISTS loan_db.loans_by_state_delta_clone_shallow SHALLOW CLONE loan_db.loans_by_state_delta LOCATION \\\"{SHALLOW_CLONE_DIR}\\\"\")"
   ]
  },
  {
   "cell_type": "markdown",
   "id": "45435cb0-c56d-4341-862e-d39966b5985a",
   "metadata": {},
   "source": [
    "Shallow clone creation is a metadata operation until a CRUD operation is done against it, at which point, the data gets copy-persisted."
   ]
  },
  {
   "cell_type": "code",
   "execution_count": 13,
   "id": "e98a313e-98cf-43a6-b000-626c5f3672e1",
   "metadata": {},
   "outputs": [
    {
     "name": "stdout",
     "output_type": "stream",
     "text": [
      "gs://dll-data-bucket-885979867746/delta-consumable/:\n",
      "gs://dll-data-bucket-885979867746/delta-consumable/part-00000-0d0c8ea0-982f-4f67-ab9d-62f94e57db11-c000.snappy.parquet\n",
      "gs://dll-data-bucket-885979867746/delta-consumable/part-00000-27993337-bc5b-4c93-9ab0-b77f48ac9160-c000.snappy.parquet\n",
      "gs://dll-data-bucket-885979867746/delta-consumable/part-00000-293e9d10-a628-4cf0-b86c-f9f289913756-c000.snappy.parquet\n",
      "gs://dll-data-bucket-885979867746/delta-consumable/part-00000-33f34593-184c-40b8-adfe-73facf9f043f-c000.snappy.parquet\n",
      "gs://dll-data-bucket-885979867746/delta-consumable/part-00000-595b5ba1-408f-404d-91ee-7bc396235870-c000.snappy.parquet\n",
      "gs://dll-data-bucket-885979867746/delta-consumable/part-00000-5c57d030-c1f7-4f7b-b5d8-2100c4426482-c000.snappy.parquet\n",
      "gs://dll-data-bucket-885979867746/delta-consumable/part-00000-670d672a-c41d-4391-a47e-90d45e589ac2-c000.snappy.parquet\n",
      "gs://dll-data-bucket-885979867746/delta-consumable/part-00000-8572a416-efe4-47bf-ab8b-755973ae5a7a-c000.snappy.parquet\n",
      "gs://dll-data-bucket-885979867746/delta-consumable/part-00000-87c9eb32-b09f-438c-84ee-3bd37fc01fb4-c000.snappy.parquet\n",
      "gs://dll-data-bucket-885979867746/delta-consumable/part-00000-9e3ca1ea-93a4-455a-9988-5e1250281ac0-c000.snappy.parquet\n",
      "gs://dll-data-bucket-885979867746/delta-consumable/part-00000-b11e7e93-f44f-4d92-8613-c20f22858111-c000.snappy.parquet\n",
      "gs://dll-data-bucket-885979867746/delta-consumable/part-00000-b77f8967-b01f-4604-a3f3-3074163693e4-c000.snappy.parquet\n",
      "gs://dll-data-bucket-885979867746/delta-consumable/part-00000-c2a74fad-c560-4efd-8b2e-5a8a7ddcc62e-c000.snappy.parquet\n",
      "gs://dll-data-bucket-885979867746/delta-consumable/part-00001-02e1912c-5a9a-4513-975e-bee0dbfc6074-c000.snappy.parquet\n",
      "gs://dll-data-bucket-885979867746/delta-consumable/part-00001-3b7fbc64-5d70-4ea7-833e-783a2022ba14-c000.snappy.parquet\n",
      "gs://dll-data-bucket-885979867746/delta-consumable/part-00001-507070b7-0126-42de-96b9-1569f40f2a9d-c000.snappy.parquet\n",
      "gs://dll-data-bucket-885979867746/delta-consumable/part-00001-6b666243-9918-4e4a-9de1-dc024e1f1ccb-c000.snappy.parquet\n",
      "gs://dll-data-bucket-885979867746/delta-consumable/part-00001-802cf333-7729-48c0-ba04-83f994889805-c000.snappy.parquet\n",
      "gs://dll-data-bucket-885979867746/delta-consumable/part-00002-4a0bacc0-eadb-4ebf-9a2c-003a3869e100-c000.snappy.parquet\n",
      "gs://dll-data-bucket-885979867746/delta-consumable/part-00002-570c06cd-732f-494f-ab81-2732881e654f-c000.snappy.parquet\n",
      "gs://dll-data-bucket-885979867746/delta-consumable/part-00002-639ad7ad-9a0e-484a-84b9-fc29a9ce5dc0-c000.snappy.parquet\n",
      "gs://dll-data-bucket-885979867746/delta-consumable/part-00002-d5954153-cb49-4365-89fa-12a9c468ca42-c000.snappy.parquet\n",
      "gs://dll-data-bucket-885979867746/delta-consumable/part-00003-07e1d0de-f6ba-4f9b-8389-1f5c8029f974-c000.snappy.parquet\n",
      "gs://dll-data-bucket-885979867746/delta-consumable/part-00003-1fa442f2-dcf0-4939-900e-a20f7e0cf473-c000.snappy.parquet\n",
      "gs://dll-data-bucket-885979867746/delta-consumable/part-00003-673e58d6-d7d3-42df-adef-c089ca235619-c000.snappy.parquet\n",
      "gs://dll-data-bucket-885979867746/delta-consumable/part-00003-e7773bde-ec22-4511-a9bf-4b11ba923113-c000.snappy.parquet\n",
      "gs://dll-data-bucket-885979867746/delta-consumable/part-00004-7cab9918-31a5-4d07-9ce5-08e96aa10b64-c000.snappy.parquet\n",
      "gs://dll-data-bucket-885979867746/delta-consumable/part-00004-8cb50719-40b0-4b60-9845-037f6cc454f0-c000.snappy.parquet\n",
      "gs://dll-data-bucket-885979867746/delta-consumable/part-00005-62047667-10b5-49e1-9741-5197b75d58a4-c000.snappy.parquet\n",
      "gs://dll-data-bucket-885979867746/delta-consumable/part-00005-68864e73-c67c-4255-b94f-a6b710c74037-c000.snappy.parquet\n",
      "\n",
      "gs://dll-data-bucket-885979867746/delta-consumable/_delta_log/:\n",
      "gs://dll-data-bucket-885979867746/delta-consumable/_delta_log/\n",
      "gs://dll-data-bucket-885979867746/delta-consumable/_delta_log/00000000000000000000.json\n",
      "gs://dll-data-bucket-885979867746/delta-consumable/_delta_log/00000000000000000001.json\n",
      "gs://dll-data-bucket-885979867746/delta-consumable/_delta_log/00000000000000000002.json\n",
      "gs://dll-data-bucket-885979867746/delta-consumable/_delta_log/00000000000000000003.json\n",
      "gs://dll-data-bucket-885979867746/delta-consumable/_delta_log/00000000000000000004.json\n",
      "gs://dll-data-bucket-885979867746/delta-consumable/_delta_log/00000000000000000005.json\n",
      "gs://dll-data-bucket-885979867746/delta-consumable/_delta_log/00000000000000000006.json\n",
      "gs://dll-data-bucket-885979867746/delta-consumable/_delta_log/00000000000000000007.json\n",
      "gs://dll-data-bucket-885979867746/delta-consumable/_delta_log/00000000000000000008.json\n",
      "gs://dll-data-bucket-885979867746/delta-consumable/_delta_log/00000000000000000009.json\n",
      "gs://dll-data-bucket-885979867746/delta-consumable/_delta_log/00000000000000000010.checkpoint.parquet\n",
      "gs://dll-data-bucket-885979867746/delta-consumable/_delta_log/00000000000000000010.json\n",
      "gs://dll-data-bucket-885979867746/delta-consumable/_delta_log/00000000000000000011.json\n",
      "gs://dll-data-bucket-885979867746/delta-consumable/_delta_log/00000000000000000012.json\n",
      "gs://dll-data-bucket-885979867746/delta-consumable/_delta_log/_last_checkpoint\n",
      "\n",
      "gs://dll-data-bucket-885979867746/delta-consumable/_symlink_format_manifest/:\n",
      "gs://dll-data-bucket-885979867746/delta-consumable/_symlink_format_manifest/\n",
      "gs://dll-data-bucket-885979867746/delta-consumable/_symlink_format_manifest/manifest\n"
     ]
    }
   ],
   "source": [
    "!gsutil ls -r $DELTA_LAKE_DIR_ROOT"
   ]
  },
  {
   "cell_type": "code",
   "execution_count": 14,
   "id": "5f0cf5a2-790b-4c9c-b2f1-73f0e7354a0f",
   "metadata": {},
   "outputs": [
    {
     "name": "stdout",
     "output_type": "stream",
     "text": [
      "30\n"
     ]
    }
   ],
   "source": [
    "!gsutil ls -r $DELTA_LAKE_DIR_ROOT/part* | wc -l"
   ]
  },
  {
   "cell_type": "code",
   "execution_count": 15,
   "id": "c16e3287-9fe0-4768-933f-e2b3364f800d",
   "metadata": {},
   "outputs": [
    {
     "ename": "AnalysisException",
     "evalue": "Table or view not found: loan_db.loans_by_state_delta_clone_shallow; line 1 pos 7;\n'UpdateTable [assignment('count, 11111)], ('addr_state = IL)\n+- 'UnresolvedRelation [loan_db, loans_by_state_delta_clone_shallow], [], false\n",
     "output_type": "error",
     "traceback": [
      "\u001b[0;31m---------------------------------------------------------------------------\u001b[0m",
      "\u001b[0;31mAnalysisException\u001b[0m                         Traceback (most recent call last)",
      "Cell \u001b[0;32mIn [15], line 1\u001b[0m\n\u001b[0;32m----> 1\u001b[0m \u001b[43mspark\u001b[49m\u001b[38;5;241;43m.\u001b[39;49m\u001b[43msql\u001b[49m\u001b[43m(\u001b[49m\u001b[38;5;124;43m\"\u001b[39;49m\u001b[38;5;124;43mUPDATE loan_db.loans_by_state_delta_clone_shallow SET count = 11111 WHERE addr_state=\u001b[39;49m\u001b[38;5;124;43m'\u001b[39;49m\u001b[38;5;124;43mIL\u001b[39;49m\u001b[38;5;124;43m'\u001b[39;49m\u001b[38;5;124;43m\"\u001b[39;49m\u001b[43m)\u001b[49m\n",
      "File \u001b[0;32m/usr/lib/spark/python/pyspark/sql/session.py:1034\u001b[0m, in \u001b[0;36mSparkSession.sql\u001b[0;34m(self, sqlQuery, **kwargs)\u001b[0m\n\u001b[1;32m   1032\u001b[0m     sqlQuery \u001b[38;5;241m=\u001b[39m formatter\u001b[38;5;241m.\u001b[39mformat(sqlQuery, \u001b[38;5;241m*\u001b[39m\u001b[38;5;241m*\u001b[39mkwargs)\n\u001b[1;32m   1033\u001b[0m \u001b[38;5;28;01mtry\u001b[39;00m:\n\u001b[0;32m-> 1034\u001b[0m     \u001b[38;5;28;01mreturn\u001b[39;00m DataFrame(\u001b[38;5;28;43mself\u001b[39;49m\u001b[38;5;241;43m.\u001b[39;49m\u001b[43m_jsparkSession\u001b[49m\u001b[38;5;241;43m.\u001b[39;49m\u001b[43msql\u001b[49m\u001b[43m(\u001b[49m\u001b[43msqlQuery\u001b[49m\u001b[43m)\u001b[49m, \u001b[38;5;28mself\u001b[39m)\n\u001b[1;32m   1035\u001b[0m \u001b[38;5;28;01mfinally\u001b[39;00m:\n\u001b[1;32m   1036\u001b[0m     \u001b[38;5;28;01mif\u001b[39;00m \u001b[38;5;28mlen\u001b[39m(kwargs) \u001b[38;5;241m>\u001b[39m \u001b[38;5;241m0\u001b[39m:\n",
      "File \u001b[0;32m/usr/lib/spark/python/lib/py4j-0.10.9.5-src.zip/py4j/java_gateway.py:1321\u001b[0m, in \u001b[0;36mJavaMember.__call__\u001b[0;34m(self, *args)\u001b[0m\n\u001b[1;32m   1315\u001b[0m command \u001b[38;5;241m=\u001b[39m proto\u001b[38;5;241m.\u001b[39mCALL_COMMAND_NAME \u001b[38;5;241m+\u001b[39m\\\n\u001b[1;32m   1316\u001b[0m     \u001b[38;5;28mself\u001b[39m\u001b[38;5;241m.\u001b[39mcommand_header \u001b[38;5;241m+\u001b[39m\\\n\u001b[1;32m   1317\u001b[0m     args_command \u001b[38;5;241m+\u001b[39m\\\n\u001b[1;32m   1318\u001b[0m     proto\u001b[38;5;241m.\u001b[39mEND_COMMAND_PART\n\u001b[1;32m   1320\u001b[0m answer \u001b[38;5;241m=\u001b[39m \u001b[38;5;28mself\u001b[39m\u001b[38;5;241m.\u001b[39mgateway_client\u001b[38;5;241m.\u001b[39msend_command(command)\n\u001b[0;32m-> 1321\u001b[0m return_value \u001b[38;5;241m=\u001b[39m \u001b[43mget_return_value\u001b[49m\u001b[43m(\u001b[49m\n\u001b[1;32m   1322\u001b[0m \u001b[43m    \u001b[49m\u001b[43manswer\u001b[49m\u001b[43m,\u001b[49m\u001b[43m \u001b[49m\u001b[38;5;28;43mself\u001b[39;49m\u001b[38;5;241;43m.\u001b[39;49m\u001b[43mgateway_client\u001b[49m\u001b[43m,\u001b[49m\u001b[43m \u001b[49m\u001b[38;5;28;43mself\u001b[39;49m\u001b[38;5;241;43m.\u001b[39;49m\u001b[43mtarget_id\u001b[49m\u001b[43m,\u001b[49m\u001b[43m \u001b[49m\u001b[38;5;28;43mself\u001b[39;49m\u001b[38;5;241;43m.\u001b[39;49m\u001b[43mname\u001b[49m\u001b[43m)\u001b[49m\n\u001b[1;32m   1324\u001b[0m \u001b[38;5;28;01mfor\u001b[39;00m temp_arg \u001b[38;5;129;01min\u001b[39;00m temp_args:\n\u001b[1;32m   1325\u001b[0m     temp_arg\u001b[38;5;241m.\u001b[39m_detach()\n",
      "File \u001b[0;32m/usr/lib/spark/python/pyspark/sql/utils.py:196\u001b[0m, in \u001b[0;36mcapture_sql_exception.<locals>.deco\u001b[0;34m(*a, **kw)\u001b[0m\n\u001b[1;32m    192\u001b[0m converted \u001b[38;5;241m=\u001b[39m convert_exception(e\u001b[38;5;241m.\u001b[39mjava_exception)\n\u001b[1;32m    193\u001b[0m \u001b[38;5;28;01mif\u001b[39;00m \u001b[38;5;129;01mnot\u001b[39;00m \u001b[38;5;28misinstance\u001b[39m(converted, UnknownException):\n\u001b[1;32m    194\u001b[0m     \u001b[38;5;66;03m# Hide where the exception came from that shows a non-Pythonic\u001b[39;00m\n\u001b[1;32m    195\u001b[0m     \u001b[38;5;66;03m# JVM exception message.\u001b[39;00m\n\u001b[0;32m--> 196\u001b[0m     \u001b[38;5;28;01mraise\u001b[39;00m converted \u001b[38;5;28;01mfrom\u001b[39;00m \u001b[38;5;28mNone\u001b[39m\n\u001b[1;32m    197\u001b[0m \u001b[38;5;28;01melse\u001b[39;00m:\n\u001b[1;32m    198\u001b[0m     \u001b[38;5;28;01mraise\u001b[39;00m\n",
      "\u001b[0;31mAnalysisException\u001b[0m: Table or view not found: loan_db.loans_by_state_delta_clone_shallow; line 1 pos 7;\n'UpdateTable [assignment('count, 11111)], ('addr_state = IL)\n+- 'UnresolvedRelation [loan_db, loans_by_state_delta_clone_shallow], [], false\n"
     ]
    }
   ],
   "source": [
    "spark.sql(\"UPDATE loan_db.loans_by_state_delta_clone_shallow SET count = 11111 WHERE addr_state='IL'\")"
   ]
  },
  {
   "cell_type": "code",
   "execution_count": 16,
   "id": "21c6b513-189c-4f96-a0ff-731e8dcf751f",
   "metadata": {},
   "outputs": [
    {
     "name": "stdout",
     "output_type": "stream",
     "text": [
      "gs://dll-data-bucket-885979867746/delta-consumable/:\n",
      "gs://dll-data-bucket-885979867746/delta-consumable/part-00000-0d0c8ea0-982f-4f67-ab9d-62f94e57db11-c000.snappy.parquet\n",
      "gs://dll-data-bucket-885979867746/delta-consumable/part-00000-27993337-bc5b-4c93-9ab0-b77f48ac9160-c000.snappy.parquet\n",
      "gs://dll-data-bucket-885979867746/delta-consumable/part-00000-293e9d10-a628-4cf0-b86c-f9f289913756-c000.snappy.parquet\n",
      "gs://dll-data-bucket-885979867746/delta-consumable/part-00000-33f34593-184c-40b8-adfe-73facf9f043f-c000.snappy.parquet\n",
      "gs://dll-data-bucket-885979867746/delta-consumable/part-00000-595b5ba1-408f-404d-91ee-7bc396235870-c000.snappy.parquet\n",
      "gs://dll-data-bucket-885979867746/delta-consumable/part-00000-5c57d030-c1f7-4f7b-b5d8-2100c4426482-c000.snappy.parquet\n",
      "gs://dll-data-bucket-885979867746/delta-consumable/part-00000-670d672a-c41d-4391-a47e-90d45e589ac2-c000.snappy.parquet\n",
      "gs://dll-data-bucket-885979867746/delta-consumable/part-00000-8572a416-efe4-47bf-ab8b-755973ae5a7a-c000.snappy.parquet\n",
      "gs://dll-data-bucket-885979867746/delta-consumable/part-00000-87c9eb32-b09f-438c-84ee-3bd37fc01fb4-c000.snappy.parquet\n",
      "gs://dll-data-bucket-885979867746/delta-consumable/part-00000-9e3ca1ea-93a4-455a-9988-5e1250281ac0-c000.snappy.parquet\n",
      "gs://dll-data-bucket-885979867746/delta-consumable/part-00000-b11e7e93-f44f-4d92-8613-c20f22858111-c000.snappy.parquet\n",
      "gs://dll-data-bucket-885979867746/delta-consumable/part-00000-b77f8967-b01f-4604-a3f3-3074163693e4-c000.snappy.parquet\n",
      "gs://dll-data-bucket-885979867746/delta-consumable/part-00000-c2a74fad-c560-4efd-8b2e-5a8a7ddcc62e-c000.snappy.parquet\n",
      "gs://dll-data-bucket-885979867746/delta-consumable/part-00001-02e1912c-5a9a-4513-975e-bee0dbfc6074-c000.snappy.parquet\n",
      "gs://dll-data-bucket-885979867746/delta-consumable/part-00001-3b7fbc64-5d70-4ea7-833e-783a2022ba14-c000.snappy.parquet\n",
      "gs://dll-data-bucket-885979867746/delta-consumable/part-00001-507070b7-0126-42de-96b9-1569f40f2a9d-c000.snappy.parquet\n",
      "gs://dll-data-bucket-885979867746/delta-consumable/part-00001-6b666243-9918-4e4a-9de1-dc024e1f1ccb-c000.snappy.parquet\n",
      "gs://dll-data-bucket-885979867746/delta-consumable/part-00001-802cf333-7729-48c0-ba04-83f994889805-c000.snappy.parquet\n",
      "gs://dll-data-bucket-885979867746/delta-consumable/part-00002-4a0bacc0-eadb-4ebf-9a2c-003a3869e100-c000.snappy.parquet\n",
      "gs://dll-data-bucket-885979867746/delta-consumable/part-00002-570c06cd-732f-494f-ab81-2732881e654f-c000.snappy.parquet\n",
      "gs://dll-data-bucket-885979867746/delta-consumable/part-00002-639ad7ad-9a0e-484a-84b9-fc29a9ce5dc0-c000.snappy.parquet\n",
      "gs://dll-data-bucket-885979867746/delta-consumable/part-00002-d5954153-cb49-4365-89fa-12a9c468ca42-c000.snappy.parquet\n",
      "gs://dll-data-bucket-885979867746/delta-consumable/part-00003-07e1d0de-f6ba-4f9b-8389-1f5c8029f974-c000.snappy.parquet\n",
      "gs://dll-data-bucket-885979867746/delta-consumable/part-00003-1fa442f2-dcf0-4939-900e-a20f7e0cf473-c000.snappy.parquet\n",
      "gs://dll-data-bucket-885979867746/delta-consumable/part-00003-673e58d6-d7d3-42df-adef-c089ca235619-c000.snappy.parquet\n",
      "gs://dll-data-bucket-885979867746/delta-consumable/part-00003-e7773bde-ec22-4511-a9bf-4b11ba923113-c000.snappy.parquet\n",
      "gs://dll-data-bucket-885979867746/delta-consumable/part-00004-7cab9918-31a5-4d07-9ce5-08e96aa10b64-c000.snappy.parquet\n",
      "gs://dll-data-bucket-885979867746/delta-consumable/part-00004-8cb50719-40b0-4b60-9845-037f6cc454f0-c000.snappy.parquet\n",
      "gs://dll-data-bucket-885979867746/delta-consumable/part-00005-62047667-10b5-49e1-9741-5197b75d58a4-c000.snappy.parquet\n",
      "gs://dll-data-bucket-885979867746/delta-consumable/part-00005-68864e73-c67c-4255-b94f-a6b710c74037-c000.snappy.parquet\n",
      "\n",
      "gs://dll-data-bucket-885979867746/delta-consumable/_delta_log/:\n",
      "gs://dll-data-bucket-885979867746/delta-consumable/_delta_log/\n",
      "gs://dll-data-bucket-885979867746/delta-consumable/_delta_log/00000000000000000000.json\n",
      "gs://dll-data-bucket-885979867746/delta-consumable/_delta_log/00000000000000000001.json\n",
      "gs://dll-data-bucket-885979867746/delta-consumable/_delta_log/00000000000000000002.json\n",
      "gs://dll-data-bucket-885979867746/delta-consumable/_delta_log/00000000000000000003.json\n",
      "gs://dll-data-bucket-885979867746/delta-consumable/_delta_log/00000000000000000004.json\n",
      "gs://dll-data-bucket-885979867746/delta-consumable/_delta_log/00000000000000000005.json\n",
      "gs://dll-data-bucket-885979867746/delta-consumable/_delta_log/00000000000000000006.json\n",
      "gs://dll-data-bucket-885979867746/delta-consumable/_delta_log/00000000000000000007.json\n",
      "gs://dll-data-bucket-885979867746/delta-consumable/_delta_log/00000000000000000008.json\n",
      "gs://dll-data-bucket-885979867746/delta-consumable/_delta_log/00000000000000000009.json\n",
      "gs://dll-data-bucket-885979867746/delta-consumable/_delta_log/00000000000000000010.checkpoint.parquet\n",
      "gs://dll-data-bucket-885979867746/delta-consumable/_delta_log/00000000000000000010.json\n",
      "gs://dll-data-bucket-885979867746/delta-consumable/_delta_log/00000000000000000011.json\n",
      "gs://dll-data-bucket-885979867746/delta-consumable/_delta_log/00000000000000000012.json\n",
      "gs://dll-data-bucket-885979867746/delta-consumable/_delta_log/_last_checkpoint\n",
      "\n",
      "gs://dll-data-bucket-885979867746/delta-consumable/_symlink_format_manifest/:\n",
      "gs://dll-data-bucket-885979867746/delta-consumable/_symlink_format_manifest/\n",
      "gs://dll-data-bucket-885979867746/delta-consumable/_symlink_format_manifest/manifest\n"
     ]
    }
   ],
   "source": [
    "!gsutil ls -r $DELTA_LAKE_DIR_ROOT"
   ]
  },
  {
   "cell_type": "code",
   "execution_count": 17,
   "id": "e55e5aa3-735a-4ce2-a889-7b92369fea88",
   "metadata": {},
   "outputs": [
    {
     "name": "stdout",
     "output_type": "stream",
     "text": [
      "30\n"
     ]
    }
   ],
   "source": [
    "!gsutil ls -r $DELTA_LAKE_DIR_ROOT/part* | wc -l"
   ]
  },
  {
   "cell_type": "markdown",
   "id": "a99139af-af6f-4ac8-a690-fede3e3d34bd",
   "metadata": {},
   "source": [
    "Because of the update, the data got copied over"
   ]
  },
  {
   "cell_type": "markdown",
   "id": "62ca0564-1495-449f-a1ae-154ba68fd804",
   "metadata": {},
   "source": [
    "### 6. Create a deep clone\n",
    "A deep clone copies the data over."
   ]
  },
  {
   "cell_type": "code",
   "execution_count": 19,
   "id": "4fcff533-ca5d-40fc-a6ce-8f8d8ae28936",
   "metadata": {},
   "outputs": [
    {
     "name": "stdout",
     "output_type": "stream",
     "text": [
      "gs://dll-data-bucket-885979867746/delta-consumable/deep_clone/\n"
     ]
    }
   ],
   "source": [
    "DEEP_CLONE_DIR = f\"{DELTA_LAKE_DIR_ROOT}/deep_clone/\"\n",
    "print(DEEP_CLONE_DIR)"
   ]
  },
  {
   "cell_type": "code",
   "execution_count": 20,
   "id": "11a0b04d-8da8-4fea-a7c1-f1b654eb948c",
   "metadata": {},
   "outputs": [
    {
     "ename": "ParseException",
     "evalue": "\nSyntax error at or near 'DEEP'(line 1, pos 70)\n\n== SQL ==\nCREATE TABLE IF NOT EXISTS loan_db.loans_by_state_delta_clone_shallow DEEP CLONE loan_db.loans_by_state_delta LOCATION \"gs://dll-data-bucket-885979867746/delta-consumable/deep_clone/\"\n----------------------------------------------------------------------^^^\n",
     "output_type": "error",
     "traceback": [
      "\u001b[0;31m---------------------------------------------------------------------------\u001b[0m",
      "\u001b[0;31mParseException\u001b[0m                            Traceback (most recent call last)",
      "Cell \u001b[0;32mIn [20], line 1\u001b[0m\n\u001b[0;32m----> 1\u001b[0m \u001b[43mspark\u001b[49m\u001b[38;5;241;43m.\u001b[39;49m\u001b[43msql\u001b[49m\u001b[43m(\u001b[49m\u001b[38;5;124;43mf\u001b[39;49m\u001b[38;5;124;43m\"\u001b[39;49m\u001b[38;5;124;43mCREATE TABLE IF NOT EXISTS loan_db.loans_by_state_delta_clone_shallow DEEP CLONE loan_db.loans_by_state_delta LOCATION \u001b[39;49m\u001b[38;5;130;43;01m\\\"\u001b[39;49;00m\u001b[38;5;132;43;01m{\u001b[39;49;00m\u001b[43mDEEP_CLONE_DIR\u001b[49m\u001b[38;5;132;43;01m}\u001b[39;49;00m\u001b[38;5;130;43;01m\\\"\u001b[39;49;00m\u001b[38;5;124;43m\"\u001b[39;49m\u001b[43m)\u001b[49m\n",
      "File \u001b[0;32m/usr/lib/spark/python/pyspark/sql/session.py:1034\u001b[0m, in \u001b[0;36mSparkSession.sql\u001b[0;34m(self, sqlQuery, **kwargs)\u001b[0m\n\u001b[1;32m   1032\u001b[0m     sqlQuery \u001b[38;5;241m=\u001b[39m formatter\u001b[38;5;241m.\u001b[39mformat(sqlQuery, \u001b[38;5;241m*\u001b[39m\u001b[38;5;241m*\u001b[39mkwargs)\n\u001b[1;32m   1033\u001b[0m \u001b[38;5;28;01mtry\u001b[39;00m:\n\u001b[0;32m-> 1034\u001b[0m     \u001b[38;5;28;01mreturn\u001b[39;00m DataFrame(\u001b[38;5;28;43mself\u001b[39;49m\u001b[38;5;241;43m.\u001b[39;49m\u001b[43m_jsparkSession\u001b[49m\u001b[38;5;241;43m.\u001b[39;49m\u001b[43msql\u001b[49m\u001b[43m(\u001b[49m\u001b[43msqlQuery\u001b[49m\u001b[43m)\u001b[49m, \u001b[38;5;28mself\u001b[39m)\n\u001b[1;32m   1035\u001b[0m \u001b[38;5;28;01mfinally\u001b[39;00m:\n\u001b[1;32m   1036\u001b[0m     \u001b[38;5;28;01mif\u001b[39;00m \u001b[38;5;28mlen\u001b[39m(kwargs) \u001b[38;5;241m>\u001b[39m \u001b[38;5;241m0\u001b[39m:\n",
      "File \u001b[0;32m/usr/lib/spark/python/lib/py4j-0.10.9.5-src.zip/py4j/java_gateway.py:1321\u001b[0m, in \u001b[0;36mJavaMember.__call__\u001b[0;34m(self, *args)\u001b[0m\n\u001b[1;32m   1315\u001b[0m command \u001b[38;5;241m=\u001b[39m proto\u001b[38;5;241m.\u001b[39mCALL_COMMAND_NAME \u001b[38;5;241m+\u001b[39m\\\n\u001b[1;32m   1316\u001b[0m     \u001b[38;5;28mself\u001b[39m\u001b[38;5;241m.\u001b[39mcommand_header \u001b[38;5;241m+\u001b[39m\\\n\u001b[1;32m   1317\u001b[0m     args_command \u001b[38;5;241m+\u001b[39m\\\n\u001b[1;32m   1318\u001b[0m     proto\u001b[38;5;241m.\u001b[39mEND_COMMAND_PART\n\u001b[1;32m   1320\u001b[0m answer \u001b[38;5;241m=\u001b[39m \u001b[38;5;28mself\u001b[39m\u001b[38;5;241m.\u001b[39mgateway_client\u001b[38;5;241m.\u001b[39msend_command(command)\n\u001b[0;32m-> 1321\u001b[0m return_value \u001b[38;5;241m=\u001b[39m \u001b[43mget_return_value\u001b[49m\u001b[43m(\u001b[49m\n\u001b[1;32m   1322\u001b[0m \u001b[43m    \u001b[49m\u001b[43manswer\u001b[49m\u001b[43m,\u001b[49m\u001b[43m \u001b[49m\u001b[38;5;28;43mself\u001b[39;49m\u001b[38;5;241;43m.\u001b[39;49m\u001b[43mgateway_client\u001b[49m\u001b[43m,\u001b[49m\u001b[43m \u001b[49m\u001b[38;5;28;43mself\u001b[39;49m\u001b[38;5;241;43m.\u001b[39;49m\u001b[43mtarget_id\u001b[49m\u001b[43m,\u001b[49m\u001b[43m \u001b[49m\u001b[38;5;28;43mself\u001b[39;49m\u001b[38;5;241;43m.\u001b[39;49m\u001b[43mname\u001b[49m\u001b[43m)\u001b[49m\n\u001b[1;32m   1324\u001b[0m \u001b[38;5;28;01mfor\u001b[39;00m temp_arg \u001b[38;5;129;01min\u001b[39;00m temp_args:\n\u001b[1;32m   1325\u001b[0m     temp_arg\u001b[38;5;241m.\u001b[39m_detach()\n",
      "File \u001b[0;32m/usr/lib/spark/python/pyspark/sql/utils.py:196\u001b[0m, in \u001b[0;36mcapture_sql_exception.<locals>.deco\u001b[0;34m(*a, **kw)\u001b[0m\n\u001b[1;32m    192\u001b[0m converted \u001b[38;5;241m=\u001b[39m convert_exception(e\u001b[38;5;241m.\u001b[39mjava_exception)\n\u001b[1;32m    193\u001b[0m \u001b[38;5;28;01mif\u001b[39;00m \u001b[38;5;129;01mnot\u001b[39;00m \u001b[38;5;28misinstance\u001b[39m(converted, UnknownException):\n\u001b[1;32m    194\u001b[0m     \u001b[38;5;66;03m# Hide where the exception came from that shows a non-Pythonic\u001b[39;00m\n\u001b[1;32m    195\u001b[0m     \u001b[38;5;66;03m# JVM exception message.\u001b[39;00m\n\u001b[0;32m--> 196\u001b[0m     \u001b[38;5;28;01mraise\u001b[39;00m converted \u001b[38;5;28;01mfrom\u001b[39;00m \u001b[38;5;28mNone\u001b[39m\n\u001b[1;32m    197\u001b[0m \u001b[38;5;28;01melse\u001b[39;00m:\n\u001b[1;32m    198\u001b[0m     \u001b[38;5;28;01mraise\u001b[39;00m\n",
      "\u001b[0;31mParseException\u001b[0m: \nSyntax error at or near 'DEEP'(line 1, pos 70)\n\n== SQL ==\nCREATE TABLE IF NOT EXISTS loan_db.loans_by_state_delta_clone_shallow DEEP CLONE loan_db.loans_by_state_delta LOCATION \"gs://dll-data-bucket-885979867746/delta-consumable/deep_clone/\"\n----------------------------------------------------------------------^^^\n"
     ]
    }
   ],
   "source": [
    "spark.sql(f\"CREATE TABLE IF NOT EXISTS loan_db.loans_by_state_delta_clone_shallow DEEP CLONE loan_db.loans_by_state_delta LOCATION \\\"{DEEP_CLONE_DIR}\\\"\")\n",
    "\n"
   ]
  },
  {
   "cell_type": "code",
   "execution_count": 21,
   "id": "d325312d-bf1b-4b10-b24b-8a443978c113",
   "metadata": {},
   "outputs": [
    {
     "name": "stdout",
     "output_type": "stream",
     "text": [
      "gs://dll-data-bucket-885979867746/delta-consumable/:\n",
      "gs://dll-data-bucket-885979867746/delta-consumable/part-00000-0d0c8ea0-982f-4f67-ab9d-62f94e57db11-c000.snappy.parquet\n",
      "gs://dll-data-bucket-885979867746/delta-consumable/part-00000-27993337-bc5b-4c93-9ab0-b77f48ac9160-c000.snappy.parquet\n",
      "gs://dll-data-bucket-885979867746/delta-consumable/part-00000-293e9d10-a628-4cf0-b86c-f9f289913756-c000.snappy.parquet\n",
      "gs://dll-data-bucket-885979867746/delta-consumable/part-00000-33f34593-184c-40b8-adfe-73facf9f043f-c000.snappy.parquet\n",
      "gs://dll-data-bucket-885979867746/delta-consumable/part-00000-595b5ba1-408f-404d-91ee-7bc396235870-c000.snappy.parquet\n",
      "gs://dll-data-bucket-885979867746/delta-consumable/part-00000-5c57d030-c1f7-4f7b-b5d8-2100c4426482-c000.snappy.parquet\n",
      "gs://dll-data-bucket-885979867746/delta-consumable/part-00000-670d672a-c41d-4391-a47e-90d45e589ac2-c000.snappy.parquet\n",
      "gs://dll-data-bucket-885979867746/delta-consumable/part-00000-8572a416-efe4-47bf-ab8b-755973ae5a7a-c000.snappy.parquet\n",
      "gs://dll-data-bucket-885979867746/delta-consumable/part-00000-87c9eb32-b09f-438c-84ee-3bd37fc01fb4-c000.snappy.parquet\n",
      "gs://dll-data-bucket-885979867746/delta-consumable/part-00000-9e3ca1ea-93a4-455a-9988-5e1250281ac0-c000.snappy.parquet\n",
      "gs://dll-data-bucket-885979867746/delta-consumable/part-00000-b11e7e93-f44f-4d92-8613-c20f22858111-c000.snappy.parquet\n",
      "gs://dll-data-bucket-885979867746/delta-consumable/part-00000-b77f8967-b01f-4604-a3f3-3074163693e4-c000.snappy.parquet\n",
      "gs://dll-data-bucket-885979867746/delta-consumable/part-00000-c2a74fad-c560-4efd-8b2e-5a8a7ddcc62e-c000.snappy.parquet\n",
      "gs://dll-data-bucket-885979867746/delta-consumable/part-00001-02e1912c-5a9a-4513-975e-bee0dbfc6074-c000.snappy.parquet\n",
      "gs://dll-data-bucket-885979867746/delta-consumable/part-00001-3b7fbc64-5d70-4ea7-833e-783a2022ba14-c000.snappy.parquet\n",
      "gs://dll-data-bucket-885979867746/delta-consumable/part-00001-507070b7-0126-42de-96b9-1569f40f2a9d-c000.snappy.parquet\n",
      "gs://dll-data-bucket-885979867746/delta-consumable/part-00001-6b666243-9918-4e4a-9de1-dc024e1f1ccb-c000.snappy.parquet\n",
      "gs://dll-data-bucket-885979867746/delta-consumable/part-00001-802cf333-7729-48c0-ba04-83f994889805-c000.snappy.parquet\n",
      "gs://dll-data-bucket-885979867746/delta-consumable/part-00002-4a0bacc0-eadb-4ebf-9a2c-003a3869e100-c000.snappy.parquet\n",
      "gs://dll-data-bucket-885979867746/delta-consumable/part-00002-570c06cd-732f-494f-ab81-2732881e654f-c000.snappy.parquet\n",
      "gs://dll-data-bucket-885979867746/delta-consumable/part-00002-639ad7ad-9a0e-484a-84b9-fc29a9ce5dc0-c000.snappy.parquet\n",
      "gs://dll-data-bucket-885979867746/delta-consumable/part-00002-d5954153-cb49-4365-89fa-12a9c468ca42-c000.snappy.parquet\n",
      "gs://dll-data-bucket-885979867746/delta-consumable/part-00003-07e1d0de-f6ba-4f9b-8389-1f5c8029f974-c000.snappy.parquet\n",
      "gs://dll-data-bucket-885979867746/delta-consumable/part-00003-1fa442f2-dcf0-4939-900e-a20f7e0cf473-c000.snappy.parquet\n",
      "gs://dll-data-bucket-885979867746/delta-consumable/part-00003-673e58d6-d7d3-42df-adef-c089ca235619-c000.snappy.parquet\n",
      "gs://dll-data-bucket-885979867746/delta-consumable/part-00003-e7773bde-ec22-4511-a9bf-4b11ba923113-c000.snappy.parquet\n",
      "gs://dll-data-bucket-885979867746/delta-consumable/part-00004-7cab9918-31a5-4d07-9ce5-08e96aa10b64-c000.snappy.parquet\n",
      "gs://dll-data-bucket-885979867746/delta-consumable/part-00004-8cb50719-40b0-4b60-9845-037f6cc454f0-c000.snappy.parquet\n",
      "gs://dll-data-bucket-885979867746/delta-consumable/part-00005-62047667-10b5-49e1-9741-5197b75d58a4-c000.snappy.parquet\n",
      "gs://dll-data-bucket-885979867746/delta-consumable/part-00005-68864e73-c67c-4255-b94f-a6b710c74037-c000.snappy.parquet\n",
      "\n",
      "gs://dll-data-bucket-885979867746/delta-consumable/_delta_log/:\n",
      "gs://dll-data-bucket-885979867746/delta-consumable/_delta_log/\n",
      "gs://dll-data-bucket-885979867746/delta-consumable/_delta_log/00000000000000000000.json\n",
      "gs://dll-data-bucket-885979867746/delta-consumable/_delta_log/00000000000000000001.json\n",
      "gs://dll-data-bucket-885979867746/delta-consumable/_delta_log/00000000000000000002.json\n",
      "gs://dll-data-bucket-885979867746/delta-consumable/_delta_log/00000000000000000003.json\n",
      "gs://dll-data-bucket-885979867746/delta-consumable/_delta_log/00000000000000000004.json\n",
      "gs://dll-data-bucket-885979867746/delta-consumable/_delta_log/00000000000000000005.json\n",
      "gs://dll-data-bucket-885979867746/delta-consumable/_delta_log/00000000000000000006.json\n",
      "gs://dll-data-bucket-885979867746/delta-consumable/_delta_log/00000000000000000007.json\n",
      "gs://dll-data-bucket-885979867746/delta-consumable/_delta_log/00000000000000000008.json\n",
      "gs://dll-data-bucket-885979867746/delta-consumable/_delta_log/00000000000000000009.json\n",
      "gs://dll-data-bucket-885979867746/delta-consumable/_delta_log/00000000000000000010.checkpoint.parquet\n",
      "gs://dll-data-bucket-885979867746/delta-consumable/_delta_log/00000000000000000010.json\n",
      "gs://dll-data-bucket-885979867746/delta-consumable/_delta_log/00000000000000000011.json\n",
      "gs://dll-data-bucket-885979867746/delta-consumable/_delta_log/00000000000000000012.json\n",
      "gs://dll-data-bucket-885979867746/delta-consumable/_delta_log/_last_checkpoint\n",
      "\n",
      "gs://dll-data-bucket-885979867746/delta-consumable/_symlink_format_manifest/:\n",
      "gs://dll-data-bucket-885979867746/delta-consumable/_symlink_format_manifest/\n",
      "gs://dll-data-bucket-885979867746/delta-consumable/_symlink_format_manifest/manifest\n"
     ]
    }
   ],
   "source": [
    "!gsutil ls -r $DELTA_LAKE_DIR_ROOT"
   ]
  },
  {
   "cell_type": "code",
   "execution_count": 22,
   "id": "9e43a902-4435-43f6-b566-392665139dc9",
   "metadata": {},
   "outputs": [
    {
     "name": "stdout",
     "output_type": "stream",
     "text": [
      "30\n"
     ]
    }
   ],
   "source": [
    "!gsutil ls -r $DELTA_LAKE_DIR_ROOT/part* | wc -l"
   ]
  },
  {
   "cell_type": "markdown",
   "id": "b86593ab-c082-4067-8f45-4d7f1836fef4",
   "metadata": {},
   "source": [
    "### THIS CONCLUDES THIS UNIT. PROCEED TO THE NEXT NOTEBOOK."
   ]
  }
 ],
 "metadata": {
  "language_info": {
   "codemirror_mode": {
    "name": "ipython",
    "version": 3
   },
   "file_extension": ".py",
   "mimetype": "text/x-python",
   "name": "python",
   "nbconvert_exporter": "python",
   "pygments_lexer": "ipython3",
   "version": "3.10.6"
  },
  "serverless_spark": "{\"name\":\"projects/delta-lake-lab/locations/us-central1/sessions/delta-lake-lab-17718\",\"uuid\":\"cb959c82-1002-4915-aed8-85c83d4e81f4\",\"createTime\":\"2022-10-22T17:30:32.565848Z\",\"jupyterSession\":{},\"spark\":{},\"runtimeInfo\":{\"endpoints\":{\"Spark History Server\":\"https://smmei2wdurb7nptroshcbbgeda-dot-us-central1.dataproc.googleusercontent.com/sparkhistory/\"}},\"state\":\"ACTIVE\",\"stateTime\":\"2022-10-22T17:32:38.942362Z\",\"creator\":\"admin@akhanolkar.altostrat.com\",\"runtimeConfig\":{\"version\":\"2.0\",\"properties\":{\"spark:spark.jars.packages\":\"io.delta:delta-core_2.13:2.1.0\",\"spark:spark.sql.catalog.spark_catalog\":\"org.apache.spark.sql.delta.catalog.DeltaCatalog\",\"spark:spark.sql.extensions\":\"io.delta.sql.DeltaSparkSessionExtension\",\"spark:spark.executor.instances\":\"2\",\"spark:spark.driver.cores\":\"4\",\"spark:spark.executor.cores\":\"4\",\"spark:spark.dynamicAllocation.executorAllocationRatio\":\"0.3\",\"spark:spark.eventLog.dir\":\"gs://dll-sphs-bucket-885979867746/cb959c82-1002-4915-aed8-85c83d4e81f4/spark-job-history\"}},\"environmentConfig\":{\"executionConfig\":{\"serviceAccount\":\"dll-lab-sa@delta-lake-lab.iam.gserviceaccount.com\",\"subnetworkUri\":\"spark-snet\",\"idleTtl\":\"14400s\"},\"peripheralsConfig\":{\"metastoreService\":\"projects/delta-lake-lab/locations/us-central1/services/dll-hms-885979867746\",\"sparkHistoryServerConfig\":{\"dataprocCluster\":\"projects/delta-lake-lab/regions/us-central1/clusters/dll-sphs-885979867746\"}}},\"stateHistory\":[{\"state\":\"CREATING\",\"stateStartTime\":\"2022-10-22T17:30:32.565848Z\"}]}",
  "serverless_spark_kernel_name": "remote-19c93264a411c8234417320a-pyspark",
  "vscode": {
   "interpreter": {
    "hash": "aee8b7b246df8f9039afb4144a1f6fd8d2ca17a180786b69acc140d282b71a49"
   }
  }
 },
 "nbformat": 4,
 "nbformat_minor": 5
}