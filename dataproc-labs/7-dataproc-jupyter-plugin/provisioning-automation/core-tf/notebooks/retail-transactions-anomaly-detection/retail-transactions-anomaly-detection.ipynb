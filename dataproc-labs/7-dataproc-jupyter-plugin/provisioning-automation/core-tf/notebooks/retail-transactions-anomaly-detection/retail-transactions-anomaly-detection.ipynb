{
 "cells": [
  {
   "cell_type": "code",
   "execution_count": 1,
   "id": "7d6d6469-48f3-4839-bffb-e2f905b66b49",
   "metadata": {},
   "outputs": [],
   "source": [
    "from google.cloud import bigquery\n",
    "from google.api_core.client_options import ClientOptions\n",
    "import os\n",
    "import warnings\n",
    "warnings.filterwarnings('ignore')\n",
    "import pandas as pd\n",
    "\n",
    "project = os.environ['GOOGLE_CLOUD_PROJECT']\n",
    "options = ClientOptions(quota_project_id=project)\n",
    "client = bigquery.Client(client_options=options)\n",
    "client = bigquery.Client()"
   ]
  },
  {
   "cell_type": "markdown",
   "id": "59c07adf-95c2-4cbf-a51b-877f695014d7",
   "metadata": {},
   "source": [
    "<h2>Load dataset </h2>"
   ]
  },
  {
   "cell_type": "code",
   "execution_count": null,
   "id": "70541303-7e46-4b6e-88d6-54851d1ebba2",
   "metadata": {},
   "outputs": [],
   "source": [
    "sql = '''select * from procurement.offlinesales limit 100;'''\n",
    "\n",
    "df = client.query(sql).to_dataframe()"
   ]
  },
  {
   "cell_type": "code",
   "execution_count": 4,
   "id": "c8a5e45a-29a8-4730-a192-9fbabf6433e9",
   "metadata": {},
   "outputs": [
    {
     "data": {
      "text/html": [
       "<div>\n",
       "<style scoped>\n",
       "    .dataframe tbody tr th:only-of-type {\n",
       "        vertical-align: middle;\n",
       "    }\n",
       "\n",
       "    .dataframe tbody tr th {\n",
       "        vertical-align: top;\n",
       "    }\n",
       "\n",
       "    .dataframe thead th {\n",
       "        text-align: right;\n",
       "    }\n",
       "</style>\n",
       "<table border=\"1\" class=\"dataframe\">\n",
       "  <thead>\n",
       "    <tr style=\"text-align: right;\">\n",
       "      <th></th>\n",
       "      <th>orderid</th>\n",
       "      <th>product</th>\n",
       "      <th>quantityordered</th>\n",
       "      <th>unitprice</th>\n",
       "      <th>orderdate</th>\n",
       "      <th>purchaseaddress</th>\n",
       "    </tr>\n",
       "  </thead>\n",
       "  <tbody>\n",
       "    <tr>\n",
       "      <th>0</th>\n",
       "      <td>162009</td>\n",
       "      <td>iPhone</td>\n",
       "      <td>1</td>\n",
       "      <td>700</td>\n",
       "      <td>03/28/19 20:59</td>\n",
       "      <td>942 Church St</td>\n",
       "    </tr>\n",
       "    <tr>\n",
       "      <th>1</th>\n",
       "      <td>162009</td>\n",
       "      <td>Lightning Charging Cable</td>\n",
       "      <td>1</td>\n",
       "      <td>14.95</td>\n",
       "      <td>03/28/19 20:59</td>\n",
       "      <td>942 Church St</td>\n",
       "    </tr>\n",
       "    <tr>\n",
       "      <th>2</th>\n",
       "      <td>162009</td>\n",
       "      <td>Wired Headphones</td>\n",
       "      <td>2</td>\n",
       "      <td>11.99</td>\n",
       "      <td>03/28/19 20:59</td>\n",
       "      <td>942 Church St</td>\n",
       "    </tr>\n",
       "    <tr>\n",
       "      <th>3</th>\n",
       "      <td>162010</td>\n",
       "      <td>Bose SoundSport Headphones</td>\n",
       "      <td>1</td>\n",
       "      <td>99.99</td>\n",
       "      <td>03/17/19 05:39</td>\n",
       "      <td>261 10th St</td>\n",
       "    </tr>\n",
       "    <tr>\n",
       "      <th>4</th>\n",
       "      <td>162011</td>\n",
       "      <td>34in Ultrawide Monitor</td>\n",
       "      <td>1</td>\n",
       "      <td>379.99</td>\n",
       "      <td>03/10/19 00:01</td>\n",
       "      <td>764 13th St</td>\n",
       "    </tr>\n",
       "  </tbody>\n",
       "</table>\n",
       "</div>"
      ],
      "text/plain": [
       "  orderid                     product quantityordered unitprice  \\\n",
       "0  162009                      iPhone               1       700   \n",
       "1  162009    Lightning Charging Cable               1     14.95   \n",
       "2  162009            Wired Headphones               2     11.99   \n",
       "3  162010  Bose SoundSport Headphones               1     99.99   \n",
       "4  162011      34in Ultrawide Monitor               1    379.99   \n",
       "\n",
       "        orderdate purchaseaddress  \n",
       "0  03/28/19 20:59   942 Church St  \n",
       "1  03/28/19 20:59   942 Church St  \n",
       "2  03/28/19 20:59   942 Church St  \n",
       "3  03/17/19 05:39     261 10th St  \n",
       "4  03/10/19 00:01     764 13th St  "
      ]
     },
     "execution_count": 4,
     "metadata": {},
     "output_type": "execute_result"
    }
   ],
   "source": [
    "df.head()"
   ]
  },
  {
   "cell_type": "markdown",
   "id": "4a1c22de-8d0e-4641-9fb5-75ee3eb8b5f7",
   "metadata": {},
   "source": [
    "<h2>Run Isolation Forest algorithm to discover the anomalies in the dataset </h2>"
   ]
  },
  {
   "cell_type": "code",
   "execution_count": 6,
   "id": "a04877f1-c8cb-40a3-8002-37fd15bdd5a6",
   "metadata": {},
   "outputs": [
    {
     "name": "stdout",
     "output_type": "stream",
     "text": [
      " 1    89\n",
      "-1    11\n",
      "Name: anomaly, dtype: int64\n"
     ]
    }
   ],
   "source": [
    "to_model_columns = df.columns[2:4]\n",
    "from sklearn.ensemble import IsolationForest\n",
    "clf=IsolationForest(n_estimators=100, max_samples='auto', contamination=float(.12), \\\n",
    "                        max_features=1.0, bootstrap=False, n_jobs=-1, random_state=42, verbose=0)\n",
    "clf.fit(df[to_model_columns])\n",
    "pred = clf.predict(df[to_model_columns])\n",
    "df['anomaly']=pred\n",
    "outliers=df.loc[df['anomaly']==-1]\n",
    "outlier_index=list(outliers.index)\n",
    "#print(outlier_index)\n",
    "#Find the number of anomalies and normal points here points classified -1 are anomalous\n",
    "print(df['anomaly'].value_counts())"
   ]
  },
  {
   "cell_type": "markdown",
   "id": "8c87415e-0695-4400-8cd1-dd9f37f46605",
   "metadata": {},
   "source": [
    "<h2>Plot the predicted anomalies </h2>"
   ]
  },
  {
   "cell_type": "code",
   "execution_count": 10,
   "id": "4049e5c8-b63e-4f53-9ad7-6311696c9e5b",
   "metadata": {},
   "outputs": [
    {
     "data": {
      "image/png": "[encoded data removed]",
      "text/plain": [
       "<Figure size 432x288 with 1 Axes>"
      ]
     },
     "metadata": {
      "needs_background": "light"
     },
     "output_type": "display_data"
    }
   ],
   "source": [
    "import numpy as np\n",
    "from sklearn.decomposition import PCA\n",
    "pca = PCA(2)\n",
    "pca.fit(df[to_model_columns])\n",
    "res=pd.DataFrame(pca.transform(df[to_model_columns]))\n",
    "Z = np.array(res)\n",
    "plt.title(\"IsolationForest\")\n",
    "plt.contourf( Z, cmap=plt.cm.Blues_r)\n",
    "b1 = plt.scatter(res[0], res[1], c='green',\n",
    "                 s=20,label=\"normal points\")\n",
    "b1 =plt.scatter(res.iloc[outlier_index,0],res.iloc[outlier_index,1], c='green',s=20,  edgecolor=\"red\",label=\"predicted outliers\")\n",
    "plt.legend(loc=\"upper right\")\n",
    "plt.show()"
   ]
  },
  {
   "cell_type": "code",
   "execution_count": null,
   "id": "798ed99f-96eb-47f3-a51d-cc7439efc0b7",
   "metadata": {},
   "outputs": [],
   "source": []
  }
 ],
 "metadata": {
  "kernelspec": {
   "display_name": "Python 3",
   "language": "python",
   "name": "python3"
  },
  "language_info": {
   "codemirror_mode": {
    "name": "ipython",
    "version": 3
   },
   "file_extension": ".py",
   "mimetype": "text/x-python",
   "name": "python",
   "nbconvert_exporter": "python",
   "pygments_lexer": "ipython3",
   "version": "3.8.15"
  }
 },
 "nbformat": 4,
 "nbformat_minor": 5
}