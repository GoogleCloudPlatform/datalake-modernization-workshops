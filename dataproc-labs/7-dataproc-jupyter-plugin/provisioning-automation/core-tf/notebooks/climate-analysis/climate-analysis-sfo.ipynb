{
 "cells": [
  {
   "cell_type": "code",
   "execution_count": 1,
   "id": "06eaa3bf-4ea3-497c-a5bf-a8b29c680a83",
   "metadata": {
    "tags": []
   },
   "outputs": [
    {
     "name": "stderr",
     "output_type": "stream",
     "text": [
      "23/09/27 19:09:23 WARN SparkSession: Using an existing Spark session; only runtime SQL configurations will take effect.\n"
     ]
    }
   ],
   "source": [
    "from pyspark.sql import SparkSession\n",
    "PYARROW_IGNORE_TIMEZONE=1\n",
    "spark = SparkSession.builder \\\n",
    "      .appName(\"Dataproc Interactive Demo\") \\\n",
    "      .getOrCreate() \n"
   ]
  },
  {
   "cell_type": "code",
   "execution_count": 2,
   "id": "0e0d7cab-ab4d-47c3-a638-c9d3b5dfa111",
   "metadata": {},
   "outputs": [
    {
     "name": "stderr",
     "output_type": "stream",
     "text": [
      "                                                                                \r"
     ]
    }
   ],
   "source": [
    "input_df = spark.read.option(\"header\", True).csv('gs://djsoltani-notebooks/public-data/3416438.csv')"
   ]
  },
  {
   "cell_type": "code",
   "execution_count": 3,
   "id": "6af29220-6f8b-4991-9120-3ddfbf8c58c3",
   "metadata": {},
   "outputs": [],
   "source": [
    "from pyspark.sql.types import IntegerType, BooleanType, DateType\n",
    "df = input_df.select(input_df.DATE.cast('date'), input_df.TMAX.cast('int'), input_df.TMIN.cast('int'))\n"
   ]
  },
  {
   "cell_type": "code",
   "execution_count": 4,
   "id": "e82a1c84-f905-48bd-a263-f6931a37a359",
   "metadata": {},
   "outputs": [
    {
     "name": "stderr",
     "output_type": "stream",
     "text": [
      "[Stage 1:>                                                          (0 + 1) / 1]\r"
     ]
    },
    {
     "name": "stdout",
     "output_type": "stream",
     "text": [
      "+----------+----+----+\n",
      "|      DATE|TMAX|TMIN|\n",
      "+----------+----+----+\n",
      "|1945-07-01|  74|  54|\n",
      "|1945-07-02|  71|  54|\n",
      "|1945-07-03|  72|  55|\n",
      "|1945-07-04|  72|  54|\n",
      "|1945-07-05|  66|  55|\n",
      "|1945-07-06|  65|  54|\n",
      "|1945-07-07|  68|  54|\n",
      "|1945-07-08|  69|  53|\n",
      "|1945-07-09|  66|  56|\n",
      "|1945-07-10|  69|  54|\n",
      "|1945-07-11|  65|  55|\n",
      "|1945-07-12|  65|  56|\n",
      "|1945-07-13|  64|  55|\n",
      "|1945-07-14|  66|  54|\n",
      "|1945-07-15|  70|  53|\n",
      "|1945-07-16|  74|  52|\n",
      "|1945-07-17|  77|  51|\n",
      "|1945-07-18|  64|  54|\n",
      "|1945-07-19|  64|  54|\n",
      "|1945-07-20|  76|  49|\n",
      "+----------+----+----+\n",
      "only showing top 20 rows\n",
      "\n"
     ]
    },
    {
     "name": "stderr",
     "output_type": "stream",
     "text": [
      "                                                                                \r"
     ]
    },
    {
     "data": {
      "text/plain": [
       "<bound method DataFrame.describe of DataFrame[DATE: date, TMAX: int, TMIN: int]>"
      ]
     },
     "execution_count": 4,
     "metadata": {},
     "output_type": "execute_result"
    }
   ],
   "source": [
    "df.show()\n",
    "df.describe"
   ]
  },
  {
   "cell_type": "code",
   "execution_count": 5,
   "id": "b9694268-6199-414d-812f-c706ef64aa8b",
   "metadata": {},
   "outputs": [
    {
     "name": "stderr",
     "output_type": "stream",
     "text": [
      "[Stage 2:>                                                          (0 + 1) / 1]\r"
     ]
    },
    {
     "name": "stdout",
     "output_type": "stream",
     "text": [
      "+----------+----+----+\n",
      "|      DATE|TMAX|TMIN|\n",
      "+----------+----+----+\n",
      "|1946-08-02|  91|  54|\n",
      "|1946-09-19|  91|  57|\n",
      "|1946-09-22|  91|  55|\n",
      "|1946-09-28|  91|  54|\n",
      "|1947-06-22|  91|  53|\n",
      "|1947-09-20|  92|  48|\n",
      "|1947-09-21|  94|  57|\n",
      "|1949-06-04|  92|  66|\n",
      "|1950-05-29|  92|  48|\n",
      "|1950-08-15|  90|  50|\n",
      "|1950-09-01|  90|  51|\n",
      "|1950-09-02|  93|  56|\n",
      "|1950-09-03|  91|  56|\n",
      "|1951-09-08|  93|  53|\n",
      "|1951-09-09|  92|  53|\n",
      "|1952-09-01|  93|  56|\n",
      "|1953-09-12|  90|  58|\n",
      "|1953-09-13|  94|  63|\n",
      "|1954-09-24|  91|  49|\n",
      "|1954-09-25|  90|  53|\n",
      "+----------+----+----+\n",
      "only showing top 20 rows\n",
      "\n"
     ]
    },
    {
     "name": "stderr",
     "output_type": "stream",
     "text": [
      "                                                                                \r"
     ]
    }
   ],
   "source": [
    "hot_days = df[df.TMAX >= 90]\n",
    "hot_days.show()"
   ]
  },
  {
   "cell_type": "code",
   "execution_count": 6,
   "id": "514c3431-98de-456a-814e-9938b1b71ccf",
   "metadata": {},
   "outputs": [
    {
     "name": "stderr",
     "output_type": "stream",
     "text": [
      "                                                                                \r"
     ]
    },
    {
     "data": {
      "text/plain": [
       "[Row(YEAR=2015, count=7),\n",
       " Row(YEAR=2022, count=5),\n",
       " Row(YEAR=2014, count=8),\n",
       " Row(YEAR=2019, count=9),\n",
       " Row(YEAR=2020, count=12),\n",
       " Row(YEAR=2012, count=2),\n",
       " Row(YEAR=2009, count=5),\n",
       " Row(YEAR=2016, count=2),\n",
       " Row(YEAR=2010, count=9),\n",
       " Row(YEAR=2011, count=2),\n",
       " Row(YEAR=2008, count=8),\n",
       " Row(YEAR=2017, count=5),\n",
       " Row(YEAR=2021, count=2),\n",
       " Row(YEAR=1959, count=4),\n",
       " Row(YEAR=1990, count=2),\n",
       " Row(YEAR=1975, count=2),\n",
       " Row(YEAR=1977, count=3),\n",
       " Row(YEAR=2003, count=7),\n",
       " Row(YEAR=1974, count=1),\n",
       " Row(YEAR=1955, count=2),\n",
       " Row(YEAR=2006, count=2),\n",
       " Row(YEAR=1978, count=4),\n",
       " Row(YEAR=1961, count=11),\n",
       " Row(YEAR=1952, count=1),\n",
       " Row(YEAR=1956, count=4),\n",
       " Row(YEAR=1988, count=5),\n",
       " Row(YEAR=1997, count=4),\n",
       " Row(YEAR=1994, count=1),\n",
       " Row(YEAR=1968, count=3),\n",
       " Row(YEAR=1951, count=2),\n",
       " Row(YEAR=1973, count=6),\n",
       " Row(YEAR=1979, count=4),\n",
       " Row(YEAR=1946, count=4),\n",
       " Row(YEAR=1947, count=3),\n",
       " Row(YEAR=1971, count=5),\n",
       " Row(YEAR=1950, count=5),\n",
       " Row(YEAR=1949, count=1),\n",
       " Row(YEAR=1966, count=4),\n",
       " Row(YEAR=2004, count=8),\n",
       " Row(YEAR=1991, count=1),\n",
       " Row(YEAR=1967, count=3),\n",
       " Row(YEAR=1982, count=2),\n",
       " Row(YEAR=1957, count=4),\n",
       " Row(YEAR=1989, count=5),\n",
       " Row(YEAR=1996, count=5),\n",
       " Row(YEAR=1998, count=1),\n",
       " Row(YEAR=1963, count=2),\n",
       " Row(YEAR=1985, count=6),\n",
       " Row(YEAR=1960, count=2),\n",
       " Row(YEAR=1970, count=8),\n",
       " Row(YEAR=1987, count=4),\n",
       " Row(YEAR=1995, count=4),\n",
       " Row(YEAR=1980, count=5),\n",
       " Row(YEAR=1953, count=2),\n",
       " Row(YEAR=2001, count=3),\n",
       " Row(YEAR=1972, count=2),\n",
       " Row(YEAR=1958, count=8),\n",
       " Row(YEAR=1992, count=2),\n",
       " Row(YEAR=1983, count=6),\n",
       " Row(YEAR=1954, count=2),\n",
       " Row(YEAR=1984, count=12),\n",
       " Row(YEAR=1964, count=5),\n",
       " Row(YEAR=2000, count=6),\n",
       " Row(YEAR=1981, count=3),\n",
       " Row(YEAR=1986, count=1),\n",
       " Row(YEAR=1976, count=11),\n",
       " Row(YEAR=1999, count=3),\n",
       " Row(YEAR=1962, count=2),\n",
       " Row(YEAR=2002, count=5),\n",
       " Row(YEAR=1993, count=6)]"
      ]
     },
     "execution_count": 6,
     "metadata": {},
     "output_type": "execute_result"
    }
   ],
   "source": [
    "from pyspark.sql.functions import col, year\n",
    "hot_days = hot_days.withColumn('YEAR', year('DATE')).groupBy('YEAR').count()\n",
    "hot_days.collect()"
   ]
  },
  {
   "cell_type": "code",
   "execution_count": 7,
   "id": "bd072f63-ba56-4f49-ac4c-9cb036ba6b16",
   "metadata": {},
   "outputs": [
    {
     "data": {
      "image/png": "[encoded data removed]",
      "text/plain": [
       "<Figure size 640x480 with 1 Axes>"
      ]
     },
     "metadata": {},
     "output_type": "display_data"
    }
   ],
   "source": [
    "import matplotlib.pyplot as plt\n",
    "hot_days_pd = hot_days.toPandas().sort_values(['YEAR']).rolling(window = 50).mean()\n",
    "plt.plot(hot_days_pd.YEAR, hot_days_pd['count'])\n",
    "plt.show()"
   ]
  },
  {
   "cell_type": "code",
   "execution_count": null,
   "id": "92df870c-a92f-4160-9cb2-9545deaf5e44",
   "metadata": {},
   "outputs": [],
   "source": []
  }
 ],
 "metadata": {
  "kernelspec": {
   "display_name": "Team Curiosity on Serverless Spark (Remote)",
   "language": "python",
   "name": "9c39b79e5d2e7072beb4bd59-curiosity"
  },
  "language_info": {
   "codemirror_mode": {
    "name": "ipython",
    "version": 3
   },
   "file_extension": ".py",
   "mimetype": "text/x-python",
   "name": "python",
   "nbconvert_exporter": "python",
   "pygments_lexer": "ipython3",
   "version": "3.11.0"
  }
 },
 "nbformat": 4,
 "nbformat_minor": 5
}
